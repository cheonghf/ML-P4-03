{
  "nbformat": 4,
  "nbformat_minor": 0,
  "metadata": {
    "colab": {
      "provenance": [],
      "authorship_tag": "ABX9TyOYTnXGk9s92ckAMWTb0xgf",
      "include_colab_link": true
    },
    "kernelspec": {
      "name": "python3",
      "display_name": "Python 3"
    },
    "language_info": {
      "name": "python"
    }
  },
  "cells": [
    {
      "cell_type": "markdown",
      "metadata": {
        "id": "view-in-github",
        "colab_type": "text"
      },
      "source": [
        "<a href=\"https://colab.research.google.com/github/cheonghf/ML-P4-03/blob/main/Project_SourceCode_P4_03.ipynb\" target=\"_parent\"><img src=\"https://colab.research.google.com/assets/colab-badge.svg\" alt=\"Open In Colab\"/></a>"
      ]
    },
    {
      "cell_type": "code",
      "execution_count": 25,
      "metadata": {
        "colab": {
          "base_uri": "https://localhost:8080/"
        },
        "id": "TUCEHGBI7bD6",
        "outputId": "fd4e31a1-c09c-4838-bcc1-74a11c478807",
        "collapsed": true
      },
      "outputs": [
        {
          "output_type": "stream",
          "name": "stdout",
          "text": [
            "TransactionID\n",
            "TX000003    10.114204\n",
            "TX000004     2.107714\n",
            "TX000005     0.180710\n",
            "TX000011     0.233416\n",
            "TX000012    11.055195\n",
            "              ...    \n",
            "TX002502     5.413191\n",
            "TX002503     5.427025\n",
            "TX002505     0.902838\n",
            "TX002511     9.474344\n",
            "TX002512    64.937355\n",
            "Length: 811, dtype: float64\n"
          ]
        }
      ],
      "source": [
        "import pandas as pd\n",
        "\n",
        "dataset_1 = 'https://raw.githubusercontent.com/cheonghf/ML-P4-03/refs/heads/main/bank_transactions_data_2.csv'\n",
        "\n",
        "bt_df1 = pd.read_csv(dataset_1, index_col = 0)\n",
        "\n",
        "#bt_df1.Channel.value_counts()\n",
        "\n",
        "# Filter the dataframe for transactions where the Channel is 'Online'\n",
        "df_atm = bt_df1[bt_df1['Channel'] == 'Online']\n",
        "\n",
        "df_atm_trans_percentage =  (df_atm['TransactionAmount'] / (df_atm['TransactionAmount'] + df_atm['AccountBalance'])) * 100\n",
        "\n",
        "#df_atm_cleaned = df_atm[['LoginAttempts','TransactionDuration']]"
      ]
    }
  ]
}