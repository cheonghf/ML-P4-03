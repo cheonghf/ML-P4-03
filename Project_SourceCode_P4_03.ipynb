{
  "nbformat": 4,
  "nbformat_minor": 0,
  "metadata": {
    "colab": {
      "provenance": [],
      "authorship_tag": "ABX9TyMsdZRraPGMsOzBr0QFknAl",
      "include_colab_link": true
    },
    "kernelspec": {
      "name": "python3",
      "display_name": "Python 3"
    },
    "language_info": {
      "name": "python"
    }
  },
  "cells": [
    {
      "cell_type": "markdown",
      "metadata": {
        "id": "view-in-github",
        "colab_type": "text"
      },
      "source": [
        "<a href=\"https://colab.research.google.com/github/cheonghf/ML-P4-03/blob/main/Project_SourceCode_P4_03.ipynb\" target=\"_parent\"><img src=\"https://colab.research.google.com/assets/colab-badge.svg\" alt=\"Open In Colab\"/></a>"
      ]
    },
    {
      "cell_type": "code",
      "execution_count": null,
      "metadata": {
        "id": "TUCEHGBI7bD6",
        "collapsed": true
      },
      "outputs": [],
      "source": [
        "import pandas as pd\n",
        "import matplotlib.pyplot as plt\n",
        "import seaborn as sns\n",
        "import numpy as np\n",
        "\n",
        "dataset_1 = 'https://raw.githubusercontent.com/cheonghf/ML-P4-03/refs/heads/main/bank_transactions_data_2.csv'\n",
        "\n",
        "bt_df1 = pd.read_csv(dataset_1, index_col = 0)\n",
        "\n",
        "#bt_df1.Channel.value_counts()\n",
        "\n",
        "df_online = bt_df1[bt_df1['Channel'] == 'Online'] #Filter the DataFrame for transactions where the Channel is 'Online'\n",
        "\n",
        "df_online_trans_percentage =  (df_online['TransactionAmount'] / (df_online['TransactionAmount'] + df_online['AccountBalance'])) * 100 #Calculation of OnlineTransactionPercentage\n",
        "\n",
        "df_online_diff = pd.DataFrame(df_online[\"TransactionAmount\"] >= df_online[\"AccountBalance\"]) #Return True to DataFrame Online Difference if TransactionAmount greater or equal to AccountBalance\n",
        "\n",
        "df_online_cleaned = df_online.loc[:, ['AccountID','LoginAttempts','TransactionDuration','CustomerAge', 'TransactionAmount']] #Filter only the required column and values\n",
        "\n",
        "df_online_cleaned['OnlineTransactionPercentage'] = df_online_trans_percentage #Insert Calculated OnlineTransactionPercentage\n",
        "\n",
        "df_online_cleaned['OnlineTransactionDifference'] = df_online_diff #Insert OnlineTransactionDifference\n",
        "\n",
        "df_online_cleaned = df_online_cleaned.set_index('AccountID', drop = False) #Set Index Label to 'AccountID'\n",
        "\n",
        "print(df_online_cleaned)\n"
      ]
    },
    {
      "cell_type": "code",
      "source": [
        "df_online_cleaned_corr = df_online_cleaned.get(['CustomerAge', 'OnlineTransactionPercentage','OnlineTransactionDifference', 'TransactionAmount'])\n",
        "\n",
        "corrmat = df_online_cleaned_corr.corr()\n",
        "\n",
        "sns.heatmap(corrmat,annot = True)\n",
        "plt.show()"
      ],
      "metadata": {
        "id": "JxaD7YXzV73h"
      },
      "execution_count": null,
      "outputs": []
    },
    {
      "cell_type": "code",
      "source": [
        "from sklearn.model_selection import train_test_split\n",
        "from sklearn.linear_model import LogisticRegression\n",
        "from sklearn.metrics import accuracy_score\n",
        "\n",
        "X = df_online_cleaned.loc[:, ['OnlineTransactionPercentage', 'TransactionAmount']]\n",
        "y = df_online_cleaned['OnlineTransactionDifference']\n",
        "\n",
        "X_train, X_test, y_train, y_test = train_test_split(X, y , test_size=0.3, random_state=1)\n",
        "\n",
        "# Train a Logistic Regression model\n",
        "model = LogisticRegression()\n",
        "model.fit(X_train, y_train)"
      ],
      "metadata": {
        "id": "6fue5jTvi4H8"
      },
      "execution_count": null,
      "outputs": []
    },
    {
      "cell_type": "code",
      "source": [
        "Y_pred = model.predict(X_test)"
      ],
      "metadata": {
        "id": "vR6JVAaii6QW"
      },
      "execution_count": null,
      "outputs": []
    },
    {
      "cell_type": "code",
      "source": [
        "from sklearn.metrics import confusion_matrix\n",
        "\n",
        "cm = confusion_matrix(y_test, Y_pred)\n",
        "\n",
        "TN, FP, FN, TP = confusion_matrix(y_test, Y_pred).ravel()\n",
        "\n",
        "print('True Positive(TP)  = ', TP)\n",
        "print('False Positive(FP) = ', FP)\n",
        "print('True Negative(TN)  = ', TN)\n",
        "print('False Negative(FN) = ', FN)"
      ],
      "metadata": {
        "id": "0Rzo0-hwi9Z9"
      },
      "execution_count": null,
      "outputs": []
    },
    {
      "cell_type": "code",
      "source": [
        "accuracy =  (TP + TN) / (TP + FP + TN + FN)\n",
        "\n",
        "print('Accuracy of the binary classifier = {:0.3f}'.format(accuracy))"
      ],
      "metadata": {
        "id": "-rRtDQUii_Sc"
      },
      "execution_count": null,
      "outputs": []
    }
  ]
}