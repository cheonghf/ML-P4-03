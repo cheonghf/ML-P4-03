{
  "nbformat": 4,
  "nbformat_minor": 0,
  "metadata": {
    "colab": {
      "provenance": [],
      "authorship_tag": "ABX9TyP/Mw4eZBkLKA/oR8Z3Ty6m",
      "include_colab_link": true
    },
    "kernelspec": {
      "name": "python3",
      "display_name": "Python 3"
    },
    "language_info": {
      "name": "python"
    }
  },
  "cells": [
    {
      "cell_type": "markdown",
      "metadata": {
        "id": "view-in-github",
        "colab_type": "text"
      },
      "source": [
        "<a href=\"https://colab.research.google.com/github/cheonghf/ML-P4-03/blob/main/Project_SourceCode_P4_03.ipynb\" target=\"_parent\"><img src=\"https://colab.research.google.com/assets/colab-badge.svg\" alt=\"Open In Colab\"/></a>"
      ]
    },
    {
      "cell_type": "code",
      "execution_count": 8,
      "metadata": {
        "colab": {
          "base_uri": "https://localhost:8080/"
        },
        "id": "TUCEHGBI7bD6",
        "outputId": "59731185-f171-499f-c9ed-c22e5f73ab6c",
        "collapsed": true
      },
      "outputs": [
        {
          "output_type": "stream",
          "name": "stdout",
          "text": [
            "              AccountID  TransactionAmount      TransactionDate  \\\n",
            "TransactionID                                                     \n",
            "TX000001        AC00128              14.09  2023-04-11 16:29:14   \n",
            "TX000002        AC00455             376.24  2023-06-27 16:44:19   \n",
            "TX000003        AC00019             126.29  2023-07-10 18:16:08   \n",
            "TX000004        AC00070             184.50  2023-05-05 16:32:11   \n",
            "TX000005        AC00411              13.45  2023-10-16 17:51:24   \n",
            "...                 ...                ...                  ...   \n",
            "TX002508        AC00297             856.21  2023-04-26 17:09:36   \n",
            "TX002509        AC00322             251.54  2023-03-22 17:36:48   \n",
            "TX002510        AC00095              28.63  2023-08-21 17:08:50   \n",
            "TX002511        AC00118             185.97  2023-02-24 16:24:46   \n",
            "TX002512        AC00009             243.08  2023-02-14 16:21:23   \n",
            "\n",
            "              TransactionType          Location DeviceID      IP Address  \\\n",
            "TransactionID                                                              \n",
            "TX000001                Debit         San Diego  D000380  162.198.218.92   \n",
            "TX000002                Debit           Houston  D000051     13.149.61.4   \n",
            "TX000003                Debit              Mesa  D000235  215.97.143.157   \n",
            "TX000004                Debit           Raleigh  D000187  200.13.225.150   \n",
            "TX000005               Credit           Atlanta  D000308    65.164.3.100   \n",
            "...                       ...               ...      ...             ...   \n",
            "TX002508               Credit  Colorado Springs  D000625    21.157.41.17   \n",
            "TX002509                Debit            Tucson  D000410  49.174.157.140   \n",
            "TX002510                Debit         San Diego  D000095     58.1.27.124   \n",
            "TX002511                Debit            Denver  D000634   21.190.11.223   \n",
            "TX002512               Credit      Jacksonville  D000215   59.127.135.25   \n",
            "\n",
            "              MerchantID Channel  CustomerAge CustomerOccupation  \\\n",
            "TransactionID                                                      \n",
            "TX000001            M015     ATM           70             Doctor   \n",
            "TX000002            M052     ATM           68             Doctor   \n",
            "TX000003            M009  Online           19            Student   \n",
            "TX000004            M002  Online           26            Student   \n",
            "TX000005            M091  Online           26            Student   \n",
            "...                  ...     ...          ...                ...   \n",
            "TX002508            M072  Branch           33             Doctor   \n",
            "TX002509            M029  Branch           48             Doctor   \n",
            "TX002510            M087  Branch           56            Retired   \n",
            "TX002511            M041  Online           23            Student   \n",
            "TX002512            M041  Online           24            Student   \n",
            "\n",
            "               TransactionDuration  LoginAttempts  AccountBalance  \\\n",
            "TransactionID                                                       \n",
            "TX000001                        81              1         5112.21   \n",
            "TX000002                       141              1        13758.91   \n",
            "TX000003                        56              1         1122.35   \n",
            "TX000004                        25              1         8569.06   \n",
            "TX000005                       198              1         7429.40   \n",
            "...                            ...            ...             ...   \n",
            "TX002508                       109              1        12690.79   \n",
            "TX002509                       177              1          254.75   \n",
            "TX002510                       146              1         3382.91   \n",
            "TX002511                        19              1         1776.91   \n",
            "TX002512                        93              1          131.25   \n",
            "\n",
            "              PreviousTransactionDate  \n",
            "TransactionID                          \n",
            "TX000001          2024-11-04 08:08:08  \n",
            "TX000002          2024-11-04 08:09:35  \n",
            "TX000003          2024-11-04 08:07:04  \n",
            "TX000004          2024-11-04 08:09:06  \n",
            "TX000005          2024-11-04 08:06:39  \n",
            "...                               ...  \n",
            "TX002508          2024-11-04 08:11:29  \n",
            "TX002509          2024-11-04 08:11:42  \n",
            "TX002510          2024-11-04 08:08:39  \n",
            "TX002511          2024-11-04 08:12:22  \n",
            "TX002512          2024-11-04 08:07:49  \n",
            "\n",
            "[2512 rows x 15 columns]\n"
          ]
        }
      ],
      "source": [
        "import pandas as pd\n",
        "\n",
        "dataset_1 = 'https://raw.githubusercontent.com/cheonghf/ML-P4-03/refs/heads/main/bank_transactions_data_2.csv'\n",
        "\n",
        "ds1 = pd.read_csv(dataset_1, index_col = 0)\n",
        "\n",
        "print(ds1)\n"
      ]
    }
  ]
}