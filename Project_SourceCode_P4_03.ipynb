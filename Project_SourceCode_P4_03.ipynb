{
  "nbformat": 4,
  "nbformat_minor": 0,
  "metadata": {
    "colab": {
      "provenance": [],
      "authorship_tag": "ABX9TyPAo008JrSoDT08Mx+BeDhj",
      "include_colab_link": true
    },
    "kernelspec": {
      "name": "python3",
      "display_name": "Python 3"
    },
    "language_info": {
      "name": "python"
    }
  },
  "cells": [
    {
      "cell_type": "markdown",
      "metadata": {
        "id": "view-in-github",
        "colab_type": "text"
      },
      "source": [
        "<a href=\"https://colab.research.google.com/github/cheonghf/ML-P4-03/blob/main/Project_SourceCode_P4_03.ipynb\" target=\"_parent\"><img src=\"https://colab.research.google.com/assets/colab-badge.svg\" alt=\"Open In Colab\"/></a>"
      ]
    },
    {
      "cell_type": "markdown",
      "metadata": {
        "id": "Nr87tkF0df2f"
      },
      "source": [
        "Import Salary Data CSV from Kaggle to Colab as Dataframe\n",
        "\n",
        "*   Dataset is sourced from https://www.kaggle.com/datasets/mohithsairamreddy/salary-data/data\n"
      ]
    },
    {
      "cell_type": "code",
      "execution_count": 116,
      "metadata": {
        "colab": {
          "base_uri": "https://localhost:8080/"
        },
        "id": "ffo7mgqpf0NV",
        "outputId": "c2eaab2c-cf82-44ba-867b-89c23befc06c"
      },
      "outputs": [
        {
          "output_type": "stream",
          "name": "stdout",
          "text": [
            "Original Data Frame: (6704, 6)\n",
            "Copied Data Frame: (6704, 6)\n"
          ]
        }
      ],
      "source": [
        "import pandas as pd\n",
        "import numpy as np\n",
        "import kagglehub\n",
        "\n",
        "import matplotlib.pyplot as plt\n",
        "import seaborn as sns\n",
        "\n",
        "# Download latest version\n",
        "dataset_ref = kagglehub.dataset_download('mohithsairamreddy/salary-data', path='Salary_Data.csv')\n",
        "\n",
        "#dataframe salary data 1\n",
        "df_sd1 = pd.read_csv(dataset_ref)\n",
        "\n",
        "#copy dataframe salary data 1 to dataframe salary data 2\n",
        "df_sd2 = df_sd1.copy()\n",
        "\n",
        "print('Original Data Frame:', df_sd1.shape)\n",
        "print('Copied Data Frame:', df_sd2.shape)"
      ]
    },
    {
      "cell_type": "markdown",
      "metadata": {
        "id": "UWtPtZh5O0g4"
      },
      "source": [
        "#Step 1: Pre-Processing of Data\n",
        "\n",
        "*   Run Everything\n",
        "\n"
      ]
    },
    {
      "cell_type": "markdown",
      "metadata": {
        "id": "h-bUx4Co2O4z"
      },
      "source": [
        "View Column of Dataframe"
      ]
    },
    {
      "cell_type": "code",
      "execution_count": 117,
      "metadata": {
        "colab": {
          "base_uri": "https://localhost:8080/"
        },
        "id": "kBVDEYAg2T5G",
        "outputId": "00caec14-e32e-4d60-ff91-d507e02fac1c"
      },
      "outputs": [
        {
          "output_type": "stream",
          "name": "stdout",
          "text": [
            "Index(['Age', 'Gender', 'Education Level', 'Job Title', 'Years of Experience',\n",
            "       'Salary'],\n",
            "      dtype='object')\n"
          ]
        }
      ],
      "source": [
        "print(df_sd2.columns)"
      ]
    },
    {
      "cell_type": "markdown",
      "metadata": {
        "id": "Uorwj6Qt2aR2"
      },
      "source": [
        "Rename Column of Data Frame to remove spaces"
      ]
    },
    {
      "cell_type": "code",
      "execution_count": 118,
      "metadata": {
        "colab": {
          "base_uri": "https://localhost:8080/"
        },
        "id": "eRnAan2l2dex",
        "outputId": "d2ad737a-c82b-4d88-fcce-87867e8ae30b"
      },
      "outputs": [
        {
          "output_type": "stream",
          "name": "stdout",
          "text": [
            "Updated Columns are: Index(['Age', 'Gender', 'EduLevel', 'JobTitle', 'YrsExp', 'Salary'], dtype='object')\n"
          ]
        }
      ],
      "source": [
        "df_sd2.rename(columns={\"Education Level\": \"EduLevel\", \"Job Title\": \"JobTitle\", \"Years of Experience\": \"YrsExp\"}, inplace=True)\n",
        "print(\"Updated Columns are:\", df_sd2.columns)"
      ]
    },
    {
      "cell_type": "markdown",
      "metadata": {
        "id": "oIa-uJFgdnsv"
      },
      "source": [
        "View Salary Data as Dataframe and Identify any Null Values"
      ]
    },
    {
      "cell_type": "code",
      "execution_count": 119,
      "metadata": {
        "colab": {
          "base_uri": "https://localhost:8080/"
        },
        "id": "plbhaO5agG5o",
        "outputId": "e55af4ad-8f94-483f-d039-dd81bbef66c2"
      },
      "outputs": [
        {
          "output_type": "stream",
          "name": "stdout",
          "text": [
            "       Age  Gender           EduLevel               JobTitle  YrsExp    Salary\n",
            "0     32.0    Male         Bachelor's      Software Engineer     5.0   90000.0\n",
            "1     28.0  Female           Master's           Data Analyst     3.0   65000.0\n",
            "2     45.0    Male                PhD         Senior Manager    15.0  150000.0\n",
            "3     36.0  Female         Bachelor's        Sales Associate     7.0   60000.0\n",
            "4     52.0    Male           Master's               Director    20.0  200000.0\n",
            "...    ...     ...                ...                    ...     ...       ...\n",
            "6699  49.0  Female                PhD  Director of Marketing    20.0  200000.0\n",
            "6700  32.0    Male        High School        Sales Associate     3.0   50000.0\n",
            "6701  30.0  Female  Bachelor's Degree      Financial Manager     4.0   55000.0\n",
            "6702  46.0    Male    Master's Degree      Marketing Manager    14.0  140000.0\n",
            "6703  26.0  Female        High School        Sales Executive     1.0   35000.0\n",
            "\n",
            "[6704 rows x 6 columns]\n",
            "===Data Frame End===\n",
            "\n",
            "Null Values are at:\n",
            "Age         2\n",
            "Gender      2\n",
            "EduLevel    3\n",
            "JobTitle    2\n",
            "YrsExp      3\n",
            "Salary      5\n",
            "dtype: int64\n",
            "\n"
          ]
        }
      ],
      "source": [
        "# view dataset salary data 2\n",
        "print(df_sd2)\n",
        "print(\"===Data Frame End===\")\n",
        "print('')\n",
        "\n",
        "# Identify columns with missing valuesin dataset salary data 2\n",
        "print('Null Values are at:')\n",
        "print(df_sd2.isnull().sum())\n",
        "print('')"
      ]
    },
    {
      "cell_type": "markdown",
      "metadata": {
        "id": "No2GkgGBeg83"
      },
      "source": [
        "Removing Null Values from DataFrame"
      ]
    },
    {
      "cell_type": "code",
      "execution_count": 120,
      "metadata": {
        "colab": {
          "base_uri": "https://localhost:8080/"
        },
        "id": "O3enNgXyen-2",
        "outputId": "10d76c4c-e28d-4f73-8160-02503da8ba54"
      },
      "outputs": [
        {
          "output_type": "stream",
          "name": "stdout",
          "text": [
            "Age         0\n",
            "Gender      0\n",
            "EduLevel    0\n",
            "JobTitle    0\n",
            "YrsExp      0\n",
            "Salary      0\n",
            "dtype: int64\n",
            "\n",
            "Column 'Age' does not contain the string 'na'\n",
            "Column 'Gender' does not contain the string 'na'\n",
            "Column 'EduLevel' does not contain the string 'na'\n",
            "Column 'JobTitle' does not contain the string 'na'\n",
            "Column 'YrsExp' does not contain the string 'na'\n",
            "Column 'Salary' does not contain the string 'na'\n"
          ]
        }
      ],
      "source": [
        "# Remove rows with missing values\n",
        "df_sd2.dropna(inplace=True)\n",
        "\n",
        "# Check if columns with missing values are removed\n",
        "print(df_sd2.isnull().sum())\n",
        "print('')\n",
        "\n",
        "# To check if 'na' is string instead of just null\n",
        "for column in df_sd2.columns:\n",
        "    na_count = df_sd2[column].astype(str).apply(lambda x: x == 'na').sum()\n",
        "    if na_count > 0:\n",
        "        print(f\"Column '{column}' contains {na_count} rows with the string 'na'\")\n",
        "    else:\n",
        "      print(f\"Column '{column}' does not contain the string 'na'\")"
      ]
    },
    {
      "cell_type": "markdown",
      "metadata": {
        "id": "-VNAsH8XYNHh"
      },
      "source": [
        "Check for Duplicate Entries in Data Frame"
      ]
    },
    {
      "cell_type": "code",
      "execution_count": 122,
      "metadata": {
        "colab": {
          "base_uri": "https://localhost:8080/"
        },
        "id": "r7EBl8oqXfz9",
        "outputId": "2a535dc5-b5c5-4195-a83e-e2234da3d81e"
      },
      "outputs": [
        {
          "output_type": "stream",
          "name": "stdout",
          "text": [
            "Number of duplicate rows: 4911\n",
            "Number of non-duplicate rows: 1787\n",
            "Percentage of duplicate rows: 73.32%\n",
            "\n",
            "Duplicate rows:\n",
            "       Age  Gender           EduLevel                               JobTitle  \\\n",
            "195   28.0    Male         Bachelor's                Junior Business Analyst   \n",
            "250   30.0  Female         Bachelor's           Junior Marketing Coordinator   \n",
            "251   38.0    Male           Master's                   Senior IT Consultant   \n",
            "252   45.0  Female                PhD                Senior Product Designer   \n",
            "253   28.0    Male         Bachelor's  Junior Business Development Associate   \n",
            "...    ...     ...                ...                                    ...   \n",
            "6699  49.0  Female                PhD                  Director of Marketing   \n",
            "6700  32.0    Male        High School                        Sales Associate   \n",
            "6701  30.0  Female  Bachelor's Degree                      Financial Manager   \n",
            "6702  46.0    Male    Master's Degree                      Marketing Manager   \n",
            "6703  26.0  Female        High School                        Sales Executive   \n",
            "\n",
            "      YrsExp    Salary  \n",
            "195      2.0   40000.0  \n",
            "250      2.0   40000.0  \n",
            "251      9.0  110000.0  \n",
            "252     15.0  150000.0  \n",
            "253      2.0   40000.0  \n",
            "...      ...       ...  \n",
            "6699    20.0  200000.0  \n",
            "6700     3.0   50000.0  \n",
            "6701     4.0   55000.0  \n",
            "6702    14.0  140000.0  \n",
            "6703     1.0   35000.0  \n",
            "\n",
            "[4911 rows x 6 columns]\n"
          ]
        }
      ],
      "source": [
        "# Check for duplicates and create a boolean Series\n",
        "duplicates = df_sd2.duplicated()\n",
        "\n",
        "# Count the number of duplicate rows\n",
        "num_duplicates = duplicates.sum()\n",
        "\n",
        "# Calculate the number of non-duplicate rows\n",
        "num_non_duplicates = len(df_sd2) - num_duplicates\n",
        "\n",
        "# Calculate the percentage of duplicates\n",
        "percentage_duplicates = (num_duplicates / len(df_sd2)) * 100\n",
        "\n",
        "# Print the results\n",
        "print(f\"Number of duplicate rows: {num_duplicates}\")\n",
        "print(f\"Number of non-duplicate rows: {num_non_duplicates}\")\n",
        "print(f\"Percentage of duplicate rows: {percentage_duplicates:.2f}%\")\n",
        "print('')\n",
        "\n",
        "# View the actual duplicate rows:\n",
        "if num_duplicates > 0:\n",
        "  print(\"Duplicate rows:\")\n",
        "  print(df_sd2[duplicates])"
      ]
    },
    {
      "cell_type": "markdown",
      "metadata": {
        "id": "DM4_K6_Cb0XJ"
      },
      "source": [
        "Filter Duplicate Rows of Data into another Data Frame"
      ]
    },
    {
      "cell_type": "code",
      "execution_count": 123,
      "metadata": {
        "id": "TlxPmQfVbz9w"
      },
      "outputs": [],
      "source": [
        "# Checking duplicates distribution\n",
        "duplicate_counts = df_sd2[df_sd2.duplicated()].groupby(df_sd2.columns.tolist()).size().reset_index(name=\"Count\")\n",
        "\n",
        "# Identifying potential duplication patterns\n",
        "df_duplicates = df_sd2.groupby(df_sd2.columns.tolist()).size().reset_index(name='Duplicate Count')"
      ]
    },
    {
      "cell_type": "markdown",
      "metadata": {
        "id": "yxgbJ0w-cZNH"
      },
      "source": [
        "Histogram Comparison for 'Age' Duplicate Filter Before Vs After"
      ]
    },
    {
      "cell_type": "code",
      "execution_count": 124,
      "metadata": {
        "colab": {
          "base_uri": "https://localhost:8080/",
          "height": 507
        },
        "id": "GF0xEox3cJIT",
        "outputId": "3524f21b-9076-475c-e5d9-331ca47b60c4"
      },
      "outputs": [
        {
          "output_type": "display_data",
          "data": {
            "text/plain": [
              "<Figure size 1200x500 with 2 Axes>"
            ],
            "image/png": "[encoded data removed]"
          },
          "metadata": {}
        }
      ],
      "source": [
        "# Visualising Age distribution before and after removing duplicates\n",
        "plt.figure(figsize=(12, 5))\n",
        "\n",
        "# Before removing duplicates\n",
        "plt.subplot(1, 2, 1)\n",
        "sns.histplot(df_sd2['Age'].dropna(), bins=20, kde=True, color='blue')\n",
        "plt.title(\"Age Distribution Before Removing Duplicates\")\n",
        "plt.xlabel(\"Age\")\n",
        "plt.ylabel(\"Frequency\")\n",
        "\n",
        "# After removing duplicates\n",
        "plt.subplot(1, 2, 2)\n",
        "sns.histplot(df_duplicates['Age'].dropna(), bins=20, kde=True, color='green')\n",
        "plt.title(\"Age Distribution After Removing Duplicates\")\n",
        "plt.xlabel(\"Age\")\n",
        "plt.ylabel(\"Frequency\")\n",
        "\n",
        "plt.tight_layout()\n",
        "plt.show()"
      ]
    },
    {
      "cell_type": "markdown",
      "metadata": {
        "id": "UZQc154obbd0"
      },
      "source": [
        "Histogram Comparison for 'Salary' Duplicate Filter Before Vs After"
      ]
    },
    {
      "cell_type": "code",
      "execution_count": 125,
      "metadata": {
        "colab": {
          "base_uri": "https://localhost:8080/",
          "height": 507
        },
        "id": "QYbfXkERZ51h",
        "outputId": "b82cce88-1106-413a-90c7-33d6c9ac1681"
      },
      "outputs": [
        {
          "output_type": "display_data",
          "data": {
            "text/plain": [
              "<Figure size 1200x500 with 2 Axes>"
            ],
            "image/png": "[encoded data removed]"
          },
          "metadata": {}
        }
      ],
      "source": [
        "# Visualising salary distribution before and after removing duplicates\n",
        "plt.figure(figsize=(12, 5))\n",
        "\n",
        "# Before removing duplicates\n",
        "plt.subplot(1, 2, 1)\n",
        "sns.histplot(df_sd2['Salary'].dropna(), bins=20, kde=True, color='blue')\n",
        "plt.title(\"Salary Distribution Before Removing Duplicates\")\n",
        "plt.xlabel(\"Salary\")\n",
        "plt.ylabel(\"Frequency\")\n",
        "\n",
        "# After removing duplicates\n",
        "plt.subplot(1, 2, 2)\n",
        "sns.histplot(df_duplicates['Salary'].dropna(), bins=20, kde=True, color='green')\n",
        "plt.title(\"Salary Distribution After Removing Duplicates\")\n",
        "plt.xlabel(\"Salary\")\n",
        "plt.ylabel(\"Frequency\")\n",
        "\n",
        "plt.tight_layout()\n",
        "plt.show()"
      ]
    },
    {
      "cell_type": "markdown",
      "metadata": {
        "id": "elrt9zFKkej8"
      },
      "source": [
        "Histogram Comparison for 'YrsExp' Duplicate Filter Before Vs After"
      ]
    },
    {
      "cell_type": "code",
      "execution_count": 126,
      "metadata": {
        "colab": {
          "base_uri": "https://localhost:8080/",
          "height": 507
        },
        "id": "zsl-qqb1cj7-",
        "outputId": "9ebb97a3-fe1a-4a64-8208-a3b39ead9a2b"
      },
      "outputs": [
        {
          "output_type": "display_data",
          "data": {
            "text/plain": [
              "<Figure size 1200x500 with 2 Axes>"
            ],
            "image/png": "[encoded data removed]"
          },
          "metadata": {}
        }
      ],
      "source": [
        "# Visualising Years of Experience distribution before and after removing duplicates\n",
        "plt.figure(figsize=(12, 5))\n",
        "\n",
        "# Before removing duplicates\n",
        "plt.subplot(1, 2, 1)\n",
        "sns.histplot(df_sd2['YrsExp'].dropna(), bins=20, kde=True, color='blue')\n",
        "plt.title(\"Years of Experience Distribution Before Removing Duplicates\")\n",
        "plt.xlabel(\"Years of Experience\")\n",
        "plt.ylabel(\"Frequency\")\n",
        "\n",
        "# After removing duplicates\n",
        "plt.subplot(1, 2, 2)\n",
        "sns.histplot(df_duplicates['YrsExp'].dropna(), bins=20, kde=True, color='green')\n",
        "plt.title(\"Years of Experience Distribution After Removing Duplicates\")\n",
        "plt.xlabel(\"Years of Experience\")\n",
        "plt.ylabel(\"Frequency\")\n",
        "\n",
        "plt.tight_layout()\n",
        "plt.show()"
      ]
    },
    {
      "cell_type": "markdown",
      "metadata": {
        "id": "Ba57JNxgdsVV"
      },
      "source": [
        "Remove Duplicates from the DataFrame"
      ]
    },
    {
      "cell_type": "code",
      "execution_count": 127,
      "metadata": {
        "colab": {
          "base_uri": "https://localhost:8080/"
        },
        "id": "DPqqrS87dvpX",
        "outputId": "04875c6f-be20-4b6f-e88f-84748e1aaf28"
      },
      "outputs": [
        {
          "output_type": "stream",
          "name": "stdout",
          "text": [
            "Original DataFrame shape: (6698, 6)\n",
            "DataFrame shape after removing duplicates: (1787, 6)\n"
          ]
        }
      ],
      "source": [
        "# Remove duplicate rows and keep the first occurrence\n",
        "df_sd3 = df_sd2.drop_duplicates(keep='first')\n",
        "\n",
        "# Reset the index\n",
        "df_sd3 = df_sd3.reset_index(drop=True)\n",
        "\n",
        "# Print the shape of the DataFrame before and after removing duplicates\n",
        "print(\"Original DataFrame shape:\", df_sd2.shape)\n",
        "print(\"DataFrame shape after removing duplicates:\", df_sd3.shape)"
      ]
    },
    {
      "cell_type": "markdown",
      "metadata": {
        "id": "vSpm8HnskvEj"
      },
      "source": [
        "Understanding values inside DataFrame of Salary Data"
      ]
    },
    {
      "cell_type": "code",
      "execution_count": 128,
      "metadata": {
        "colab": {
          "base_uri": "https://localhost:8080/"
        },
        "id": "3KJj2Mh1ex7Q",
        "outputId": "7d6ba549-ac01-4764-8fa4-c6e6ff767c1a"
      },
      "outputs": [
        {
          "output_type": "stream",
          "name": "stdout",
          "text": [
            "<class 'pandas.core.frame.DataFrame'>\n",
            "RangeIndex: 1787 entries, 0 to 1786\n",
            "Data columns (total 6 columns):\n",
            " #   Column    Non-Null Count  Dtype  \n",
            "---  ------    --------------  -----  \n",
            " 0   Age       1787 non-null   float64\n",
            " 1   Gender    1787 non-null   object \n",
            " 2   EduLevel  1787 non-null   object \n",
            " 3   JobTitle  1787 non-null   object \n",
            " 4   YrsExp    1787 non-null   float64\n",
            " 5   Salary    1787 non-null   float64\n",
            "dtypes: float64(3), object(3)\n",
            "memory usage: 83.9+ KB\n",
            "None\n",
            "\n",
            "               Age       YrsExp         Salary\n",
            "count  1787.000000  1787.000000    1787.000000\n",
            "mean     35.139899     9.156128  113184.659765\n",
            "std       8.213045     6.844924   51596.536766\n",
            "min      21.000000     0.000000     350.000000\n",
            "25%      29.000000     3.000000   70000.000000\n",
            "50%      33.000000     8.000000  110000.000000\n",
            "75%      41.000000    13.000000  160000.000000\n",
            "max      62.000000    34.000000  250000.000000\n",
            "\n",
            "Column: Gender\n",
            "        count\n",
            "Gender       \n",
            "Male      966\n",
            "Female    814\n",
            "Other       7\n",
            "\n",
            "\n",
            "Column: EduLevel\n",
            "                   count\n",
            "EduLevel                \n",
            "Bachelor's Degree    506\n",
            "Master's Degree      446\n",
            "PhD                  340\n",
            "Bachelor's           262\n",
            "Master's             122\n",
            "High School          110\n",
            "phD                    1\n",
            "\n",
            "\n",
            "Column: JobTitle\n",
            "                           count\n",
            "JobTitle                        \n",
            "Software Engineer Manager    127\n",
            "Full Stack Engineer          122\n",
            "Senior Software Engineer      96\n",
            "Senior Project Engineer       95\n",
            "Back end Developer            81\n",
            "...                          ...\n",
            "Financial Advisor              1\n",
            "Junior Designer                1\n",
            "Chief Technology Officer       1\n",
            "Technical Recruiter            1\n",
            "Delivery Driver                1\n",
            "\n",
            "[191 rows x 1 columns]\n",
            "\n",
            "\n"
          ]
        }
      ],
      "source": [
        "# view dataset salary data 3 information\n",
        "print(df_sd3.info())\n",
        "print('')\n",
        "\n",
        "# Statistic range of dataset salary data 3\n",
        "print(df_sd3.describe())\n",
        "print('')\n",
        "\n",
        "string_columns = df_sd3.select_dtypes(include=['object']).columns\n",
        "\n",
        "for column in string_columns:\n",
        "    frequency_table = df_sd3[column].value_counts().to_frame()\n",
        "    print(f\"Column: {column}\")\n",
        "    print(frequency_table)  # Optionally add .to_string() for better formatting\n",
        "    print(\"\\n\")"
      ]
    },
    {
      "cell_type": "markdown",
      "metadata": {
        "id": "VccH4825TlcZ"
      },
      "source": [
        "To determine if 'Other' in 'Gender' column is significant ( less than 2%)"
      ]
    },
    {
      "cell_type": "code",
      "execution_count": 129,
      "metadata": {
        "colab": {
          "base_uri": "https://localhost:8080/"
        },
        "id": "-trmUDVwP8jy",
        "outputId": "aac8b476-cf6a-49f6-cbd6-97b557cc4500"
      },
      "outputs": [
        {
          "output_type": "stream",
          "name": "stdout",
          "text": [
            "Percentage of 'Other' in Gender: 0.39%\n"
          ]
        }
      ],
      "source": [
        "gender_counts = df_sd3['Gender'].value_counts()\n",
        "other_percentage = (gender_counts['Other'] / len(df_sd3)) * 100\n",
        "print(f\"Percentage of 'Other' in Gender: {other_percentage:.2f}%\")"
      ]
    },
    {
      "cell_type": "markdown",
      "metadata": {
        "id": "2PakStBNOKnv"
      },
      "source": [
        "Remove 'Other' and its relevant row of data from the column 'Gender'"
      ]
    },
    {
      "cell_type": "code",
      "execution_count": 130,
      "metadata": {
        "colab": {
          "base_uri": "https://localhost:8080/"
        },
        "id": "pcBnmeV9OM-h",
        "outputId": "098f2054-064c-4d6b-9564-f78c7adbecc5"
      },
      "outputs": [
        {
          "output_type": "stream",
          "name": "stdout",
          "text": [
            "Updated Unique Values under \"Gender\": ['Male' 'Female']\n",
            "DataFrame shape after cleaning Gender: (1780, 6)\n"
          ]
        }
      ],
      "source": [
        "# Filter out rows where Gender is 'Other'\n",
        "df_sd3 = df_sd3[df_sd3['Gender'] != 'Other']\n",
        "\n",
        "# Reset the index if needed\n",
        "df_sd3 = df_sd3.reset_index(drop=True)\n",
        "\n",
        "# Display unique values after cleaning\n",
        "print('Updated Unique Values under \"Gender\":', df_sd3['Gender'].unique())\n",
        "\n",
        "# Display shape\n",
        "print(\"DataFrame shape after cleaning Gender:\", df_sd3.shape)"
      ]
    },
    {
      "cell_type": "markdown",
      "metadata": {
        "id": "Yi-GCmbZRfwq"
      },
      "source": [
        "Standardise naming of Data under the column 'EduLevel'"
      ]
    },
    {
      "cell_type": "code",
      "execution_count": 131,
      "metadata": {
        "colab": {
          "base_uri": "https://localhost:8080/"
        },
        "id": "DtrzRi6vRe8k",
        "outputId": "92a63480-61ae-4e58-9d25-c14df8f50102"
      },
      "outputs": [
        {
          "output_type": "stream",
          "name": "stdout",
          "text": [
            "Updated Unique Values in Data Frame: ['BachelorDegree' 'MasterDegree' 'PhD' 'HighSchool']\n"
          ]
        }
      ],
      "source": [
        "# Define a mapping dictionary for standardisation\n",
        "education_mapping = {\n",
        "    \"Bachelor's Degree\": \"BachelorDegree\",\n",
        "    \"Bachelor's\": \"BachelorDegree\",\n",
        "    \"Master's Degree\": \"MasterDegree\",\n",
        "    \"Master's\": \"MasterDegree\",\n",
        "    \"phD\": \"PhD\",\n",
        "    \"High School\": \"HighSchool\"\n",
        "}\n",
        "\n",
        "# Apply mapping to clean the 'EduLevel' column\n",
        "df_sd3['EduLevel'] = df_sd3['EduLevel'].replace(education_mapping)\n",
        "\n",
        "# Display unique values after cleaning\n",
        "print('Updated Unique Values in Data Frame:', df_sd3['EduLevel'].unique())"
      ]
    },
    {
      "cell_type": "markdown",
      "metadata": {
        "id": "6MUIgMK0OiC8"
      },
      "source": [
        "# Step 2: Analsying the DataSet (Run Step 1 Before this)"
      ]
    },
    {
      "cell_type": "markdown",
      "metadata": {
        "id": "I57xItm91LrF"
      },
      "source": [
        "Grouped Bar Chart: Gender Breakdown by Education Level"
      ]
    },
    {
      "cell_type": "code",
      "execution_count": null,
      "metadata": {
        "id": "YQc-4sr4ptJN"
      },
      "outputs": [],
      "source": [
        "plt.figure(figsize=(10, 6))  # Adjust figure size if needed\n",
        "sns.countplot(x='EduLevel', hue='Gender', data=df_sd3)\n",
        "plt.title('Breakdown of Gender by Education Level')\n",
        "plt.xlabel('Education Level')\n",
        "plt.ylabel('Count')\n",
        "plt.xticks(rotation=45, ha='right')  # Rotate x-axis labels for better readability\n",
        "plt.tight_layout()\n",
        "plt.show()"
      ]
    },
    {
      "cell_type": "markdown",
      "metadata": {
        "id": "MK-AqpBnPdNy"
      },
      "source": [
        "Histogram: Age Distribution of Dataset"
      ]
    },
    {
      "cell_type": "code",
      "execution_count": null,
      "metadata": {
        "id": "0QSiLeROOKCj"
      },
      "outputs": [],
      "source": [
        "plt.figure(figsize=(10, 6))  # Adjust figure size if needed\n",
        "sns.histplot(df_sd3['Age'], bins=20, kde=True)  # 'bins' controls the number of bars, 'kde' adds a density curve\n",
        "plt.title('Age Distribution')\n",
        "plt.xlabel('Age')\n",
        "plt.ylabel('Frequency')\n",
        "plt.tight_layout()\n",
        "plt.show()"
      ]
    },
    {
      "cell_type": "markdown",
      "metadata": {
        "id": "7tSsrUJS9rC7"
      },
      "source": [
        "BoxPlot: Salary Distribution by Gender"
      ]
    },
    {
      "cell_type": "code",
      "execution_count": null,
      "metadata": {
        "id": "iUJ4MtiL9j-9"
      },
      "outputs": [],
      "source": [
        "plt.figure(figsize=(10, 6))  # Adjust figure size if needed\n",
        "sns.boxplot(x='Gender', y='Salary', data=df_sd3)\n",
        "plt.title('Salary Distribution by Gender')\n",
        "plt.xlabel('Gender')\n",
        "plt.ylabel('Salary')\n",
        "plt.tight_layout()\n",
        "plt.show()"
      ]
    },
    {
      "cell_type": "markdown",
      "metadata": {
        "id": "gXIvlyQ11XFs"
      },
      "source": [
        "Box Plot Salary Distribution by Education Level"
      ]
    },
    {
      "cell_type": "code",
      "execution_count": null,
      "metadata": {
        "id": "5FZghjFc1TCJ"
      },
      "outputs": [],
      "source": [
        "plt.figure(figsize=(12, 6))\n",
        "sns.boxplot(x='EduLevel', y='Salary', data=df_sd3)\n",
        "plt.title('Salary Distribution by Education Level')\n",
        "plt.xlabel('Education Level')\n",
        "plt.ylabel('Salary')\n",
        "plt.xticks(rotation=45, ha='right')\n",
        "plt.tight_layout()\n",
        "plt.show()"
      ]
    },
    {
      "cell_type": "markdown",
      "metadata": {
        "id": "QsN7n9nD2Aw9"
      },
      "source": [
        "Scatterplot of Salary Distribution by Years of Experience"
      ]
    },
    {
      "cell_type": "code",
      "execution_count": null,
      "metadata": {
        "id": "HQt2f2Ei11gp"
      },
      "outputs": [],
      "source": [
        "plt.figure(figsize=(12, 6))\n",
        "sns.scatterplot(x='YrsExp', y='Salary', data=df_sd3)\n",
        "plt.title('Salary Distribution by Years of Experience')\n",
        "plt.xlabel('Years of Experience')\n",
        "plt.ylabel('Salary')\n",
        "plt.tight_layout()\n",
        "plt.show()"
      ]
    },
    {
      "cell_type": "markdown",
      "metadata": {
        "id": "1f1LF4UElM7m"
      },
      "source": [
        "Scatterplot of Salary Distribution by Age"
      ]
    },
    {
      "cell_type": "code",
      "execution_count": null,
      "metadata": {
        "id": "WB5gF22Z2kOd"
      },
      "outputs": [],
      "source": [
        "plt.figure(figsize=(12, 6))\n",
        "sns.scatterplot(x='Age', y='Salary', data=df_sd3)\n",
        "plt.title('Salary Distribution by Age')\n",
        "plt.xlabel('Age')\n",
        "plt.ylabel('Salary')\n",
        "plt.tight_layout()\n",
        "plt.show()"
      ]
    },
    {
      "cell_type": "markdown",
      "source": [
        "# Step 3: Machine Learning Algorithm Implementation with Raw Data (Run Step 1 Before this)\n",
        "\n",
        "*   Encode the relevant column of data\n",
        "*   Spilt Dataset between training and test\n",
        "*   4 different types of Machine Learning Algorithm to identify best two\n",
        "\n",
        "\n"
      ],
      "metadata": {
        "id": "pldeuQ8wU38p"
      }
    },
    {
      "cell_type": "markdown",
      "metadata": {
        "id": "1l6GPRn2803i"
      },
      "source": [
        "Copy Dataframe for Step 3"
      ]
    },
    {
      "cell_type": "code",
      "execution_count": null,
      "metadata": {
        "id": "WOfitDdJ8udm"
      },
      "outputs": [],
      "source": [
        "df_sd4 = df_sd3.copy()\n",
        "\n",
        "print('Original Data Frame:', df_sd3.shape)\n",
        "print('Copied Data Frame:', df_sd4.shape)\n",
        "print()\n",
        "df_sd4.columns"
      ]
    },
    {
      "cell_type": "markdown",
      "source": [
        "Encode raw data"
      ],
      "metadata": {
        "id": "MjvnD9tkWUwI"
      }
    },
    {
      "cell_type": "code",
      "source": [
        "from sklearn.preprocessing import OneHotEncoder, LabelEncoder, StandardScaler\n",
        "\n",
        "# Drop 'JobTitle' (high cardinality, too specific)\n",
        "df_sd5 = df_sd4.drop(columns=['JobTitle'])\n",
        "\n",
        "# Separate features and target\n",
        "X = df_sd5.drop(columns=['Salary'])\n",
        "y = df_sd5['Salary']\n",
        "\n",
        "# Identify feature types\n",
        "categorical_ordinal = ['EduLevel']  # Ordinal categories\n",
        "categorical_nominal = ['Gender']  # Nominal categories\n",
        "numerical_cols = ['Age', 'YrsExp']\n",
        "\n",
        "# Apply Label Encoding to ordinal categorical variables\n",
        "for col in categorical_ordinal:\n",
        "    le = LabelEncoder()\n",
        "    X[col] = le.fit_transform(X[col])\n",
        "\n",
        "# Apply OneHotEncoding to nominal categorical variables\n",
        "ohe = OneHotEncoder(sparse_output=False)  # Avoid dummy variable trap\n",
        "X_encoded = ohe.fit_transform(X[categorical_nominal])\n",
        "encoded_feature_names = ohe.get_feature_names_out(categorical_nominal)\n",
        "\n",
        "# Scale numerical variables\n",
        "scaler = StandardScaler()\n",
        "X_scaled = scaler.fit_transform(X[numerical_cols])\n",
        "\n",
        "# Combine all transformed features\n",
        "X_processed = np.hstack((X_scaled, X[categorical_ordinal].values, X_encoded))\n",
        "\n",
        "# Convert to DataFrame for clarity\n",
        "X_final = pd.DataFrame(X_processed, columns=numerical_cols + categorical_ordinal + list(encoded_feature_names))"
      ],
      "metadata": {
        "id": "EN2n-hnwWhgY"
      },
      "execution_count": null,
      "outputs": []
    },
    {
      "cell_type": "markdown",
      "source": [
        "Spilting of Training Data (Must Run before Algorithm)"
      ],
      "metadata": {
        "id": "vVfnmQQc4cd_"
      }
    },
    {
      "cell_type": "code",
      "source": [
        "from sklearn.model_selection import train_test_split\n",
        "from sklearn.metrics import mean_absolute_error, mean_squared_error, r2_score\n",
        "\n",
        "# Train-test split (80% training, 20% testing)\n",
        "X_train, X_test, y_train, y_test = train_test_split(X_processed, y, test_size=0.2, random_state=42)"
      ],
      "metadata": {
        "id": "1947CumL4bB1"
      },
      "execution_count": null,
      "outputs": []
    },
    {
      "cell_type": "markdown",
      "metadata": {
        "id": "sNAr7a204xEn"
      },
      "source": [
        "Algorithm 1: LinearRegression (Train)"
      ]
    },
    {
      "cell_type": "code",
      "execution_count": null,
      "metadata": {
        "id": "5z1mN_6w4xEo"
      },
      "outputs": [],
      "source": [
        "from sklearn.linear_model import LinearRegression\n",
        "\n",
        "# Train Linear Regression model\n",
        "lr_model = LinearRegression() # Initialise\n",
        "lr_model.fit(X_train, y_train) # Train the model on training data\n",
        "\n",
        "# Predict salaries on the test set\n",
        "y_pred_lr = lr_model.predict(X_test)\n",
        "\n",
        "# Calculate error metrics\n",
        "mae_lr = mean_absolute_error(y_test, y_pred_lr)   # Mean Absolute Error\n",
        "mse_lr = mean_squared_error(y_test, y_pred_lr)    # Mean Squared Error\n",
        "r2_lr = r2_score(y_test, y_pred_lr)               # R-squared score\n",
        "\n",
        "# Print performance metrics\n",
        "print(\"Linear Regression Performance:\")\n",
        "print(f\"Mean Absolute Error (MAE): {mae_lr:.2f}\")\n",
        "print(f\"Mean Squared Error (MSE): {mse_lr:.2f}\")\n",
        "print(f\"R² Score: {r2_lr:.4f}\")"
      ]
    },
    {
      "cell_type": "markdown",
      "metadata": {
        "id": "9oQVJtU54xEp"
      },
      "source": [
        "Algorithm 2: DecisionTreeRegressor (Train)"
      ]
    },
    {
      "cell_type": "code",
      "execution_count": null,
      "metadata": {
        "id": "KMqYR-lP4xEq"
      },
      "outputs": [],
      "source": [
        "from sklearn.tree import DecisionTreeRegressor\n",
        "\n",
        "# Train a Decision Tree Regressor\n",
        "dtr_model = DecisionTreeRegressor(max_depth=5, random_state=42)\n",
        "dtr_model.fit(X_train, y_train)\n",
        "\n",
        "# Predict salaries on the test set\n",
        "y_pred_dtr = dtr_model.predict(X_test)\n",
        "\n",
        "# Calculate error metrics\n",
        "mae_dtr = mean_absolute_error(y_test, y_pred_dtr)   # Mean Absolute Error\n",
        "mse_dtr = mean_squared_error(y_test, y_pred_dtr)    # Mean Squared Error\n",
        "r2_dtr = r2_score(y_test, y_pred_dtr)               # R-squared score\n",
        "\n",
        "# Evaluate performance\n",
        "print(\"Decision Tree Performance:\")\n",
        "print(f\"Mean Absolute Error (MAE): {mae_dtr:.2f}\")\n",
        "print(f\"Mean Squared Error (MSE): {mse_dtr:.2f}\")\n",
        "print(f\"R² Score: {r2_dtr:.4f}\")"
      ]
    },
    {
      "cell_type": "markdown",
      "metadata": {
        "id": "gkNkMAYJ4xEq"
      },
      "source": [
        "Algorithm 3: RandomForestRegressor (Train)"
      ]
    },
    {
      "cell_type": "code",
      "execution_count": null,
      "metadata": {
        "id": "-waDSVk-4xEr"
      },
      "outputs": [],
      "source": [
        "from sklearn.ensemble import RandomForestRegressor\n",
        "\n",
        "# Train Random Forest Regressor\n",
        "# rfr_model = RandomForestRegressor(n_estimators=100, random_state=42)\n",
        "rfr_model = RandomForestRegressor(random_state=42)\n",
        "rfr_model.fit(X_train, y_train)\n",
        "\n",
        "# Predict salaries on the test set\n",
        "y_pred_rfr = rfr_model.predict(X_test)\n",
        "\n",
        "# Evaluate performance\n",
        "mae_rfr = mean_absolute_error(y_test,y_pred_rfr)\n",
        "mse_rfr = mean_squared_error(y_test, y_pred_rfr)    # Mean Squared Error\n",
        "r2_rfr = r2_score(y_test, y_pred_rfr)\n",
        "\n",
        "# Print results\n",
        "print(\"Random Forest Regressor Performance:\")\n",
        "print(f\"Mean Absolute Error (MAE): {mae_rfr:.2f}\")\n",
        "print(f\"Mean Squared Error (MSE): {mse_rfr:.2f}\")\n",
        "print(f\"R² Score: {r2_rfr:.4f}\")"
      ]
    },
    {
      "cell_type": "markdown",
      "metadata": {
        "id": "NmCQWiTF4xEr"
      },
      "source": [
        "Algorithm 4: XGBoost"
      ]
    },
    {
      "cell_type": "code",
      "execution_count": null,
      "metadata": {
        "id": "C8LbE-H64xEr"
      },
      "outputs": [],
      "source": [
        "from xgboost import XGBRegressor\n",
        "\n",
        "# Train Random Forest Regressor\n",
        "xgb_model = XGBRegressor(n_estimators=200, learning_rate=0.05, random_state=42)\n",
        "xgb_model.fit(X_train, y_train)\n",
        "\n",
        "# Predict salaries on the test set\n",
        "y_pred_xgb = xgb_model.predict(X_test)\n",
        "\n",
        "mae_xgb = mean_absolute_error(y_test, y_pred_xgb)\n",
        "mse_xgb = mean_squared_error(y_test, y_pred_xgb)\n",
        "r2_xgb = r2_score(y_test, y_pred_xgb)\n",
        "\n",
        "print(f\"XGBoost Performance\")\n",
        "print(f\"Mean Absolute Error (MAE): {mae_xgb:.2f}\")\n",
        "print(f\"Mean Squared Error (MSE): {mse_xgb:.2f}\")\n",
        "print(f\"R² Score: {r2_xgb:.4f}\")"
      ]
    },
    {
      "cell_type": "markdown",
      "metadata": {
        "id": "_j3fQpTRj5B0"
      },
      "source": [
        "#Step 4: Feature Extraction (Run Step 1 Before this)\n",
        "\n",
        "*   Run Everything\n"
      ]
    },
    {
      "cell_type": "markdown",
      "metadata": {
        "id": "m7LGx9Xw86rS"
      },
      "source": [
        "**Part 1 of 2: Clustering JobTitles to Industry**\n",
        "\n",
        "Extract Unique JobTitles & Preprocess Text\n",
        "\n",
        "*   Lowercase transformation\n",
        "*   Special character removal (if needed)\n",
        "*   Convert text into numerical format using TF-IDF vectorisation\n",
        "\n",
        "Determine Optimal Number of Clusters\n",
        "\n",
        "*   Use Elbow Method to find the best cluster number based on inertia.\n",
        "*   Use Silhouette Score Analysis to validate the best choice."
      ]
    },
    {
      "cell_type": "code",
      "source": [
        "df_sd6 = df_sd3.copy()\n",
        "\n",
        "print('Original Data Frame:', df_sd3.shape)\n",
        "print('Copied Data Frame:', df_sd6.shape)\n",
        "print()\n",
        "\n",
        "print(df_sd6['JobTitle'].value_counts())"
      ],
      "metadata": {
        "colab": {
          "base_uri": "https://localhost:8080/"
        },
        "id": "pUeDoVqm6ow_",
        "outputId": "9e5a5178-85c1-436e-f070-3d95c5c184bf"
      },
      "execution_count": 132,
      "outputs": [
        {
          "output_type": "stream",
          "name": "stdout",
          "text": [
            "Original Data Frame: (1780, 6)\n",
            "Copied Data Frame: (1780, 6)\n",
            "\n",
            "JobTitle\n",
            "Software Engineer Manager    127\n",
            "Full Stack Engineer          120\n",
            "Senior Project Engineer       94\n",
            "Senior Software Engineer      94\n",
            "Data Scientist                80\n",
            "                            ... \n",
            "Financial Advisor              1\n",
            "Junior Designer                1\n",
            "Chief Technology Officer       1\n",
            "Technical Recruiter            1\n",
            "Delivery Driver                1\n",
            "Name: count, Length: 191, dtype: int64\n"
          ]
        }
      ]
    },
    {
      "cell_type": "code",
      "execution_count": 133,
      "metadata": {
        "colab": {
          "base_uri": "https://localhost:8080/",
          "height": 522
        },
        "id": "4-LiesQ300pu",
        "outputId": "7e65020b-ae08-44db-c8a3-48c16722fdc1"
      },
      "outputs": [
        {
          "output_type": "display_data",
          "data": {
            "text/plain": [
              "<Figure size 1800x500 with 3 Axes>"
            ],
            "image/png": "[encoded data removed]"
          },
          "metadata": {}
        },
        {
          "output_type": "stream",
          "name": "stdout",
          "text": [
            "Optimal values found by each method:\n"
          ]
        },
        {
          "output_type": "execute_result",
          "data": {
            "text/plain": [
              "(12, 12, 3)"
            ]
          },
          "metadata": {},
          "execution_count": 133
        }
      ],
      "source": [
        "from sklearn.feature_extraction.text import TfidfVectorizer\n",
        "from sklearn.cluster import KMeans\n",
        "from sklearn.metrics import silhouette_score\n",
        "from sklearn.metrics import pairwise_distances\n",
        "\n",
        "# Extract unique job titles again after reset\n",
        "job_titles = df_sd6['JobTitle'].dropna().unique()\n",
        "\n",
        "# Convert job titles to lowercase for standardization\n",
        "cleaned_titles = [title.lower() for title in job_titles]\n",
        "\n",
        "# Convert text data into numerical format using TF-IDF vectorization\n",
        "vectorizer = TfidfVectorizer(stop_words='english')\n",
        "X_job = vectorizer.fit_transform(cleaned_titles)\n",
        "\n",
        "# Define cluster range dynamically\n",
        "min_k = 2  # Minimum clusters\n",
        "max_k = 15  # Maximum clusters\n",
        "\n",
        "# Initialize lists to store results\n",
        "inertia = []\n",
        "silhouette_scores = []\n",
        "gap_values = []\n",
        "\n",
        "# Compute Gap Statistic method\n",
        "def gap_statistic(X_job, k):\n",
        "    kmeans = KMeans(n_clusters=k, random_state=42, n_init=10)\n",
        "    kmeans.fit(X_job)\n",
        "    cluster_dispersion = np.mean([np.min(pairwise_distances(X_job, [center]), axis=1) for center in kmeans.cluster_centers_])\n",
        "\n",
        "    # Generate reference random dataset\n",
        "    random_X = np.random.uniform(X_job.min(), X_job.max(), X_job.shape)\n",
        "    random_dispersion = np.mean([np.min(pairwise_distances(random_X, [center]), axis=1) for center in kmeans.cluster_centers_])\n",
        "\n",
        "    return random_dispersion - cluster_dispersion\n",
        "\n",
        "# Loop through cluster range and compute values\n",
        "cluster_range = range(min_k, max_k)\n",
        "for k in cluster_range:\n",
        "    kmeans = KMeans(n_clusters=k, random_state=42, n_init=10)\n",
        "    kmeans.fit(X_job)\n",
        "\n",
        "    # Store values\n",
        "    inertia.append(kmeans.inertia_)\n",
        "    silhouette_scores.append(silhouette_score(X_job, kmeans.labels_))\n",
        "    gap_values.append(gap_statistic(X_job, k))\n",
        "\n",
        "# Determine optimal clusters based on each method\n",
        "optimal_k_elbow = cluster_range[np.argmax(np.diff(inertia))]  # Elbow method approximation\n",
        "optimal_k_silhouette = cluster_range[np.argmax(silhouette_scores)]  # Best silhouette score\n",
        "optimal_k_gap = cluster_range[np.argmax(gap_values)]  # Best gap statistic\n",
        "\n",
        "# Plot the results\n",
        "plt.figure(figsize=(18, 5))\n",
        "\n",
        "# Elbow Method Plot\n",
        "plt.subplot(1, 3, 1)\n",
        "plt.plot(cluster_range, inertia, marker='o', linestyle='--', color='blue')\n",
        "plt.xlabel('Number of Clusters')\n",
        "plt.ylabel('Inertia (Sum of Squared Distances)')\n",
        "plt.title('Elbow Method')\n",
        "\n",
        "# Silhouette Score Plot\n",
        "plt.subplot(1, 3, 2)\n",
        "plt.plot(cluster_range, silhouette_scores, marker='o', linestyle='--', color='red')\n",
        "plt.xlabel('Number of Clusters')\n",
        "plt.ylabel('Silhouette Score')\n",
        "plt.title('Silhouette Score Analysis')\n",
        "\n",
        "# Gap Statistic Plot\n",
        "plt.subplot(1, 3, 3)\n",
        "plt.plot(cluster_range, gap_values, marker='o', linestyle='--', color='green')\n",
        "plt.xlabel('Number of Clusters')\n",
        "plt.ylabel('Gap Statistic')\n",
        "plt.title('Gap Statistic Analysis')\n",
        "\n",
        "# Display plots\n",
        "plt.show()\n",
        "\n",
        "# Print the optimal values found by each method\n",
        "print(\"Optimal values found by each method:\")\n",
        "optimal_k_elbow, optimal_k_silhouette, optimal_k_gap"
      ]
    },
    {
      "cell_type": "markdown",
      "metadata": {
        "id": "285xyLHI7uhc"
      },
      "source": [
        "Further Testing to determine which k to use"
      ]
    },
    {
      "cell_type": "code",
      "execution_count": 134,
      "metadata": {
        "colab": {
          "base_uri": "https://localhost:8080/",
          "height": 423
        },
        "id": "WpWl18g45Kdf",
        "outputId": "ab706730-c8bd-4eed-f2a5-9dba6161e9fd"
      },
      "outputs": [
        {
          "output_type": "execute_result",
          "data": {
            "text/plain": [
              "                       JobTitle Industry (Refined - k=12)  \\\n",
              "0             Software Engineer                Industry 5   \n",
              "1                  Data Analyst                Industry 6   \n",
              "2                Senior Manager                Industry 3   \n",
              "3               Sales Associate               Industry 10   \n",
              "4                      Director                Industry 4   \n",
              "...                         ...                       ...   \n",
              "1775  Digital Marketing Manager                Industry 3   \n",
              "1776              Sales Manager               Industry 10   \n",
              "1777      Director of Marketing                Industry 4   \n",
              "1778             Sales Director               Industry 10   \n",
              "1779              Sales Manager               Industry 10   \n",
              "\n",
              "     Industry (Broad - k=2)  \n",
              "0        General Industry A  \n",
              "1        General Industry A  \n",
              "2        General Industry A  \n",
              "3        General Industry A  \n",
              "4        General Industry B  \n",
              "...                     ...  \n",
              "1775     General Industry A  \n",
              "1776     General Industry A  \n",
              "1777     General Industry B  \n",
              "1778     General Industry B  \n",
              "1779     General Industry A  \n",
              "\n",
              "[1780 rows x 3 columns]"
            ],
            "text/html": [
              "\n",
              "  <div id=\"df-6c9bd95a-f354-4bc5-8713-0e29ea95bd31\" class=\"colab-df-container\">\n",
              "    <div>\n",
              "<style scoped>\n",
              "    .dataframe tbody tr th:only-of-type {\n",
              "        vertical-align: middle;\n",
              "    }\n",
              "\n",
              "    .dataframe tbody tr th {\n",
              "        vertical-align: top;\n",
              "    }\n",
              "\n",
              "    .dataframe thead th {\n",
              "        text-align: right;\n",
              "    }\n",
              "</style>\n",
              "<table border=\"1\" class=\"dataframe\">\n",
              "  <thead>\n",
              "    <tr style=\"text-align: right;\">\n",
              "      <th></th>\n",
              "      <th>JobTitle</th>\n",
              "      <th>Industry (Refined - k=12)</th>\n",
              "      <th>Industry (Broad - k=2)</th>\n",
              "    </tr>\n",
              "  </thead>\n",
              "  <tbody>\n",
              "    <tr>\n",
              "      <th>0</th>\n",
              "      <td>Software Engineer</td>\n",
              "      <td>Industry 5</td>\n",
              "      <td>General Industry A</td>\n",
              "    </tr>\n",
              "    <tr>\n",
              "      <th>1</th>\n",
              "      <td>Data Analyst</td>\n",
              "      <td>Industry 6</td>\n",
              "      <td>General Industry A</td>\n",
              "    </tr>\n",
              "    <tr>\n",
              "      <th>2</th>\n",
              "      <td>Senior Manager</td>\n",
              "      <td>Industry 3</td>\n",
              "      <td>General Industry A</td>\n",
              "    </tr>\n",
              "    <tr>\n",
              "      <th>3</th>\n",
              "      <td>Sales Associate</td>\n",
              "      <td>Industry 10</td>\n",
              "      <td>General Industry A</td>\n",
              "    </tr>\n",
              "    <tr>\n",
              "      <th>4</th>\n",
              "      <td>Director</td>\n",
              "      <td>Industry 4</td>\n",
              "      <td>General Industry B</td>\n",
              "    </tr>\n",
              "    <tr>\n",
              "      <th>...</th>\n",
              "      <td>...</td>\n",
              "      <td>...</td>\n",
              "      <td>...</td>\n",
              "    </tr>\n",
              "    <tr>\n",
              "      <th>1775</th>\n",
              "      <td>Digital Marketing Manager</td>\n",
              "      <td>Industry 3</td>\n",
              "      <td>General Industry A</td>\n",
              "    </tr>\n",
              "    <tr>\n",
              "      <th>1776</th>\n",
              "      <td>Sales Manager</td>\n",
              "      <td>Industry 10</td>\n",
              "      <td>General Industry A</td>\n",
              "    </tr>\n",
              "    <tr>\n",
              "      <th>1777</th>\n",
              "      <td>Director of Marketing</td>\n",
              "      <td>Industry 4</td>\n",
              "      <td>General Industry B</td>\n",
              "    </tr>\n",
              "    <tr>\n",
              "      <th>1778</th>\n",
              "      <td>Sales Director</td>\n",
              "      <td>Industry 10</td>\n",
              "      <td>General Industry B</td>\n",
              "    </tr>\n",
              "    <tr>\n",
              "      <th>1779</th>\n",
              "      <td>Sales Manager</td>\n",
              "      <td>Industry 10</td>\n",
              "      <td>General Industry A</td>\n",
              "    </tr>\n",
              "  </tbody>\n",
              "</table>\n",
              "<p>1780 rows × 3 columns</p>\n",
              "</div>\n",
              "    <div class=\"colab-df-buttons\">\n",
              "\n",
              "  <div class=\"colab-df-container\">\n",
              "    <button class=\"colab-df-convert\" onclick=\"convertToInteractive('df-6c9bd95a-f354-4bc5-8713-0e29ea95bd31')\"\n",
              "            title=\"Convert this dataframe to an interactive table.\"\n",
              "            style=\"display:none;\">\n",
              "\n",
              "  <svg xmlns=\"http://www.w3.org/2000/svg\" height=\"24px\" viewBox=\"0 -960 960 960\">\n",
              "    <path d=\"M120-120v-720h720v720H120Zm60-500h600v-160H180v160Zm220 220h160v-160H400v160Zm0 220h160v-160H400v160ZM180-400h160v-160H180v160Zm440 0h160v-160H620v160ZM180-180h160v-160H180v160Zm440 0h160v-160H620v160Z\"/>\n",
              "  </svg>\n",
              "    </button>\n",
              "\n",
              "  <style>\n",
              "    .colab-df-container {\n",
              "      display:flex;\n",
              "      gap: 12px;\n",
              "    }\n",
              "\n",
              "    .colab-df-convert {\n",
              "      background-color: #E8F0FE;\n",
              "      border: none;\n",
              "      border-radius: 50%;\n",
              "      cursor: pointer;\n",
              "      display: none;\n",
              "      fill: #1967D2;\n",
              "      height: 32px;\n",
              "      padding: 0 0 0 0;\n",
              "      width: 32px;\n",
              "    }\n",
              "\n",
              "    .colab-df-convert:hover {\n",
              "      background-color: #E2EBFA;\n",
              "      box-shadow: 0px 1px 2px rgba(60, 64, 67, 0.3), 0px 1px 3px 1px rgba(60, 64, 67, 0.15);\n",
              "      fill: #174EA6;\n",
              "    }\n",
              "\n",
              "    .colab-df-buttons div {\n",
              "      margin-bottom: 4px;\n",
              "    }\n",
              "\n",
              "    [theme=dark] .colab-df-convert {\n",
              "      background-color: #3B4455;\n",
              "      fill: #D2E3FC;\n",
              "    }\n",
              "\n",
              "    [theme=dark] .colab-df-convert:hover {\n",
              "      background-color: #434B5C;\n",
              "      box-shadow: 0px 1px 3px 1px rgba(0, 0, 0, 0.15);\n",
              "      filter: drop-shadow(0px 1px 2px rgba(0, 0, 0, 0.3));\n",
              "      fill: #FFFFFF;\n",
              "    }\n",
              "  </style>\n",
              "\n",
              "    <script>\n",
              "      const buttonEl =\n",
              "        document.querySelector('#df-6c9bd95a-f354-4bc5-8713-0e29ea95bd31 button.colab-df-convert');\n",
              "      buttonEl.style.display =\n",
              "        google.colab.kernel.accessAllowed ? 'block' : 'none';\n",
              "\n",
              "      async function convertToInteractive(key) {\n",
              "        const element = document.querySelector('#df-6c9bd95a-f354-4bc5-8713-0e29ea95bd31');\n",
              "        const dataTable =\n",
              "          await google.colab.kernel.invokeFunction('convertToInteractive',\n",
              "                                                    [key], {});\n",
              "        if (!dataTable) return;\n",
              "\n",
              "        const docLinkHtml = 'Like what you see? Visit the ' +\n",
              "          '<a target=\"_blank\" href=https://colab.research.google.com/notebooks/data_table.ipynb>data table notebook</a>'\n",
              "          + ' to learn more about interactive tables.';\n",
              "        element.innerHTML = '';\n",
              "        dataTable['output_type'] = 'display_data';\n",
              "        await google.colab.output.renderOutput(dataTable, element);\n",
              "        const docLink = document.createElement('div');\n",
              "        docLink.innerHTML = docLinkHtml;\n",
              "        element.appendChild(docLink);\n",
              "      }\n",
              "    </script>\n",
              "  </div>\n",
              "\n",
              "\n",
              "<div id=\"df-a899b187-0350-4aab-9c07-cdce146e9a9a\">\n",
              "  <button class=\"colab-df-quickchart\" onclick=\"quickchart('df-a899b187-0350-4aab-9c07-cdce146e9a9a')\"\n",
              "            title=\"Suggest charts\"\n",
              "            style=\"display:none;\">\n",
              "\n",
              "<svg xmlns=\"http://www.w3.org/2000/svg\" height=\"24px\"viewBox=\"0 0 24 24\"\n",
              "     width=\"24px\">\n",
              "    <g>\n",
              "        <path d=\"M19 3H5c-1.1 0-2 .9-2 2v14c0 1.1.9 2 2 2h14c1.1 0 2-.9 2-2V5c0-1.1-.9-2-2-2zM9 17H7v-7h2v7zm4 0h-2V7h2v10zm4 0h-2v-4h2v4z\"/>\n",
              "    </g>\n",
              "</svg>\n",
              "  </button>\n",
              "\n",
              "<style>\n",
              "  .colab-df-quickchart {\n",
              "      --bg-color: #E8F0FE;\n",
              "      --fill-color: #1967D2;\n",
              "      --hover-bg-color: #E2EBFA;\n",
              "      --hover-fill-color: #174EA6;\n",
              "      --disabled-fill-color: #AAA;\n",
              "      --disabled-bg-color: #DDD;\n",
              "  }\n",
              "\n",
              "  [theme=dark] .colab-df-quickchart {\n",
              "      --bg-color: #3B4455;\n",
              "      --fill-color: #D2E3FC;\n",
              "      --hover-bg-color: #434B5C;\n",
              "      --hover-fill-color: #FFFFFF;\n",
              "      --disabled-bg-color: #3B4455;\n",
              "      --disabled-fill-color: #666;\n",
              "  }\n",
              "\n",
              "  .colab-df-quickchart {\n",
              "    background-color: var(--bg-color);\n",
              "    border: none;\n",
              "    border-radius: 50%;\n",
              "    cursor: pointer;\n",
              "    display: none;\n",
              "    fill: var(--fill-color);\n",
              "    height: 32px;\n",
              "    padding: 0;\n",
              "    width: 32px;\n",
              "  }\n",
              "\n",
              "  .colab-df-quickchart:hover {\n",
              "    background-color: var(--hover-bg-color);\n",
              "    box-shadow: 0 1px 2px rgba(60, 64, 67, 0.3), 0 1px 3px 1px rgba(60, 64, 67, 0.15);\n",
              "    fill: var(--button-hover-fill-color);\n",
              "  }\n",
              "\n",
              "  .colab-df-quickchart-complete:disabled,\n",
              "  .colab-df-quickchart-complete:disabled:hover {\n",
              "    background-color: var(--disabled-bg-color);\n",
              "    fill: var(--disabled-fill-color);\n",
              "    box-shadow: none;\n",
              "  }\n",
              "\n",
              "  .colab-df-spinner {\n",
              "    border: 2px solid var(--fill-color);\n",
              "    border-color: transparent;\n",
              "    border-bottom-color: var(--fill-color);\n",
              "    animation:\n",
              "      spin 1s steps(1) infinite;\n",
              "  }\n",
              "\n",
              "  @keyframes spin {\n",
              "    0% {\n",
              "      border-color: transparent;\n",
              "      border-bottom-color: var(--fill-color);\n",
              "      border-left-color: var(--fill-color);\n",
              "    }\n",
              "    20% {\n",
              "      border-color: transparent;\n",
              "      border-left-color: var(--fill-color);\n",
              "      border-top-color: var(--fill-color);\n",
              "    }\n",
              "    30% {\n",
              "      border-color: transparent;\n",
              "      border-left-color: var(--fill-color);\n",
              "      border-top-color: var(--fill-color);\n",
              "      border-right-color: var(--fill-color);\n",
              "    }\n",
              "    40% {\n",
              "      border-color: transparent;\n",
              "      border-right-color: var(--fill-color);\n",
              "      border-top-color: var(--fill-color);\n",
              "    }\n",
              "    60% {\n",
              "      border-color: transparent;\n",
              "      border-right-color: var(--fill-color);\n",
              "    }\n",
              "    80% {\n",
              "      border-color: transparent;\n",
              "      border-right-color: var(--fill-color);\n",
              "      border-bottom-color: var(--fill-color);\n",
              "    }\n",
              "    90% {\n",
              "      border-color: transparent;\n",
              "      border-bottom-color: var(--fill-color);\n",
              "    }\n",
              "  }\n",
              "</style>\n",
              "\n",
              "  <script>\n",
              "    async function quickchart(key) {\n",
              "      const quickchartButtonEl =\n",
              "        document.querySelector('#' + key + ' button');\n",
              "      quickchartButtonEl.disabled = true;  // To prevent multiple clicks.\n",
              "      quickchartButtonEl.classList.add('colab-df-spinner');\n",
              "      try {\n",
              "        const charts = await google.colab.kernel.invokeFunction(\n",
              "            'suggestCharts', [key], {});\n",
              "      } catch (error) {\n",
              "        console.error('Error during call to suggestCharts:', error);\n",
              "      }\n",
              "      quickchartButtonEl.classList.remove('colab-df-spinner');\n",
              "      quickchartButtonEl.classList.add('colab-df-quickchart-complete');\n",
              "    }\n",
              "    (() => {\n",
              "      let quickchartButtonEl =\n",
              "        document.querySelector('#df-a899b187-0350-4aab-9c07-cdce146e9a9a button');\n",
              "      quickchartButtonEl.style.display =\n",
              "        google.colab.kernel.accessAllowed ? 'block' : 'none';\n",
              "    })();\n",
              "  </script>\n",
              "</div>\n",
              "\n",
              "    </div>\n",
              "  </div>\n"
            ],
            "application/vnd.google.colaboratory.intrinsic+json": {
              "type": "dataframe",
              "summary": "{\n  \"name\": \"# df_sd6\",\n  \"rows\": 1780,\n  \"fields\": [\n    {\n      \"column\": \"JobTitle\",\n      \"properties\": {\n        \"dtype\": \"category\",\n        \"num_unique_values\": 191,\n        \"samples\": [\n          \"Senior Human Resources Specialist\",\n          \"Junior Account Manager\",\n          \"Senior IT Consultant\"\n        ],\n        \"semantic_type\": \"\",\n        \"description\": \"\"\n      }\n    },\n    {\n      \"column\": \"Industry (Refined - k=12)\",\n      \"properties\": {\n        \"dtype\": \"category\",\n        \"num_unique_values\": 12,\n        \"samples\": [\n          \"Industry 9\",\n          \"Industry 8\",\n          \"Industry 5\"\n        ],\n        \"semantic_type\": \"\",\n        \"description\": \"\"\n      }\n    },\n    {\n      \"column\": \"Industry (Broad - k=2)\",\n      \"properties\": {\n        \"dtype\": \"category\",\n        \"num_unique_values\": 2,\n        \"samples\": [\n          \"General Industry B\",\n          \"General Industry A\"\n        ],\n        \"semantic_type\": \"\",\n        \"description\": \"\"\n      }\n    }\n  ]\n}"
            }
          },
          "metadata": {},
          "execution_count": 134
        }
      ],
      "source": [
        "# Apply K-Means clustering with k=12 (Refined Job Categories)\n",
        "kmeans_refined = KMeans(n_clusters=12, random_state=42, n_init=10)\n",
        "clusters_refined = kmeans_refined.fit_predict(X_job)\n",
        "\n",
        "# Apply K-Means clustering with k=2 (Broader Job Categories)\n",
        "kmeans_broad = KMeans(n_clusters=2, random_state=42, n_init=10)\n",
        "clusters_broad = kmeans_broad.fit_predict(X_job)\n",
        "\n",
        "# Map job titles to clusters for both cases\n",
        "df_sd6['Industry (Refined - k=12)'] = df_sd6['JobTitle'].map(dict(zip(job_titles, clusters_refined)))\n",
        "df_sd6['Industry (Broad - k=2)'] = df_sd6['JobTitle'].map(dict(zip(job_titles, clusters_broad)))\n",
        "\n",
        "# Define industry mappings (Placeholder Names)\n",
        "industry_mapping_refined = {i: f\"Industry {i+1}\" for i in range(12)}\n",
        "industry_mapping_broad = {0: \"General Industry A\", 1: \"General Industry B\"}\n",
        "\n",
        "# Apply mappings\n",
        "df_sd6['Industry (Refined - k=12)'] = df_sd6['Industry (Refined - k=12)'].map(industry_mapping_refined)\n",
        "df_sd6['Industry (Broad - k=2)'] = df_sd6['Industry (Broad - k=2)'].map(industry_mapping_broad)\n",
        "\n",
        "# Display the DataFrame with both refined (k=12) and broad (k=2) industries\n",
        "df_sd6[['JobTitle', 'Industry (Refined - k=12)', 'Industry (Broad - k=2)']]\n",
        "\n",
        "# df_sd6.to_csv('cluster_compare_job_titles.csv', index=False)"
      ]
    },
    {
      "cell_type": "code",
      "execution_count": 135,
      "metadata": {
        "colab": {
          "base_uri": "https://localhost:8080/",
          "height": 425
        },
        "id": "TQbEpPqFGV0O",
        "outputId": "84b2c547-9963-4096-9929-ea357049d984"
      },
      "outputs": [
        {
          "output_type": "execute_result",
          "data": {
            "text/plain": [
              "        Cluster                                         Job Titles\n",
              "0    Industry 1  [Marketing Coordinator, Event Coordinator, Sen...\n",
              "1   Industry 10  [Sales Associate, Sales Manager, Sales Directo...\n",
              "2   Industry 11  [Human Resources Director, Director of Human R...\n",
              "3   Industry 12  [Business Analyst, Business Intelligence Analy...\n",
              "4    Industry 2  [Senior Scientist, Customer Service Rep, Data ...\n",
              "5    Industry 3  [Senior Manager, Product Manager, HR Manager, ...\n",
              "6    Industry 4  [Director, Operations Director, Director of Ma...\n",
              "7    Industry 5  [Software Engineer, Senior Engineer, Software ...\n",
              "8    Industry 6  [Data Analyst, Marketing Analyst, Financial An...\n",
              "9    Industry 7  [Software Developer, Junior Developer, Web Dev...\n",
              "10   Industry 8  [Social Media Specialist, Marketing Specialist...\n",
              "11   Industry 9  [Product Designer, UX Designer, Graphic Design..."
            ],
            "text/html": [
              "\n",
              "  <div id=\"df-d236c34a-cc01-4907-b1fb-569fb23346ad\" class=\"colab-df-container\">\n",
              "    <div>\n",
              "<style scoped>\n",
              "    .dataframe tbody tr th:only-of-type {\n",
              "        vertical-align: middle;\n",
              "    }\n",
              "\n",
              "    .dataframe tbody tr th {\n",
              "        vertical-align: top;\n",
              "    }\n",
              "\n",
              "    .dataframe thead th {\n",
              "        text-align: right;\n",
              "    }\n",
              "</style>\n",
              "<table border=\"1\" class=\"dataframe\">\n",
              "  <thead>\n",
              "    <tr style=\"text-align: right;\">\n",
              "      <th></th>\n",
              "      <th>Cluster</th>\n",
              "      <th>Job Titles</th>\n",
              "    </tr>\n",
              "  </thead>\n",
              "  <tbody>\n",
              "    <tr>\n",
              "      <th>0</th>\n",
              "      <td>Industry 1</td>\n",
              "      <td>[Marketing Coordinator, Event Coordinator, Sen...</td>\n",
              "    </tr>\n",
              "    <tr>\n",
              "      <th>1</th>\n",
              "      <td>Industry 10</td>\n",
              "      <td>[Sales Associate, Sales Manager, Sales Directo...</td>\n",
              "    </tr>\n",
              "    <tr>\n",
              "      <th>2</th>\n",
              "      <td>Industry 11</td>\n",
              "      <td>[Human Resources Director, Director of Human R...</td>\n",
              "    </tr>\n",
              "    <tr>\n",
              "      <th>3</th>\n",
              "      <td>Industry 12</td>\n",
              "      <td>[Business Analyst, Business Intelligence Analy...</td>\n",
              "    </tr>\n",
              "    <tr>\n",
              "      <th>4</th>\n",
              "      <td>Industry 2</td>\n",
              "      <td>[Senior Scientist, Customer Service Rep, Data ...</td>\n",
              "    </tr>\n",
              "    <tr>\n",
              "      <th>5</th>\n",
              "      <td>Industry 3</td>\n",
              "      <td>[Senior Manager, Product Manager, HR Manager, ...</td>\n",
              "    </tr>\n",
              "    <tr>\n",
              "      <th>6</th>\n",
              "      <td>Industry 4</td>\n",
              "      <td>[Director, Operations Director, Director of Ma...</td>\n",
              "    </tr>\n",
              "    <tr>\n",
              "      <th>7</th>\n",
              "      <td>Industry 5</td>\n",
              "      <td>[Software Engineer, Senior Engineer, Software ...</td>\n",
              "    </tr>\n",
              "    <tr>\n",
              "      <th>8</th>\n",
              "      <td>Industry 6</td>\n",
              "      <td>[Data Analyst, Marketing Analyst, Financial An...</td>\n",
              "    </tr>\n",
              "    <tr>\n",
              "      <th>9</th>\n",
              "      <td>Industry 7</td>\n",
              "      <td>[Software Developer, Junior Developer, Web Dev...</td>\n",
              "    </tr>\n",
              "    <tr>\n",
              "      <th>10</th>\n",
              "      <td>Industry 8</td>\n",
              "      <td>[Social Media Specialist, Marketing Specialist...</td>\n",
              "    </tr>\n",
              "    <tr>\n",
              "      <th>11</th>\n",
              "      <td>Industry 9</td>\n",
              "      <td>[Product Designer, UX Designer, Graphic Design...</td>\n",
              "    </tr>\n",
              "  </tbody>\n",
              "</table>\n",
              "</div>\n",
              "    <div class=\"colab-df-buttons\">\n",
              "\n",
              "  <div class=\"colab-df-container\">\n",
              "    <button class=\"colab-df-convert\" onclick=\"convertToInteractive('df-d236c34a-cc01-4907-b1fb-569fb23346ad')\"\n",
              "            title=\"Convert this dataframe to an interactive table.\"\n",
              "            style=\"display:none;\">\n",
              "\n",
              "  <svg xmlns=\"http://www.w3.org/2000/svg\" height=\"24px\" viewBox=\"0 -960 960 960\">\n",
              "    <path d=\"M120-120v-720h720v720H120Zm60-500h600v-160H180v160Zm220 220h160v-160H400v160Zm0 220h160v-160H400v160ZM180-400h160v-160H180v160Zm440 0h160v-160H620v160ZM180-180h160v-160H180v160Zm440 0h160v-160H620v160Z\"/>\n",
              "  </svg>\n",
              "    </button>\n",
              "\n",
              "  <style>\n",
              "    .colab-df-container {\n",
              "      display:flex;\n",
              "      gap: 12px;\n",
              "    }\n",
              "\n",
              "    .colab-df-convert {\n",
              "      background-color: #E8F0FE;\n",
              "      border: none;\n",
              "      border-radius: 50%;\n",
              "      cursor: pointer;\n",
              "      display: none;\n",
              "      fill: #1967D2;\n",
              "      height: 32px;\n",
              "      padding: 0 0 0 0;\n",
              "      width: 32px;\n",
              "    }\n",
              "\n",
              "    .colab-df-convert:hover {\n",
              "      background-color: #E2EBFA;\n",
              "      box-shadow: 0px 1px 2px rgba(60, 64, 67, 0.3), 0px 1px 3px 1px rgba(60, 64, 67, 0.15);\n",
              "      fill: #174EA6;\n",
              "    }\n",
              "\n",
              "    .colab-df-buttons div {\n",
              "      margin-bottom: 4px;\n",
              "    }\n",
              "\n",
              "    [theme=dark] .colab-df-convert {\n",
              "      background-color: #3B4455;\n",
              "      fill: #D2E3FC;\n",
              "    }\n",
              "\n",
              "    [theme=dark] .colab-df-convert:hover {\n",
              "      background-color: #434B5C;\n",
              "      box-shadow: 0px 1px 3px 1px rgba(0, 0, 0, 0.15);\n",
              "      filter: drop-shadow(0px 1px 2px rgba(0, 0, 0, 0.3));\n",
              "      fill: #FFFFFF;\n",
              "    }\n",
              "  </style>\n",
              "\n",
              "    <script>\n",
              "      const buttonEl =\n",
              "        document.querySelector('#df-d236c34a-cc01-4907-b1fb-569fb23346ad button.colab-df-convert');\n",
              "      buttonEl.style.display =\n",
              "        google.colab.kernel.accessAllowed ? 'block' : 'none';\n",
              "\n",
              "      async function convertToInteractive(key) {\n",
              "        const element = document.querySelector('#df-d236c34a-cc01-4907-b1fb-569fb23346ad');\n",
              "        const dataTable =\n",
              "          await google.colab.kernel.invokeFunction('convertToInteractive',\n",
              "                                                    [key], {});\n",
              "        if (!dataTable) return;\n",
              "\n",
              "        const docLinkHtml = 'Like what you see? Visit the ' +\n",
              "          '<a target=\"_blank\" href=https://colab.research.google.com/notebooks/data_table.ipynb>data table notebook</a>'\n",
              "          + ' to learn more about interactive tables.';\n",
              "        element.innerHTML = '';\n",
              "        dataTable['output_type'] = 'display_data';\n",
              "        await google.colab.output.renderOutput(dataTable, element);\n",
              "        const docLink = document.createElement('div');\n",
              "        docLink.innerHTML = docLinkHtml;\n",
              "        element.appendChild(docLink);\n",
              "      }\n",
              "    </script>\n",
              "  </div>\n",
              "\n",
              "\n",
              "<div id=\"df-739327f4-9e41-4f10-b6ab-e2515f183cff\">\n",
              "  <button class=\"colab-df-quickchart\" onclick=\"quickchart('df-739327f4-9e41-4f10-b6ab-e2515f183cff')\"\n",
              "            title=\"Suggest charts\"\n",
              "            style=\"display:none;\">\n",
              "\n",
              "<svg xmlns=\"http://www.w3.org/2000/svg\" height=\"24px\"viewBox=\"0 0 24 24\"\n",
              "     width=\"24px\">\n",
              "    <g>\n",
              "        <path d=\"M19 3H5c-1.1 0-2 .9-2 2v14c0 1.1.9 2 2 2h14c1.1 0 2-.9 2-2V5c0-1.1-.9-2-2-2zM9 17H7v-7h2v7zm4 0h-2V7h2v10zm4 0h-2v-4h2v4z\"/>\n",
              "    </g>\n",
              "</svg>\n",
              "  </button>\n",
              "\n",
              "<style>\n",
              "  .colab-df-quickchart {\n",
              "      --bg-color: #E8F0FE;\n",
              "      --fill-color: #1967D2;\n",
              "      --hover-bg-color: #E2EBFA;\n",
              "      --hover-fill-color: #174EA6;\n",
              "      --disabled-fill-color: #AAA;\n",
              "      --disabled-bg-color: #DDD;\n",
              "  }\n",
              "\n",
              "  [theme=dark] .colab-df-quickchart {\n",
              "      --bg-color: #3B4455;\n",
              "      --fill-color: #D2E3FC;\n",
              "      --hover-bg-color: #434B5C;\n",
              "      --hover-fill-color: #FFFFFF;\n",
              "      --disabled-bg-color: #3B4455;\n",
              "      --disabled-fill-color: #666;\n",
              "  }\n",
              "\n",
              "  .colab-df-quickchart {\n",
              "    background-color: var(--bg-color);\n",
              "    border: none;\n",
              "    border-radius: 50%;\n",
              "    cursor: pointer;\n",
              "    display: none;\n",
              "    fill: var(--fill-color);\n",
              "    height: 32px;\n",
              "    padding: 0;\n",
              "    width: 32px;\n",
              "  }\n",
              "\n",
              "  .colab-df-quickchart:hover {\n",
              "    background-color: var(--hover-bg-color);\n",
              "    box-shadow: 0 1px 2px rgba(60, 64, 67, 0.3), 0 1px 3px 1px rgba(60, 64, 67, 0.15);\n",
              "    fill: var(--button-hover-fill-color);\n",
              "  }\n",
              "\n",
              "  .colab-df-quickchart-complete:disabled,\n",
              "  .colab-df-quickchart-complete:disabled:hover {\n",
              "    background-color: var(--disabled-bg-color);\n",
              "    fill: var(--disabled-fill-color);\n",
              "    box-shadow: none;\n",
              "  }\n",
              "\n",
              "  .colab-df-spinner {\n",
              "    border: 2px solid var(--fill-color);\n",
              "    border-color: transparent;\n",
              "    border-bottom-color: var(--fill-color);\n",
              "    animation:\n",
              "      spin 1s steps(1) infinite;\n",
              "  }\n",
              "\n",
              "  @keyframes spin {\n",
              "    0% {\n",
              "      border-color: transparent;\n",
              "      border-bottom-color: var(--fill-color);\n",
              "      border-left-color: var(--fill-color);\n",
              "    }\n",
              "    20% {\n",
              "      border-color: transparent;\n",
              "      border-left-color: var(--fill-color);\n",
              "      border-top-color: var(--fill-color);\n",
              "    }\n",
              "    30% {\n",
              "      border-color: transparent;\n",
              "      border-left-color: var(--fill-color);\n",
              "      border-top-color: var(--fill-color);\n",
              "      border-right-color: var(--fill-color);\n",
              "    }\n",
              "    40% {\n",
              "      border-color: transparent;\n",
              "      border-right-color: var(--fill-color);\n",
              "      border-top-color: var(--fill-color);\n",
              "    }\n",
              "    60% {\n",
              "      border-color: transparent;\n",
              "      border-right-color: var(--fill-color);\n",
              "    }\n",
              "    80% {\n",
              "      border-color: transparent;\n",
              "      border-right-color: var(--fill-color);\n",
              "      border-bottom-color: var(--fill-color);\n",
              "    }\n",
              "    90% {\n",
              "      border-color: transparent;\n",
              "      border-bottom-color: var(--fill-color);\n",
              "    }\n",
              "  }\n",
              "</style>\n",
              "\n",
              "  <script>\n",
              "    async function quickchart(key) {\n",
              "      const quickchartButtonEl =\n",
              "        document.querySelector('#' + key + ' button');\n",
              "      quickchartButtonEl.disabled = true;  // To prevent multiple clicks.\n",
              "      quickchartButtonEl.classList.add('colab-df-spinner');\n",
              "      try {\n",
              "        const charts = await google.colab.kernel.invokeFunction(\n",
              "            'suggestCharts', [key], {});\n",
              "      } catch (error) {\n",
              "        console.error('Error during call to suggestCharts:', error);\n",
              "      }\n",
              "      quickchartButtonEl.classList.remove('colab-df-spinner');\n",
              "      quickchartButtonEl.classList.add('colab-df-quickchart-complete');\n",
              "    }\n",
              "    (() => {\n",
              "      let quickchartButtonEl =\n",
              "        document.querySelector('#df-739327f4-9e41-4f10-b6ab-e2515f183cff button');\n",
              "      quickchartButtonEl.style.display =\n",
              "        google.colab.kernel.accessAllowed ? 'block' : 'none';\n",
              "    })();\n",
              "  </script>\n",
              "</div>\n",
              "\n",
              "  <div id=\"id_2df9f39d-2a60-4536-ba1c-972f16edb3e3\">\n",
              "    <style>\n",
              "      .colab-df-generate {\n",
              "        background-color: #E8F0FE;\n",
              "        border: none;\n",
              "        border-radius: 50%;\n",
              "        cursor: pointer;\n",
              "        display: none;\n",
              "        fill: #1967D2;\n",
              "        height: 32px;\n",
              "        padding: 0 0 0 0;\n",
              "        width: 32px;\n",
              "      }\n",
              "\n",
              "      .colab-df-generate:hover {\n",
              "        background-color: #E2EBFA;\n",
              "        box-shadow: 0px 1px 2px rgba(60, 64, 67, 0.3), 0px 1px 3px 1px rgba(60, 64, 67, 0.15);\n",
              "        fill: #174EA6;\n",
              "      }\n",
              "\n",
              "      [theme=dark] .colab-df-generate {\n",
              "        background-color: #3B4455;\n",
              "        fill: #D2E3FC;\n",
              "      }\n",
              "\n",
              "      [theme=dark] .colab-df-generate:hover {\n",
              "        background-color: #434B5C;\n",
              "        box-shadow: 0px 1px 3px 1px rgba(0, 0, 0, 0.15);\n",
              "        filter: drop-shadow(0px 1px 2px rgba(0, 0, 0, 0.3));\n",
              "        fill: #FFFFFF;\n",
              "      }\n",
              "    </style>\n",
              "    <button class=\"colab-df-generate\" onclick=\"generateWithVariable('df_industry_job')\"\n",
              "            title=\"Generate code using this dataframe.\"\n",
              "            style=\"display:none;\">\n",
              "\n",
              "  <svg xmlns=\"http://www.w3.org/2000/svg\" height=\"24px\"viewBox=\"0 0 24 24\"\n",
              "       width=\"24px\">\n",
              "    <path d=\"M7,19H8.4L18.45,9,17,7.55,7,17.6ZM5,21V16.75L18.45,3.32a2,2,0,0,1,2.83,0l1.4,1.43a1.91,1.91,0,0,1,.58,1.4,1.91,1.91,0,0,1-.58,1.4L9.25,21ZM18.45,9,17,7.55Zm-12,3A5.31,5.31,0,0,0,4.9,8.1,5.31,5.31,0,0,0,1,6.5,5.31,5.31,0,0,0,4.9,4.9,5.31,5.31,0,0,0,6.5,1,5.31,5.31,0,0,0,8.1,4.9,5.31,5.31,0,0,0,12,6.5,5.46,5.46,0,0,0,6.5,12Z\"/>\n",
              "  </svg>\n",
              "    </button>\n",
              "    <script>\n",
              "      (() => {\n",
              "      const buttonEl =\n",
              "        document.querySelector('#id_2df9f39d-2a60-4536-ba1c-972f16edb3e3 button.colab-df-generate');\n",
              "      buttonEl.style.display =\n",
              "        google.colab.kernel.accessAllowed ? 'block' : 'none';\n",
              "\n",
              "      buttonEl.onclick = () => {\n",
              "        google.colab.notebook.generateWithVariable('df_industry_job');\n",
              "      }\n",
              "      })();\n",
              "    </script>\n",
              "  </div>\n",
              "\n",
              "    </div>\n",
              "  </div>\n"
            ],
            "application/vnd.google.colaboratory.intrinsic+json": {
              "type": "dataframe",
              "variable_name": "df_industry_job",
              "summary": "{\n  \"name\": \"df_industry_job\",\n  \"rows\": 12,\n  \"fields\": [\n    {\n      \"column\": \"Cluster\",\n      \"properties\": {\n        \"dtype\": \"string\",\n        \"num_unique_values\": 12,\n        \"samples\": [\n          \"Industry 8\",\n          \"Industry 7\",\n          \"Industry 1\"\n        ],\n        \"semantic_type\": \"\",\n        \"description\": \"\"\n      }\n    },\n    {\n      \"column\": \"Job Titles\",\n      \"properties\": {\n        \"dtype\": \"object\",\n        \"semantic_type\": \"\",\n        \"description\": \"\"\n      }\n    }\n  ]\n}"
            }
          },
          "metadata": {},
          "execution_count": 135
        }
      ],
      "source": [
        "# Group job titles by their assigned cluster (Industry k=12)\n",
        "industry_job_distribution = df_sd6.groupby(\"Industry (Refined - k=12)\")[\"JobTitle\"].unique()\n",
        "\n",
        "# Convert to DataFrame for better readability\n",
        "df_industry_job = industry_job_distribution.reset_index()\n",
        "df_industry_job.columns = [\"Cluster\", \"Job Titles\"]\n",
        "\n",
        "df_industry_job"
      ]
    },
    {
      "cell_type": "markdown",
      "metadata": {
        "id": "xQSlsWUT-Hjr"
      },
      "source": [
        "**Part 2 of 2: Clustering JobTitles to Industry**\n",
        "\n",
        "Apply K-Means Clustering with Optimal Clusters\n",
        "\n",
        "*   Fit the model using the finalised number of clusters.\n",
        "*   Assign each job title to a cluster.\n",
        "\n",
        "Map Clusters to Industry Names\n",
        "\n",
        "*   Define a manual mapping from cluster numbers to industry labels.\n",
        "*   Apply this mapping to assign industry names to job titles.\n",
        "\n",
        "Update the Original DataFrame\n",
        "\n",
        "*   Merge the clustered job titles back into the dataset with a new column \"Industry\""
      ]
    },
    {
      "cell_type": "code",
      "execution_count": 136,
      "metadata": {
        "colab": {
          "base_uri": "https://localhost:8080/"
        },
        "id": "nB708zXl9KIV",
        "outputId": "7b695dae-f0fe-4b7d-ad7d-c85c0d673499"
      },
      "outputs": [
        {
          "output_type": "stream",
          "name": "stdout",
          "text": [
            "       Age  Gender        EduLevel                   JobTitle  YrsExp  \\\n",
            "0     32.0    Male  BachelorDegree          Software Engineer     5.0   \n",
            "1     28.0  Female    MasterDegree               Data Analyst     3.0   \n",
            "2     45.0    Male             PhD             Senior Manager    15.0   \n",
            "3     36.0  Female  BachelorDegree            Sales Associate     7.0   \n",
            "4     52.0    Male    MasterDegree                   Director    20.0   \n",
            "...    ...     ...             ...                        ...     ...   \n",
            "1775  43.0  Female    MasterDegree  Digital Marketing Manager    15.0   \n",
            "1776  27.0    Male      HighSchool              Sales Manager     2.0   \n",
            "1777  33.0  Female  BachelorDegree      Director of Marketing     8.0   \n",
            "1778  37.0    Male  BachelorDegree             Sales Director     7.0   \n",
            "1779  30.0  Female  BachelorDegree              Sales Manager     5.0   \n",
            "\n",
            "        Salary                       Industry  \n",
            "0      90000.0       Data Science & Analytics  \n",
            "1      65000.0     Healthcare & Life Sciences  \n",
            "2     150000.0  Executive & Senior Management  \n",
            "3      60000.0   Sales & Business Development  \n",
            "4     200000.0       Technology & IT Services  \n",
            "...        ...                            ...  \n",
            "1775  150000.0  Executive & Senior Management  \n",
            "1776   40000.0   Sales & Business Development  \n",
            "1777   80000.0       Technology & IT Services  \n",
            "1778   90000.0   Sales & Business Development  \n",
            "1779   70000.0   Sales & Business Development  \n",
            "\n",
            "[1780 rows x 7 columns]\n"
          ]
        }
      ],
      "source": [
        "# Remove column for broad\n",
        "df_sd6 = df_sd6.drop('Industry (Broad - k=2)', axis=1)\n",
        "df_sd6 = df_sd6.drop('Industry (Refined - k=12)', axis=1)\n",
        "\n",
        "# Select optimal clusters based on highest silhouette score\n",
        "optimal_clusters = cluster_range[np.argmax(silhouette_scores)]\n",
        "\n",
        "# Apply K-Means clustering with the optimized number of clusters\n",
        "kmeans_optimal = KMeans(n_clusters=optimal_clusters, random_state=42, n_init=10)\n",
        "clusters_optimal = kmeans_optimal.fit_predict(X_job)\n",
        "\n",
        "# Map job titles to clusters\n",
        "job_cluster_mapping = dict(zip(job_titles, clusters_optimal))\n",
        "df_sd6['Industry'] = df_sd6['JobTitle'].map(job_cluster_mapping)\n",
        "\n",
        "# Define refined industry names based on job title distribution\n",
        "industry_mapping_refined = {\n",
        "    0: \"Marketing & Communications\",\n",
        "    1: \"Research & Customer Support\",\n",
        "    2: \"Executive & Senior Management\",\n",
        "    3: \"Technology & IT Services\",\n",
        "    4: \"Data Science & Analytics\",\n",
        "    5: \"Healthcare & Life Sciences\",\n",
        "    6: \"Finance & Accounting\",\n",
        "    7: \"Operations & Supply Chain\",\n",
        "    8: \"Education & Training\",\n",
        "    9: \"Sales & Business Development\",\n",
        "    10: \"Human Resources & Administration\",\n",
        "    11: \"Business Strategy & Consulting\"\n",
        "}\n",
        "# Apply industry mapping\n",
        "df_sd6['Industry'] = df_sd6['Industry'].map(industry_mapping_refined)\n",
        "\n",
        "print(df_sd6)"
      ]
    },
    {
      "cell_type": "markdown",
      "metadata": {
        "id": "zSdATHvuuqox"
      },
      "source": [
        "Clustering Age to Generation"
      ]
    },
    {
      "cell_type": "code",
      "execution_count": 137,
      "metadata": {
        "colab": {
          "base_uri": "https://localhost:8080/",
          "height": 918
        },
        "id": "URV0eIoKrVW-",
        "outputId": "b9fd4433-ed88-4784-9675-36cdbae3622d"
      },
      "outputs": [
        {
          "output_type": "stream",
          "name": "stdout",
          "text": [
            "Frequency of each generation type:\n",
            "Generation\n",
            "Millennials         1015\n",
            "GenZ                 438\n",
            "GenX                 321\n",
            "BabyBoomer             6\n",
            "SilentGeneration       0\n",
            "Name: count, dtype: int64\n",
            "\n"
          ]
        },
        {
          "output_type": "display_data",
          "data": {
            "text/plain": [
              "<Figure size 800x800 with 1 Axes>"
            ],
            "image/png": "[encoded data removed]"
          },
          "metadata": {}
        },
        {
          "output_type": "stream",
          "name": "stdout",
          "text": [
            "\n",
            "(1780, 9)\n",
            "Updated Columns of Data Set Index(['Age', 'Gender', 'EduLevel', 'JobTitle', 'YrsExp', 'Salary', 'Industry',\n",
            "       'BirthYear', 'Generation'],\n",
            "      dtype='object')\n"
          ]
        }
      ],
      "source": [
        "# Define the reference year based on the dataset's last update\n",
        "reference_year = 2023\n",
        "\n",
        "# Calculate the Birth Year\n",
        "df_sd6['BirthYear'] = reference_year - df_sd6['Age']\n",
        "\n",
        "# Define bins and labels for generation categories\n",
        "bins = [0, 1943, 1964, 1979, 1994, float('inf')]\n",
        "labels = ['SilentGeneration', 'BabyBoomer', 'GenX', 'Millennials', 'GenZ']\n",
        "\n",
        "# Assign generations based on Birth Year\n",
        "df_sd6['Generation'] = pd.cut(df_sd6['BirthYear'], bins=bins, labels=labels, right=True)\n",
        "\n",
        "# Get the frequency of each label under 'Generation'\n",
        "generation_counts = df_sd6['Generation'].value_counts()\n",
        "\n",
        "# Print the frequency\n",
        "print(\"Frequency of each generation type:\")\n",
        "print(generation_counts)\n",
        "print('')\n",
        "\n",
        "# Create a pie chart\n",
        "plt.figure(figsize=(8, 8))  # Adjust figure size if needed\n",
        "plt.pie(generation_counts, labels=generation_counts.index, autopct='%1.1f%%', startangle=90)\n",
        "plt.title('Distribution of Generations')\n",
        "plt.show()\n",
        "print('')\n",
        "\n",
        "print(df_sd6.shape)\n",
        "print(\"Updated Columns of Data Set\", df_sd6.columns)"
      ]
    },
    {
      "cell_type": "markdown",
      "metadata": {
        "id": "Kpc9dcMkuqFo"
      },
      "source": [
        "Clustering Years of Experience to Seniority"
      ]
    },
    {
      "cell_type": "code",
      "execution_count": 138,
      "metadata": {
        "colab": {
          "base_uri": "https://localhost:8080/"
        },
        "id": "LWiZXhQwvDgq",
        "outputId": "e0f425a6-2dbb-43f8-9357-40ea16c1d90c"
      },
      "outputs": [
        {
          "output_type": "stream",
          "name": "stdout",
          "text": [
            "Frequency of each Seniority:\n",
            "Seniority\n",
            "Entry        449\n",
            "Mid          346\n",
            "Junior       333\n",
            "Executive    329\n",
            "Senior       323\n",
            "Name: count, dtype: int64\n",
            "\n"
          ]
        },
        {
          "output_type": "execute_result",
          "data": {
            "text/plain": [
              "Index(['Age', 'Gender', 'EduLevel', 'JobTitle', 'YrsExp', 'Salary', 'Industry',\n",
              "       'BirthYear', 'Generation', 'Seniority'],\n",
              "      dtype='object')"
            ]
          },
          "metadata": {},
          "execution_count": 138
        }
      ],
      "source": [
        "def assign_seniority(years):\n",
        "    if years <= 3:\n",
        "        return \"Entry\"\n",
        "    elif 4 <= years <= 6:\n",
        "        return \"Junior\"\n",
        "    elif 7 <= years <= 10:\n",
        "        return \"Mid\"\n",
        "    elif 11 <= years <= 15:\n",
        "        return \"Senior\"\n",
        "    else:\n",
        "        return \"Executive\"\n",
        "\n",
        "# Apply the mapping function to create the new 'Seniority' column\n",
        "df_sd6['Seniority'] = df_sd6['YrsExp'].apply(assign_seniority)\n",
        "\n",
        "# Get the frequency of each label under 'Generation'\n",
        "seniority_counts = df_sd6['Seniority'].value_counts()\n",
        "\n",
        "# Print the frequency\n",
        "print(\"Frequency of each Seniority:\")\n",
        "print(seniority_counts)\n",
        "print('')\n",
        "\n",
        "df_sd6.columns"
      ]
    },
    {
      "cell_type": "markdown",
      "metadata": {
        "id": "hlpc_EAIzw9E"
      },
      "source": [
        "Encode Categorical Features and Scale the features"
      ]
    },
    {
      "cell_type": "code",
      "execution_count": 139,
      "metadata": {
        "id": "d3Q4G7lmn8C2",
        "colab": {
          "base_uri": "https://localhost:8080/"
        },
        "outputId": "0bbcf426-83ec-4d1a-955d-770767aa1d7c"
      },
      "outputs": [
        {
          "output_type": "stream",
          "name": "stdout",
          "text": [
            "           Age    YrsExp  EduLevel  Generation  Seniority  Gender_Female  \\\n",
            "0    -0.381613 -0.607067       0.0         3.0        2.0            0.0   \n",
            "1    -0.870472 -0.901223       2.0         2.0        0.0            1.0   \n",
            "2     1.207181  0.863710       3.0         1.0        4.0            0.0   \n",
            "3     0.107247 -0.312912       0.0         3.0        3.0            1.0   \n",
            "4     2.062685  1.599098       2.0         1.0        1.0            0.0   \n",
            "...        ...       ...       ...         ...        ...            ...   \n",
            "1775  0.962751  0.863710       2.0         3.0        4.0            1.0   \n",
            "1776 -0.992687 -1.048301       1.0         2.0        0.0            0.0   \n",
            "1777 -0.259398 -0.165834       0.0         3.0        3.0            1.0   \n",
            "1778  0.229462 -0.312912       0.0         3.0        3.0            0.0   \n",
            "1779 -0.626042 -0.607067       0.0         3.0        2.0            1.0   \n",
            "\n",
            "      Gender_Male  Industry_Business Strategy & Consulting  \\\n",
            "0             1.0                                      0.0   \n",
            "1             0.0                                      0.0   \n",
            "2             1.0                                      0.0   \n",
            "3             0.0                                      0.0   \n",
            "4             1.0                                      0.0   \n",
            "...           ...                                      ...   \n",
            "1775          0.0                                      0.0   \n",
            "1776          1.0                                      0.0   \n",
            "1777          0.0                                      0.0   \n",
            "1778          1.0                                      0.0   \n",
            "1779          0.0                                      0.0   \n",
            "\n",
            "      Industry_Data Science & Analytics  Industry_Education & Training  \\\n",
            "0                                   1.0                            0.0   \n",
            "1                                   0.0                            0.0   \n",
            "2                                   0.0                            0.0   \n",
            "3                                   0.0                            0.0   \n",
            "4                                   0.0                            0.0   \n",
            "...                                 ...                            ...   \n",
            "1775                                0.0                            0.0   \n",
            "1776                                0.0                            0.0   \n",
            "1777                                0.0                            0.0   \n",
            "1778                                0.0                            0.0   \n",
            "1779                                0.0                            0.0   \n",
            "\n",
            "      Industry_Executive & Senior Management  Industry_Finance & Accounting  \\\n",
            "0                                        0.0                            0.0   \n",
            "1                                        0.0                            0.0   \n",
            "2                                        1.0                            0.0   \n",
            "3                                        0.0                            0.0   \n",
            "4                                        0.0                            0.0   \n",
            "...                                      ...                            ...   \n",
            "1775                                     1.0                            0.0   \n",
            "1776                                     0.0                            0.0   \n",
            "1777                                     0.0                            0.0   \n",
            "1778                                     0.0                            0.0   \n",
            "1779                                     0.0                            0.0   \n",
            "\n",
            "      Industry_Healthcare & Life Sciences  \\\n",
            "0                                     0.0   \n",
            "1                                     1.0   \n",
            "2                                     0.0   \n",
            "3                                     0.0   \n",
            "4                                     0.0   \n",
            "...                                   ...   \n",
            "1775                                  0.0   \n",
            "1776                                  0.0   \n",
            "1777                                  0.0   \n",
            "1778                                  0.0   \n",
            "1779                                  0.0   \n",
            "\n",
            "      Industry_Human Resources & Administration  \\\n",
            "0                                           0.0   \n",
            "1                                           0.0   \n",
            "2                                           0.0   \n",
            "3                                           0.0   \n",
            "4                                           0.0   \n",
            "...                                         ...   \n",
            "1775                                        0.0   \n",
            "1776                                        0.0   \n",
            "1777                                        0.0   \n",
            "1778                                        0.0   \n",
            "1779                                        0.0   \n",
            "\n",
            "      Industry_Marketing & Communications  Industry_Operations & Supply Chain  \\\n",
            "0                                     0.0                                 0.0   \n",
            "1                                     0.0                                 0.0   \n",
            "2                                     0.0                                 0.0   \n",
            "3                                     0.0                                 0.0   \n",
            "4                                     0.0                                 0.0   \n",
            "...                                   ...                                 ...   \n",
            "1775                                  0.0                                 0.0   \n",
            "1776                                  0.0                                 0.0   \n",
            "1777                                  0.0                                 0.0   \n",
            "1778                                  0.0                                 0.0   \n",
            "1779                                  0.0                                 0.0   \n",
            "\n",
            "      Industry_Research & Customer Support  \\\n",
            "0                                      0.0   \n",
            "1                                      0.0   \n",
            "2                                      0.0   \n",
            "3                                      0.0   \n",
            "4                                      0.0   \n",
            "...                                    ...   \n",
            "1775                                   0.0   \n",
            "1776                                   0.0   \n",
            "1777                                   0.0   \n",
            "1778                                   0.0   \n",
            "1779                                   0.0   \n",
            "\n",
            "      Industry_Sales & Business Development  Industry_Technology & IT Services  \n",
            "0                                       0.0                                0.0  \n",
            "1                                       0.0                                0.0  \n",
            "2                                       0.0                                0.0  \n",
            "3                                       1.0                                0.0  \n",
            "4                                       0.0                                1.0  \n",
            "...                                     ...                                ...  \n",
            "1775                                    0.0                                0.0  \n",
            "1776                                    1.0                                0.0  \n",
            "1777                                    0.0                                1.0  \n",
            "1778                                    1.0                                0.0  \n",
            "1779                                    1.0                                0.0  \n",
            "\n",
            "[1780 rows x 19 columns]\n"
          ]
        }
      ],
      "source": [
        "from sklearn.preprocessing import OneHotEncoder, LabelEncoder, StandardScaler\n",
        "\n",
        "# Drop 'JobTitle' (high cardinality, too specific)\n",
        "df_sd7 = df_sd6.drop(columns=['JobTitle', 'BirthYear'])\n",
        "\n",
        "# Separate features and target\n",
        "X = df_sd7.drop(columns=['Salary'])\n",
        "y = df_sd7['Salary']\n",
        "\n",
        "# Identify feature types\n",
        "categorical_ordinal = ['EduLevel', 'Generation', 'Seniority']  # Ordinal categories\n",
        "categorical_nominal = ['Gender', 'Industry']  # Nominal categories\n",
        "numerical_cols = ['Age', 'YrsExp']\n",
        "\n",
        "# Apply Label Encoding to ordinal categorical variables\n",
        "for col in categorical_ordinal:\n",
        "    le = LabelEncoder()\n",
        "    X[col] = le.fit_transform(X[col])\n",
        "\n",
        "# Apply OneHotEncoding to nominal categorical variables\n",
        "ohe = OneHotEncoder(sparse_output=False)  # Avoid dummy variable trap\n",
        "X_encoded = ohe.fit_transform(X[categorical_nominal])\n",
        "encoded_feature_names = ohe.get_feature_names_out(categorical_nominal)\n",
        "\n",
        "# Scale numerical variables\n",
        "scaler = StandardScaler()\n",
        "X_scaled = scaler.fit_transform(X[numerical_cols])\n",
        "\n",
        "# Combine all transformed features\n",
        "X_processed = np.hstack((X_scaled, X[categorical_ordinal].values, X_encoded))\n",
        "\n",
        "# Convert to DataFrame for clarity\n",
        "X_final = pd.DataFrame(X_processed, columns=numerical_cols + categorical_ordinal + list(encoded_feature_names))\n",
        "\n",
        "print(X_final)"
      ]
    },
    {
      "cell_type": "markdown",
      "metadata": {
        "id": "94c3xt2fTHwv"
      },
      "source": [
        "Correlation Heat Map Matrix (On hold)"
      ]
    },
    {
      "cell_type": "code",
      "execution_count": null,
      "metadata": {
        "id": "NKfp3LBOTGuD"
      },
      "outputs": [],
      "source": [
        "'''\n",
        "# Show correlation heat map and matrix\n",
        "df_corr = X_final[['Age','YrsExp','Salary','EduLevel','Seniority']]\n",
        "\n",
        "# Calculate the correlation matrix\n",
        "corrmat = df_corr.corr()\n",
        "\n",
        "# Title\n",
        "plt.title(\"Correlation Heatmap\")\n",
        "\n",
        "# Generate the heatmap\n",
        "sns.heatmap(corrmat, annot=True, cmap=\"coolwarm\", fmt=\".2f\", linewidths=0.5)\n",
        "plt.show()\n",
        "'''"
      ]
    },
    {
      "cell_type": "markdown",
      "metadata": {
        "id": "JfM1IBU1kBKn"
      },
      "source": [
        "#Step 5: Machine Learning Algorithm Implementation with Additional Features (Run Step 4 Before this)\n",
        "*   Run the Algorithm of your choice\n",
        "\n"
      ]
    },
    {
      "cell_type": "markdown",
      "metadata": {
        "id": "SYsyamil2EGe"
      },
      "source": [
        "Spilting of Training Data (Must Run before Algorithm)"
      ]
    },
    {
      "cell_type": "code",
      "execution_count": 140,
      "metadata": {
        "id": "jutDOYBp2Hiy"
      },
      "outputs": [],
      "source": [
        "from sklearn.model_selection import train_test_split\n",
        "from sklearn.metrics import mean_absolute_error, mean_squared_error, r2_score\n",
        "\n",
        "# Train-test split (80% training, 20% testing)\n",
        "X_train, X_test, y_train, y_test = train_test_split(X_processed, y, test_size=0.2, random_state=42)"
      ]
    },
    {
      "cell_type": "markdown",
      "metadata": {
        "id": "FZUhNvkU2Q6m"
      },
      "source": [
        "Algorithm 3: RandomForestRegressor (Train)"
      ]
    },
    {
      "cell_type": "code",
      "execution_count": 141,
      "metadata": {
        "colab": {
          "base_uri": "https://localhost:8080/"
        },
        "id": "ONoa5t0vw7jL",
        "outputId": "cc7abad9-de76-418c-e00c-abbb85b6b084"
      },
      "outputs": [
        {
          "output_type": "stream",
          "name": "stdout",
          "text": [
            "Random Forest Regressor Performance:\n",
            "Mean Absolute Error (MAE): 13008.56\n",
            "Mean Squared Error (MSE): 417194437.89\n",
            "R² Score: 0.8528\n"
          ]
        }
      ],
      "source": [
        "from sklearn.ensemble import RandomForestRegressor\n",
        "\n",
        "# Train Random Forest Regressor\n",
        "# rfr_model = RandomForestRegressor(n_estimators=100, random_state=42)\n",
        "rfr_model = RandomForestRegressor(random_state=42)\n",
        "rfr_model.fit(X_train, y_train)\n",
        "\n",
        "# Predict salaries on the test set\n",
        "y_pred_rfr = rfr_model.predict(X_test)\n",
        "\n",
        "# Evaluate performance\n",
        "mae_rfr = mean_absolute_error(y_test,y_pred_rfr)\n",
        "mse_rfr = mean_squared_error(y_test, y_pred_rfr)    # Mean Squared Error\n",
        "r2_rfr = r2_score(y_test, y_pred_rfr)\n",
        "\n",
        "# Print results\n",
        "print(\"Random Forest Regressor Performance:\")\n",
        "print(f\"Mean Absolute Error (MAE): {mae_rfr:.2f}\")\n",
        "print(f\"Mean Squared Error (MSE): {mse_rfr:.2f}\")\n",
        "print(f\"R² Score: {r2_rfr:.4f}\")"
      ]
    },
    {
      "cell_type": "markdown",
      "metadata": {
        "id": "Na1fJ-QtY5sR"
      },
      "source": [
        "Algorithm 4: XGBoost"
      ]
    },
    {
      "cell_type": "code",
      "execution_count": 142,
      "metadata": {
        "colab": {
          "base_uri": "https://localhost:8080/"
        },
        "id": "egbcclyJY71s",
        "outputId": "5b834cba-84e5-412b-a4e7-02c23dcd9fda"
      },
      "outputs": [
        {
          "output_type": "stream",
          "name": "stdout",
          "text": [
            "XGBoost Performance\n",
            "Mean Absolute Error (MAE): 12784.67\n",
            "Mean Squared Error (MSE): 369126250.45\n",
            "R² Score: 0.8698\n"
          ]
        }
      ],
      "source": [
        "from xgboost import XGBRegressor\n",
        "\n",
        "# Train Random Forest Regressor\n",
        "xgb_model = XGBRegressor(n_estimators=200, learning_rate=0.05, random_state=42)\n",
        "xgb_model.fit(X_train, y_train)\n",
        "\n",
        "# Predict salaries on the test set\n",
        "y_pred_xgb = xgb_model.predict(X_test)\n",
        "\n",
        "mae_xgb = mean_absolute_error(y_test, y_pred_xgb)\n",
        "mse_xgb = mean_squared_error(y_test, y_pred_xgb)\n",
        "r2_xgb = r2_score(y_test, y_pred_xgb)\n",
        "\n",
        "print(f\"XGBoost Performance\")\n",
        "print(f\"Mean Absolute Error (MAE): {mae_xgb:.2f}\")\n",
        "print(f\"Mean Squared Error (MSE): {mse_xgb:.2f}\")\n",
        "print(f\"R² Score: {r2_xgb:.4f}\")"
      ]
    },
    {
      "cell_type": "markdown",
      "metadata": {
        "id": "JT80b-AVIrC1"
      },
      "source": [
        "# Step 6: Fine-Tunning Machine Learning Algorithm (Run Step 5 Before this)\n",
        "\n",
        "*   According to your Algorithm of your Choice\n",
        "*   Pick either one of the 2\n",
        "\n"
      ]
    },
    {
      "cell_type": "markdown",
      "metadata": {
        "id": "ZpWA9oOCIXpA"
      },
      "source": [
        " **Algorithm 3** (Choose 1 of 2): Fine-Tuning with Grid Search (Exhaustive)\n",
        "*   Grid Search tests all possible combinations of specified hyperparameters.\n",
        "\n"
      ]
    },
    {
      "cell_type": "code",
      "execution_count": null,
      "metadata": {
        "id": "RmEZm1eTH7Nc"
      },
      "outputs": [],
      "source": [
        "from sklearn.model_selection import GridSearchCV\n",
        "\n",
        "fine_tune_choice = 1\n",
        "\n",
        "# Define the parameter grid\n",
        "param_grid_rfr = {\n",
        "    'n_estimators': [100, 200, 300],\n",
        "    'max_depth': [10, 20, None],\n",
        "    'min_samples_split': [2, 5, 10],\n",
        "    'min_samples_leaf': [1, 2, 4],\n",
        "    'max_features': ['sqrt', 'log2']\n",
        "}\n",
        "\n",
        "# Perform Grid Search\n",
        "grid_search_rfr = GridSearchCV(rfr_model, param_grid_rfr, cv=5, scoring='neg_mean_absolute_error', n_jobs=-1, verbose=2)\n",
        "grid_search_rfr.fit(X_train, y_train)\n",
        "\n",
        "# Best parameters and performance\n",
        "print(\"Best Parameters:\", grid_search_rfr.best_params_)\n",
        "print(\"Best MAE:\", -grid_search_rfr.best_score_)"
      ]
    },
    {
      "cell_type": "markdown",
      "metadata": {
        "id": "JkKbl-XNJNOU"
      },
      "source": [
        "**Algorithm 3** (Choose 2 of 2): Fine-Tuning with Random Search (Faster)\n",
        "*   Random Search randomly samples hyperparameters instead of testing all combinations."
      ]
    },
    {
      "cell_type": "code",
      "execution_count": null,
      "metadata": {
        "id": "QvoRUi9vJT8g"
      },
      "outputs": [],
      "source": [
        "from sklearn.model_selection import RandomizedSearchCV\n",
        "from scipy.stats import randint\n",
        "\n",
        "fine_tune_choice = 2\n",
        "\n",
        "# Define the parameter grid with distributions\n",
        "param_dist_rfr = {\n",
        "    'n_estimators': randint(100, 500),\n",
        "    'max_depth': [10, 20, None],\n",
        "    'min_samples_split': randint(2, 20),\n",
        "    'min_samples_leaf': randint(1, 10),\n",
        "    'max_features': ['sqrt', 'log2']\n",
        "}\n",
        "\n",
        "# Perform Randomized Search\n",
        "random_search_rfr = RandomizedSearchCV(rfr_model, param_dist_rfr, n_iter=20, cv=5, scoring='neg_mean_absolute_error', n_jobs=-1, verbose=2, random_state=42)\n",
        "random_search_rfr.fit(X_train, y_train)\n",
        "\n",
        "# Best parameters and performance\n",
        "print(\"Best Parameters:\", random_search_rfr.best_params_)\n",
        "print(\"Best MAE:\", -random_search_rfr.best_score_)\n"
      ]
    },
    {
      "cell_type": "markdown",
      "metadata": {
        "id": "8H2bwMzpm_Oc"
      },
      "source": [
        " **Algorithm 4** (Choose 1 of 2): Fine-Tuning with Grid Search (Exhaustive)"
      ]
    },
    {
      "cell_type": "code",
      "execution_count": null,
      "metadata": {
        "id": "Rpe4DorIm_22"
      },
      "outputs": [],
      "source": [
        "from sklearn.model_selection import GridSearchCV\n",
        "\n",
        "fine_tune_choice = 1\n",
        "\n",
        "# Define the parameter grid\n",
        "param_grid_xgb = {\n",
        "    'n_estimators': [100, 200, 300],\n",
        "    'learning_rate': [0.01, 0.05, 0.1],\n",
        "    'max_depth': [3, 6, 9],\n",
        "    'min_child_weight': [1, 3, 5],\n",
        "    'subsample': [0.8, 1.0],\n",
        "    'colsample_bytree': [0.8, 1.0]\n",
        "}\n",
        "\n",
        "# Grid Search\n",
        "grid_search_xgb = GridSearchCV(xgb_model, param_grid_xgb, scoring='neg_mean_absolute_error', cv=5, verbose=2, n_jobs=-1)\n",
        "grid_search_xgb.fit(X_train, y_train)\n",
        "\n",
        "# Best Parameters\n",
        "print(\"Best Parameters:\", grid_search_xgb.best_params_)\n",
        "print(\"Best MAE:\", -grid_search_xgb.best_score_)"
      ]
    },
    {
      "cell_type": "markdown",
      "metadata": {
        "id": "nh_lJPVXoCmO"
      },
      "source": [
        " **Algorithm 4** (Choose 2 of 2): Fine-Tuning with Random Search (Faster)"
      ]
    },
    {
      "cell_type": "code",
      "execution_count": null,
      "metadata": {
        "id": "RlZK-r1uoCyq"
      },
      "outputs": [],
      "source": [
        "from sklearn.model_selection import RandomizedSearchCV\n",
        "from scipy.stats import uniform, randint\n",
        "\n",
        "fine_tune_choice = 2\n",
        "\n",
        "# Define the parameter distribution\n",
        "param_dist_xgb = {\n",
        "    'n_estimators': randint(100, 500),\n",
        "    'learning_rate': uniform(0.01, 0.3),\n",
        "    'max_depth': randint(3, 10),\n",
        "    'min_child_weight': randint(1, 10),\n",
        "    'subsample': uniform(0.7, 0.3),\n",
        "    'colsample_bytree': uniform(0.7, 0.3),\n",
        "    'gamma': uniform(0, 0.5),\n",
        "    'reg_alpha': uniform(0, 0.5),\n",
        "    'reg_lambda': uniform(0, 0.5)\n",
        "}\n",
        "\n",
        "# Randomized Search\n",
        "random_search_xgb = RandomizedSearchCV(xgb_model, param_dist_xgb, n_iter=20, scoring='neg_mean_absolute_error', cv=5, verbose=2, n_jobs=-1, random_state=42)\n",
        "random_search_xgb.fit(X_train, y_train)\n",
        "\n",
        "# Best Parameters\n",
        "print(\"Best Parameters:\", random_search_xgb.best_params_)\n",
        "print(\"Best MAE:\", -random_search_xgb.best_score_)"
      ]
    },
    {
      "cell_type": "markdown",
      "metadata": {
        "id": "OSE5Dow3LHVU"
      },
      "source": [
        "# Step 7: Retraining of Algorithm Model (Run only after Step 6)\n",
        "\n",
        "*   Find the Algorithm of Choice\n",
        "*   Retrain First\n",
        "*   Feature Importance Comparison\n",
        "\n"
      ]
    },
    {
      "cell_type": "markdown",
      "metadata": {
        "id": "Bn9_N3eVLRyA"
      },
      "source": [
        "**Algorithm 3** (Part 1 of 2): Random Forest Regressor (Retrain)"
      ]
    },
    {
      "cell_type": "code",
      "execution_count": null,
      "metadata": {
        "id": "a_8j4e_BLNnO"
      },
      "outputs": [],
      "source": [
        "if fine_tune_choice == 1:\n",
        "  best_params = grid_search_rfr.best_params_\n",
        "elif fine_tune_choice == 2:\n",
        "  best_params = random_search_rfr.best_params_\n",
        "\n",
        "best_model_rfr = RandomForestRegressor(**best_params, random_state=42)\n",
        "best_model_rfr.fit(X_train, y_train)\n",
        "\n",
        "# Predict and evaluate\n",
        "y_pred_rfr = best_model_rfr.predict(X_test)\n",
        "\n",
        "mae_tuned = mean_absolute_error(y_test, y_pred_rfr)\n",
        "mse_tuned = mean_squared_error(y_test, y_pred_rfr)\n",
        "r2_tuned = r2_score(y_test, y_pred_rfr)\n",
        "\n",
        "print(f\"Tuned Model MAE: {mae_tuned:.2f}\")\n",
        "print(f\"Tuned Model MSE: {mse_tuned:.2f}\")\n",
        "print(f\"Tuned Model R² Score: {r2_tuned:.4f}\")"
      ]
    },
    {
      "cell_type": "markdown",
      "metadata": {
        "id": "_94MLigBQN_B"
      },
      "source": [
        " Algorithm 3 (Part 2 of 2): Random Forest Regressor (View Feature Importance)"
      ]
    },
    {
      "cell_type": "code",
      "execution_count": null,
      "metadata": {
        "id": "5ihU3c6Po5U3"
      },
      "outputs": [],
      "source": [
        "# Feature importances from both models\n",
        "feature_importances_1 = rfr_model.feature_importances_\n",
        "feature_importances_2 = best_model_rfr.feature_importances_\n",
        "feature_names = X_final.columns\n",
        "\n",
        "# Sort feature importance values\n",
        "sorted_idx_1 = np.argsort(feature_importances_1)[::-1]\n",
        "sorted_idx_2 = np.argsort(feature_importances_2)[::-1]\n",
        "\n",
        "# Create subplots\n",
        "fig, axes = plt.subplots(1, 2, figsize=(15, 5))  # 1 row, 2 columns\n",
        "\n",
        "# Plot first model's feature importance\n",
        "axes[0].bar(range(len(feature_importances_1)), feature_importances_1[sorted_idx_1], tick_label=np.array(feature_names)[sorted_idx_1])\n",
        "axes[0].set_xticklabels(np.array(feature_names)[sorted_idx_1], rotation=90)\n",
        "axes[0].set_xlabel(\"Feature\")\n",
        "axes[0].set_ylabel(\"Importance\")\n",
        "axes[0].set_title(\"Feature Importance in Random Forest (Before Tune)\")\n",
        "\n",
        "# Plot second model's feature importance\n",
        "axes[1].bar(range(len(feature_importances_2)), feature_importances_2[sorted_idx_2], tick_label=np.array(feature_names)[sorted_idx_2])\n",
        "axes[1].set_xticklabels(np.array(feature_names)[sorted_idx_2], rotation=90)\n",
        "axes[1].set_xlabel(\"Feature\")\n",
        "axes[1].set_ylabel(\"Importance\")\n",
        "axes[1].set_title(\"Feature Importance in Random Forest (After Tune)\")\n",
        "\n",
        "# Show the plots\n",
        "plt.tight_layout()\n",
        "plt.show()"
      ]
    },
    {
      "cell_type": "markdown",
      "metadata": {
        "id": "H4GxkUm2rqn5"
      },
      "source": [
        " **Algorithm 4** (Part 1 of 2): XGBRegressor (Retrain)"
      ]
    },
    {
      "cell_type": "code",
      "execution_count": null,
      "metadata": {
        "id": "wclSKDktrpLY"
      },
      "outputs": [],
      "source": [
        "if fine_tune_choice == 1:\n",
        "  best_params = grid_search_xgb.best_params_\n",
        "elif fine_tune_choice == 2:\n",
        "  best_params = random_search_xgb.best_params_\n",
        "\n",
        "best_model_xgb = XGBRegressor(**best_params, random_state=42)\n",
        "best_model_xgb.fit(X_train, y_train)\n",
        "\n",
        "# Predict and evaluate\n",
        "y_pred_xgb = best_model_xgb.predict(X_test)\n",
        "\n",
        "mae_tuned = mean_absolute_error(y_test, y_pred_xgb)\n",
        "mse_tuned = mean_squared_error(y_test, y_pred_xgb)\n",
        "r2_tuned = r2_score(y_test, y_pred_xgb)\n",
        "\n",
        "print(f\"Tuned Model MAE: {mae_tuned:.2f}\")\n",
        "print(f\"Tuned Model MSE: {mse_tuned:.2f}\")\n",
        "print(f\"Tuned Model R² Score: {r2_tuned:.4f}\")"
      ]
    },
    {
      "cell_type": "markdown",
      "metadata": {
        "id": "-Yoy3i4psFAP"
      },
      "source": [
        " Algorithm 4 (Part 2 of 2): XGBRegressor (View Feature Importance)"
      ]
    },
    {
      "cell_type": "code",
      "execution_count": null,
      "metadata": {
        "id": "VAq_lgFpsH8k"
      },
      "outputs": [],
      "source": [
        "# Feature importances from both models\n",
        "feature_importances_1 = xgb_model.feature_importances_\n",
        "feature_importances_2 = best_model_xgb.feature_importances_\n",
        "feature_names = X_final.columns\n",
        "\n",
        "# Sort feature importance values\n",
        "sorted_idx_1 = np.argsort(feature_importances_1)[::-1]\n",
        "sorted_idx_2 = np.argsort(feature_importances_2)[::-1]\n",
        "\n",
        "# Create subplots\n",
        "fig, axes = plt.subplots(1, 2, figsize=(15, 5))  # 1 row, 2 columns\n",
        "\n",
        "# Plot first model's feature importance\n",
        "axes[0].bar(range(len(feature_importances_1)), feature_importances_1[sorted_idx_1], tick_label=np.array(feature_names)[sorted_idx_1])\n",
        "axes[0].set_xticklabels(np.array(feature_names)[sorted_idx_1], rotation=90)\n",
        "axes[0].set_xlabel(\"Feature\")\n",
        "axes[0].set_ylabel(\"Importance\")\n",
        "axes[0].set_title(\"Feature Importance in XGBRegressor (Before Tune)\")\n",
        "\n",
        "# Plot second model's feature importance\n",
        "axes[1].bar(range(len(feature_importances_2)), feature_importances_2[sorted_idx_2], tick_label=np.array(feature_names)[sorted_idx_2])\n",
        "axes[1].set_xticklabels(np.array(feature_names)[sorted_idx_2], rotation=90)\n",
        "axes[1].set_xlabel(\"Feature\")\n",
        "axes[1].set_ylabel(\"Importance\")\n",
        "axes[1].set_title(\"Feature Importance in XGBRegressor (After Tune)\")\n",
        "\n",
        "# Show the plots\n",
        "plt.tight_layout()\n",
        "plt.show()"
      ]
    },
    {
      "cell_type": "markdown",
      "metadata": {
        "id": "SgwN-4S1xQIQ"
      },
      "source": [
        "# Step 8: Exploring Combining of Two Algorithms (Run only after Step 7)"
      ]
    },
    {
      "cell_type": "code",
      "execution_count": null,
      "metadata": {
        "id": "8QGs3z_wHVTD"
      },
      "outputs": [],
      "source": [
        "# Define Weights Based on Performance (higher R² → higher weight)\n",
        "w_rfr = r2_score(y_test, y_pred_rfr)\n",
        "w_xgb = r2_score(y_test, y_pred_xgb)\n",
        "\n",
        "# Normalize Weights\n",
        "total_weight = w_rfr + w_xgb\n",
        "w_rfr /= total_weight\n",
        "w_xgb /= total_weight\n",
        "\n",
        "# Weighted Average\n",
        "y_pred_weighted = (w_rfr * y_pred_rfr) + (w_xgb * y_pred_xgb)\n",
        "\n",
        "# Evaluate Performance\n",
        "mae = mean_absolute_error(y_test, y_pred_weighted)\n",
        "mse = mean_squared_error(y_test, y_pred_weighted)\n",
        "r2 = r2_score(y_test, y_pred_weighted)\n",
        "\n",
        "print(\"Ensemble Model Performance (Weighted Averaging):\")\n",
        "print(f\"Mean Absolute Error (MAE): {mae:.2f}\")\n",
        "print(f\"Mean Squared Error (MSE): {mse:.2f}\")\n",
        "print(f\"R² Score: {r2:.4f}\")"
      ]
    },
    {
      "cell_type": "code",
      "execution_count": null,
      "metadata": {
        "id": "y70e36RPGtX4"
      },
      "outputs": [],
      "source": [
        "from sklearn.linear_model import LinearRegression\n",
        "from sklearn.ensemble import StackingRegressor\n",
        "\n",
        "# Extract the best parameters from tuning\n",
        "rf_best_params = {k: v for k, v in best_params.items() if k in ['n_estimators', 'max_depth', 'min_samples_split', 'min_samples_leaf', 'max_features']}\n",
        "xgb_best_params = {k: v for k, v in best_params.items() if k in ['n_estimators', 'learning_rate', 'max_depth', 'min_child_weight', 'subsample', 'colsample_bytree']}\n",
        "\n",
        "# Define Base Models (Using Correct Parameters for Each Model)\n",
        "base_models = [\n",
        "    ('rf', RandomForestRegressor(**rf_best_params, random_state=42)),\n",
        "    ('xgb', XGBRegressor(**xgb_best_params, random_state=42))\n",
        "]\n",
        "\n",
        "# Meta Model (Final Predictor)\n",
        "meta_model = LinearRegression()\n",
        "\n",
        "# Stacking Regressor\n",
        "stacking_reg = StackingRegressor(estimators=base_models, final_estimator=meta_model, cv=5)\n",
        "stacking_reg.fit(X_train, y_train)\n",
        "\n",
        "# Predict on Test Data\n",
        "y_pred_stack = stacking_reg.predict(X_test)\n",
        "\n",
        "# Evaluate Performance\n",
        "mae = mean_absolute_error(y_test, y_pred_stack)\n",
        "mse = mean_squared_error(y_test, y_pred_stack)\n",
        "r2 = r2_score(y_test, y_pred_stack)\n",
        "\n",
        "print(\"Stacking Model Performance:\")\n",
        "print(f\"Mean Absolute Error (MAE): {mae:.2f}\")\n",
        "print(f\"Mean Squared Error (MSE): {mse:.2f}\")\n",
        "print(f\"R² Score: {r2:.4f}\")"
      ]
    },
    {
      "cell_type": "markdown",
      "metadata": {
        "id": "BGzTV7QjU9Ay"
      },
      "source": [
        "# Step 9: Save and Deploy the Model"
      ]
    },
    {
      "cell_type": "markdown",
      "metadata": {
        "id": "mYeDaNf9X1kz"
      },
      "source": [
        "Save the Model"
      ]
    },
    {
      "cell_type": "code",
      "execution_count": null,
      "metadata": {
        "id": "ur_W0fzMWzGS"
      },
      "outputs": [],
      "source": [
        "import joblib\n",
        "\n",
        "# Save the model\n",
        "joblib.dump(stacking_reg, 'stacking_regressor.pkl')"
      ]
    },
    {
      "cell_type": "markdown",
      "metadata": {
        "id": "K9y70P1jX3Ce"
      },
      "source": [
        "Load the Trained Model"
      ]
    },
    {
      "cell_type": "code",
      "execution_count": null,
      "metadata": {
        "id": "bO12mWJEX4-_"
      },
      "outputs": [],
      "source": [
        "# Load the trained model\n",
        "stacking_reg = joblib.load('stacking_regressor.pkl')"
      ]
    },
    {
      "cell_type": "markdown",
      "metadata": {
        "id": "9dLHRuRWYCKC"
      },
      "source": [
        " Prepare New Data for Prediction"
      ]
    },
    {
      "cell_type": "code",
      "execution_count": null,
      "metadata": {
        "id": "fTN8evLIYIse"
      },
      "outputs": [],
      "source": [
        "# Example new data (should match feature columns of X_train)\n",
        "new_data = {\n",
        "    'Age': [30],  # Example Age\n",
        "    'YrsExp': [5],  # Example Years of Experience\n",
        "    'EduLevel': ['BachelorDegree'],  # Example Education Level\n",
        "    'Gender': ['Male'],  # Example Gender\n",
        "    'Industry': ['Technology & IT Services'],  # Example Industry\n",
        "    'Generation': ['Millennials'],  # Example Generation\n",
        "    'Seniority': ['Junior']  # Example Seniority Level\n",
        "}\n",
        "\n",
        "# Convert new data to DataFrame\n",
        "df_new = pd.DataFrame(new_data)"
      ]
    },
    {
      "cell_type": "markdown",
      "metadata": {
        "id": "wLfVaMLUYKjw"
      },
      "source": [
        "Preprocess New Data (Apply Same Encoding and Scaling)"
      ]
    },
    {
      "cell_type": "code",
      "execution_count": null,
      "metadata": {
        "id": "8YSQktoKYN46"
      },
      "outputs": [],
      "source": [
        "from sklearn.preprocessing import OneHotEncoder, LabelEncoder, StandardScaler\n",
        "\n",
        "# Load encoders used during training\n",
        "le_education = LabelEncoder()\n",
        "le_education.classes_ = np.array(['HighSchool', 'BachelorDegree', 'MasterDegree', 'PhD'])\n",
        "df_new['EduLevel'] = le_education.transform(df_new['EduLevel'])\n",
        "\n",
        "le_generation = LabelEncoder()\n",
        "le_generation.classes_ = np.array(['SilentGeneration', 'BabyBoomer', 'GenX', 'Millennials', 'GenZ'])\n",
        "df_new['Generation'] = le_generation.transform(df_new['Generation'])\n",
        "\n",
        "le_seniority = LabelEncoder()\n",
        "le_seniority.classes_ = np.array(['Entry', 'Junior', 'Mid', 'Senior', 'Executive'])\n",
        "df_new['Seniority'] = le_seniority.transform(df_new['Seniority'])\n",
        "\n",
        "# OneHotEncode Gender\n",
        "ohe_gender = OneHotEncoder(categories=[['Female', 'Male']], drop='first', sparse_output=False)\n",
        "gender_encoded = ohe_gender.fit_transform(df_new[['Gender']])  # Apply same encoding as in training\n",
        "gender_columns = ohe_gender.get_feature_names_out(['Gender'])\n",
        "df_gender_encoded = pd.DataFrame(gender_encoded, columns=gender_columns)\n",
        "\n",
        "# OneHotEncode Industry\n",
        "ohe_industry = OneHotEncoder(categories=[[\n",
        "    'Marketing & Communications', 'Research & Customer Support',\n",
        "    'Executive & Senior Management', 'Technology & IT Services',\n",
        "    'Data Science & Analytics', 'Healthcare & Life Sciences',\n",
        "    'Finance & Accounting', 'Operations & Supply Chain',\n",
        "    'Education & Training', 'Sales & Business Development',\n",
        "    'Human Resources & Administration', 'Business Strategy & Consulting'\n",
        "]], drop='first', sparse_output=False)\n",
        "\n",
        "industry_encoded = ohe_industry.fit_transform(df_new[['Industry']])  # Ensure same encoding\n",
        "industry_columns = ohe_industry.get_feature_names_out(['Industry'])\n",
        "df_industry_encoded = pd.DataFrame(industry_encoded, columns=industry_columns)\n",
        "\n",
        "# **Ensure all expected columns are present (to match training features)**\n",
        "df_gender_encoded = df_gender_encoded.reindex(columns=['Gender_Male'], fill_value=0)  # Only 'Male' exists due to drop='first'\n",
        "df_industry_encoded = df_industry_encoded.reindex(columns=industry_columns, fill_value=0)\n",
        "\n",
        "# Scale numerical features\n",
        "scaler = StandardScaler()\n",
        "df_new[['Age', 'YrsExp']] = scaler.fit_transform(df_new[['Age', 'YrsExp']])\n",
        "\n",
        "# **Combine processed data**\n",
        "df_processed = pd.concat([\n",
        "    df_new[['Age', 'YrsExp', 'EduLevel', 'Generation', 'Seniority']],\n",
        "    df_gender_encoded, df_industry_encoded\n",
        "], axis=1)\n",
        "\n",
        "# **Ensure final feature order matches training data**\n",
        "df_processed = df_processed.reindex(columns=X_final.columns, fill_value=0)"
      ]
    },
    {
      "cell_type": "markdown",
      "metadata": {
        "id": "nJw7qtYetSfO"
      },
      "source": [
        "Test if any missing features between user and saved model"
      ]
    },
    {
      "cell_type": "code",
      "execution_count": null,
      "metadata": {
        "id": "Gai08Mw0mBR9"
      },
      "outputs": [],
      "source": [
        "# Get expected feature names from training data\n",
        "expected_features = X_final.columns.tolist()\n",
        "\n",
        "# Get actual feature names from the new input\n",
        "actual_features = df_processed.columns.tolist()\n",
        "\n",
        "# Find the missing feature\n",
        "missing_features = list(set(expected_features) - set(actual_features))\n",
        "extra_features = list(set(actual_features) - set(expected_features))\n",
        "\n",
        "print(f\"Missing feature(s): {missing_features}\")\n",
        "print(f\"Extra feature(s): {extra_features}\")\n"
      ]
    },
    {
      "cell_type": "markdown",
      "metadata": {
        "id": "Zd_woAqOYRbb"
      },
      "source": [
        "Make Predictions\n",
        "\n",
        "*  Once preprocessing is complete, pass the transformed data to your trained model\n",
        "\n"
      ]
    },
    {
      "cell_type": "code",
      "execution_count": null,
      "metadata": {
        "id": "_UcAga_CYQqH"
      },
      "outputs": [],
      "source": [
        "predicted_salary = stacking_reg.predict(df_processed.to_numpy())\n",
        "\n",
        "# Calculate absolute error between predicted salary and actual test values\n",
        "errors = np.abs(y_test - predicted_salary[0])\n",
        "\n",
        "# Find the closest actual salary\n",
        "closest_index = np.argmin(errors)\n",
        "closest_actual_salary = y_test.iloc[closest_index]\n",
        "\n",
        "# Calculate percentage error\n",
        "percentage_error = (abs(predicted_salary[0] - closest_actual_salary) / closest_actual_salary) * 100\n",
        "\n",
        "# Print results\n",
        "print(f\"Predicted Salary: {predicted_salary[0]:,.2f}\")\n",
        "print(f\"Closest Actual Salary: {closest_actual_salary:,.2f}\")\n",
        "print(f\"Percentage Error: {percentage_error:.2f}%\")\n"
      ]
    },
    {
      "cell_type": "markdown",
      "metadata": {
        "id": "WrjHjy11sr2I"
      },
      "source": [
        "ScatterPlot to Demonstrate Accuracy\n",
        "\n",
        "*   Blue dots → Predictions from the test set\n",
        "*   Red dashed line → Ideal prediction line (y = x)\n",
        "*   Red 'X' marker → The newly predicted salary\n",
        "\n"
      ]
    },
    {
      "cell_type": "code",
      "execution_count": null,
      "metadata": {
        "id": "OCBJwNlfrZtE"
      },
      "outputs": [],
      "source": [
        "# Predict salaries for test set\n",
        "y_pred_test = stacking_reg.predict(X_test)\n",
        "\n",
        "# Create the scatter plot\n",
        "plt.figure(figsize=(10, 6))\n",
        "plt.scatter(y_test, y_pred_test, alpha=0.4, label=\"Model Predictions\")\n",
        "plt.plot([y_test.min(), y_test.max()], [y_test.min(), y_test.max()], 'r--', label=\"Perfect Prediction (y = x)\")\n",
        "\n",
        "# Mark the new predicted salary\n",
        "plt.scatter(predicted_salary[0], predicted_salary[0], color='red', s=150, marker='x', label=\"New Prediction\")\n",
        "\n",
        "# Labels and title\n",
        "plt.xlabel(\"Actual Salary\")\n",
        "plt.ylabel(\"Predicted Salary\")\n",
        "plt.title(\"Predicted vs. Actual Salary\")\n",
        "plt.legend()\n",
        "plt.grid(True)\n",
        "\n",
        "# Show plot\n",
        "plt.show()"
      ]
    },
    {
      "cell_type": "markdown",
      "metadata": {
        "id": "ll-AV-pisoET"
      },
      "source": [
        "2D histogram (hexbin plot) to show density:"
      ]
    },
    {
      "cell_type": "code",
      "execution_count": null,
      "metadata": {
        "id": "AX_7Cs4wseGn"
      },
      "outputs": [],
      "source": [
        "plt.hexbin(y_test, y_pred_test, gridsize=50, cmap='Blues', alpha=0.8)\n",
        "plt.colorbar(label='Density of Points')"
      ]
    },
    {
      "cell_type": "code",
      "execution_count": null,
      "metadata": {
        "id": "-MAQb5CduErS"
      },
      "outputs": [],
      "source": [
        "# Plot error distribution\n",
        "plt.figure(figsize=(8,5))\n",
        "plt.hist(errors, bins=30, color='skyblue', alpha=0.7)\n",
        "plt.axvline(x=np.abs(predicted_salary[0] - closest_actual_salary), color='red', linestyle='dashed', linewidth=2, label=\"New Prediction Error\")\n",
        "plt.xlabel(\"Absolute Error\")\n",
        "plt.ylabel(\"Frequency\")\n",
        "plt.title(\"Distribution of Prediction Errors\")\n",
        "plt.legend()\n",
        "plt.show()"
      ]
    },
    {
      "cell_type": "markdown",
      "metadata": {
        "id": "Z05nvCYnwdY2"
      },
      "source": [
        "#With Love, On Hold"
      ]
    },
    {
      "cell_type": "markdown",
      "metadata": {
        "id": "QO3J-_DJqw6J"
      },
      "source": [
        "Encoding of Gender, Education, Generation, Seniority"
      ]
    },
    {
      "cell_type": "code",
      "execution_count": null,
      "metadata": {
        "id": "PYdJ9DY_uiFf"
      },
      "outputs": [],
      "source": [
        "from sklearn.preprocessing import LabelEncoder\n",
        "\n",
        "df_sd4['Gender'] = df_sd4['Gender']\n",
        "\n",
        "# Encoding 'Gender'\n",
        "le_gender = LabelEncoder()  # Create a LabelEncoder for Gender\n",
        "df_sd4['Gender_Encoded'] = le_gender.fit_transform(df_sd4['Gender']) # Encode and add a new column\n",
        "\n",
        "# Define the desired education levels\n",
        "desired_levels = [\"Bachelor's\", \"High School\", \"Master's\", 'PhD']\n",
        "\n",
        "# Create a new column 'Education_Cleaned'\n",
        "df_sd4['Education_Cleaned'] = df_sd4['EduLevel'].apply(lambda x: x if x in desired_levels else 'Other')\n",
        "\n",
        "# Now apply Label Encoding to the cleaned column\n",
        "le_education = LabelEncoder()\n",
        "df_sd4['Education_Encoded'] = le_education.fit_transform(df_sd4['Education_Cleaned'])\n",
        "\n",
        "# Display the mappings (optional)\n",
        "print(\"Gender Mapping:\", dict(zip(le_gender.classes_, le_gender.transform(le_gender.classes_))))\n",
        "print(\"Number of entries for Gender_Encoded:\", df_sd4['Gender_Encoded'].count())\n",
        "print(\"Education Level Mapping:\", dict(zip(le_education.classes_, le_education.transform(le_education.classes_))))\n",
        "print(\"Number of entries for Education_Encoded:\", df_sd4['Education_Encoded'].count())"
      ]
    },
    {
      "cell_type": "markdown",
      "metadata": {
        "id": "jsFyMkE_oDpM"
      },
      "source": [
        "Correlation Heat Map"
      ]
    },
    {
      "cell_type": "code",
      "execution_count": null,
      "metadata": {
        "id": "rurlt6E6wExR"
      },
      "outputs": [],
      "source": [
        "# Show correlation heat map and matrix\n",
        "df_corr = df_sd4[['Age','YrsExp','Salary','Gender_Encoded','Education_Encoded']]\n",
        "\n",
        "# Calculate the correlation matrix\n",
        "corrmat = df_corr.corr()\n",
        "\n",
        "# Title\n",
        "plt.title(\"Correlation Heatmap\")\n",
        "\n",
        "# Generate the heatmap\n",
        "sns.heatmap(corrmat, annot=True, cmap=\"coolwarm\", fmt=\".2f\", linewidths=0.5)\n",
        "plt.show()"
      ]
    },
    {
      "cell_type": "code",
      "source": [
        "'''\n",
        "# Identify duplicated rows\n",
        "df_duplicates_all = df_sd2[df_sd2.duplicated(keep=False)]  # 'keep=False' keeps all duplicates (including the first occurrence)\n",
        "\n",
        "df_duplicates_all.to_csv('duplicate_data_all.csv', index=False)\n",
        "'''\n"
      ],
      "metadata": {
        "id": "XXNx1Uvf-IhC"
      },
      "execution_count": null,
      "outputs": []
    }
  ]
}