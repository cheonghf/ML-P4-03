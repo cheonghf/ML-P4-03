{
  "nbformat": 4,
  "nbformat_minor": 0,
  "metadata": {
    "colab": {
      "provenance": [],
      "authorship_tag": "ABX9TyORTI1RlcVyWxAtAT7qFc9u",
      "include_colab_link": true
    },
    "kernelspec": {
      "name": "python3",
      "display_name": "Python 3"
    },
    "language_info": {
      "name": "python"
    }
  },
  "cells": [
    {
      "cell_type": "markdown",
      "metadata": {
        "id": "view-in-github",
        "colab_type": "text"
      },
      "source": [
        "<a href=\"https://colab.research.google.com/github/cheonghf/ML-P4-03/blob/main/Data_Reorg.ipynb\" target=\"_parent\"><img src=\"https://colab.research.google.com/assets/colab-badge.svg\" alt=\"Open In Colab\"/></a>"
      ]
    },
    {
      "cell_type": "code",
      "execution_count": null,
      "metadata": {
        "id": "VyXMa10eliiD"
      },
      "outputs": [],
      "source": [
        "import pandas as pd\n",
        "\n",
        "# Load the dataset\n",
        "dataset_1 = 'https://raw.githubusercontent.com/cheonghf/ML-P4-03/refs/heads/main/GraduateEmploymentSurveyNTUNUSSITSMUSUSSSUTD.csv'\n",
        "df_ges1 = pd.read_csv(dataset_1)\n",
        "\n",
        "df_ges2 = df_ges1.copy()\n",
        "\n",
        "# Remove rows where 'University' is 'Singapore University of Social Sciences'\n",
        "df_ges2 = df_ges2[df_ges2['university'] != 'Singapore University of Social Sciences']\n",
        "\n",
        "df_ges3 = df_ges2.copy()\n",
        "\n",
        "# Define keywords related to Information Technology\n",
        "it_keywords = ['Information Technology', 'Information', 'Technology',\n",
        "               'Computer Science', 'Data Science', 'Data', 'Software Engineering',\n",
        "               'Software', 'Cybersecurity', 'Cyber', 'Artificial Intelligence',\n",
        "               'Artificial', 'Software', 'Machine Learning',\n",
        "               'IT', 'Computing', 'Computer', 'Computer Engineering']\n",
        "\n",
        "# Filter rows that contain any of the IT-related keywords in the 'Degree' column\n",
        "df_ges3 = df_ges3 [df_ges3 ['degree'].str.contains('|'.join(it_keywords), case=False, na=False)]\n",
        "\n",
        "'''\n",
        "print(df_ges1.shape)\n",
        "print(df_ges2.shape)\n",
        "print(df_ges3.shape)\n",
        "'''"
      ]
    }
  ]
}