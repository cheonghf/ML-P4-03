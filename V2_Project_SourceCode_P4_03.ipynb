{
  "nbformat": 4,
  "nbformat_minor": 0,
  "metadata": {
    "colab": {
      "provenance": [],
      "authorship_tag": "ABX9TyPhACDHrhygKUMOT2d4wLRz",
      "include_colab_link": true
    },
    "kernelspec": {
      "name": "python3",
      "display_name": "Python 3"
    },
    "language_info": {
      "name": "python"
    }
  },
  "cells": [
    {
      "cell_type": "markdown",
      "metadata": {
        "id": "view-in-github",
        "colab_type": "text"
      },
      "source": [
        "<a href=\"https://colab.research.google.com/github/cheonghf/ML-P4-03/blob/main/V2_Project_SourceCode_P4_03.ipynb\" target=\"_parent\"><img src=\"https://colab.research.google.com/assets/colab-badge.svg\" alt=\"Open In Colab\"/></a>"
      ]
    },
    {
      "cell_type": "code",
      "execution_count": 2,
      "metadata": {
        "id": "f5utxj1dFU-7"
      },
      "outputs": [],
      "source": [
        "import pandas as pd\n",
        "import numpy as np\n",
        "import matplotlib.pyplot as plt\n",
        "import seaborn as sns\n",
        "\n",
        "# Load the dataset data = pd.read_csv(\"/content/GraduateEmploymentSurveyNTUNUSSITSMUSUSSSUTD.csv\")\n",
        "dataset_1 = 'https://raw.githubusercontent.com/cheonghf/ML-P4-03/refs/heads/main/GraduateEmploymentSurveyNTUNUSSITSMUSUSSSUTD.csv'\n",
        "\n",
        "df_ges1 = pd.read_csv(dataset_1)"
      ]
    },
    {
      "cell_type": "code",
      "source": [
        "# Replace the string 'na' with actual NaN (np.nan)\n",
        "df_ges1.replace('na', np.nan, inplace=True)\n",
        "\n",
        "# Count NaN values in each column\n",
        "na_counts = df_ges1.isna().sum()\n",
        "\n",
        "# Print the result\n",
        "print(na_counts)"
      ],
      "metadata": {
        "id": "56XV24PuF2pD"
      },
      "execution_count": null,
      "outputs": []
    },
    {
      "cell_type": "code",
      "source": [
        "# Remove rows with any NaN values\n",
        "df_clean_ges = df_ges1.dropna()"
      ],
      "metadata": {
        "id": "mv0I1BpYF5h_"
      },
      "execution_count": 4,
      "outputs": []
    },
    {
      "cell_type": "code",
      "source": [
        "df_clean_ges_ntu = df_clean_ges.loc[df_clean_ges['university'] == 'Nanyang Technological University']\n",
        "df_clean_ges_nus = df_clean_ges.loc[df_clean_ges['university'] == 'National University of Singapore']"
      ],
      "metadata": {
        "id": "5i8idIhjAwHh"
      },
      "execution_count": 9,
      "outputs": []
    }
  ]
}