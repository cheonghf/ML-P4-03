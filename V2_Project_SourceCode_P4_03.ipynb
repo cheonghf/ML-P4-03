{
  "nbformat": 4,
  "nbformat_minor": 0,
  "metadata": {
    "colab": {
      "provenance": [],
      "authorship_tag": "ABX9TyOZYftumQeeEcq+MHIwwEFx",
      "include_colab_link": true
    },
    "kernelspec": {
      "name": "python3",
      "display_name": "Python 3"
    },
    "language_info": {
      "name": "python"
    }
  },
  "cells": [
    {
      "cell_type": "markdown",
      "metadata": {
        "id": "view-in-github",
        "colab_type": "text"
      },
      "source": [
        "<a href=\"https://colab.research.google.com/github/cheonghf/ML-P4-03/blob/main/V2_Project_SourceCode_P4_03.ipynb\" target=\"_parent\"><img src=\"https://colab.research.google.com/assets/colab-badge.svg\" alt=\"Open In Colab\"/></a>"
      ]
    },
    {
      "cell_type": "markdown",
      "source": [
        "#Load CSV, Classify Data and Re-arrange Data"
      ],
      "metadata": {
        "id": "FDt-53Bz1BAu"
      }
    },
    {
      "cell_type": "code",
      "source": [
        "import pandas as pd\n",
        "import requests\n",
        "import numpy as np\n",
        "import matplotlib.pyplot as plt\n",
        "import seaborn as sns\n",
        "\n",
        "# Dataset ID\n",
        "dataset_id = \"d_3c55210de27fcccda2ed0c63fdd2b352\"\n",
        "\n",
        "# API URL for the dataset\n",
        "dataset_url = f\"https://data.gov.sg/api/action/datastore_search?resource_id={dataset_id}&limit=5000\"\n",
        "\n",
        "# Request data from the API\n",
        "response = requests.get(dataset_url)\n",
        "response.raise_for_status()  # Ensure the request was successful\n",
        "\n",
        "# Convert response to JSON\n",
        "data = response.json()\n",
        "\n",
        "# Extract records\n",
        "if 'result' in data and 'records' in data['result']:\n",
        "    df_ges1 = pd.DataFrame(data['result']['records'])\n",
        "    df_ges1 = df_ges1.drop(columns=['_id'], errors='ignore')\n",
        "    df_ges2 = df_ges1.copy() #df_ges2 will be the DataFrame we will be manipulating\n",
        "    print(\"DataFrame ges 1 (R , C):\", df_ges1.shape)  # Print shape to verify\n",
        "    print(\"DataFrame ges 2 (R , C):\", df_ges2.shape)  # Print shape to verify\n",
        "else:\n",
        "    print(\"No records found in the dataset.\")\n",
        "\n",
        "# dataset_1 = 'https://raw.githubusercontent.com/cheonghf/ML-P4-03/refs/heads/main/GraduateEmploymentSurveyNTUNUSSITSMUSUSSSUTD.csv'\n",
        "# df_ges1 = pd.read_csv(dataset_1)\n",
        "# https://data.gov.sg/datasets/d_3c55210de27fcccda2ed0c63fdd2b352/view?dataExplorerPage=2"
      ],
      "metadata": {
        "colab": {
          "base_uri": "https://localhost:8080/"
        },
        "id": "hLSoz5uNd38I",
        "outputId": "576fb99e-e25b-408b-aa48-bae8ed6205f2"
      },
      "execution_count": 137,
      "outputs": [
        {
          "output_type": "stream",
          "name": "stdout",
          "text": [
            "DataFrame ges 1 (R , C): (1262, 12)\n",
            "DataFrame ges 2 (R , C): (1262, 12)\n"
          ]
        }
      ]
    },
    {
      "cell_type": "code",
      "source": [
        "# Define clusters based on degree names\n",
        "def classify_degree(degree):\n",
        "    engineering_keywords = ['Engineering', 'Material Science', 'Mechanical', 'Electrical', 'Civil', 'Aerospace', 'Bioengineering']\n",
        "    it_keywords = ['Computing', 'Computer Science', 'Information Systems', 'Software', 'Cybersecurity', 'Data Science']\n",
        "    science_keywords = ['Science', 'Physics', 'Mathematics', 'Chemistry', 'Biological', 'Pharmacy', 'Life Sciences']\n",
        "    business_keywords = ['Business', 'Finance', 'Accountancy', 'Economics', 'Management', 'Marketing']\n",
        "    arts_keywords = ['Arts', 'Design', 'Music', 'Theatre', 'Performing', 'Linguistics', 'Philosophy', 'History', 'Literature']\n",
        "\n",
        "    degree_lower = degree.lower()\n",
        "\n",
        "    if any(keyword.lower() in degree_lower for keyword in engineering_keywords):\n",
        "        return 'Engineering'\n",
        "    elif any(keyword.lower() in degree_lower for keyword in it_keywords):\n",
        "        return 'Information Technology'\n",
        "    elif any(keyword.lower() in degree_lower for keyword in science_keywords):\n",
        "        return 'Science'\n",
        "    elif any(keyword.lower() in degree_lower for keyword in business_keywords):\n",
        "        return 'Business'\n",
        "    elif any(keyword.lower() in degree_lower for keyword in arts_keywords):\n",
        "        return 'Arts'\n",
        "    else:\n",
        "        return 'Others'\n",
        "\n",
        "# Apply classification to the dataset\n",
        "df_ges2['degree_cluster'] = df_ges2['degree'].apply(classify_degree)\n",
        "print(\"Updated DataFrame ges 2 (R , C):\",df_ges2.shape)\n",
        "print(\"\")\n",
        "print(\"DataType of DataFrame ges 2:\")\n",
        "print(df_ges2.dtypes)"
      ],
      "metadata": {
        "colab": {
          "base_uri": "https://localhost:8080/"
        },
        "id": "hBN_J_RWmkZI",
        "outputId": "f1070b9f-68c8-4380-a243-812dd0d995e2"
      },
      "execution_count": 138,
      "outputs": [
        {
          "output_type": "stream",
          "name": "stdout",
          "text": [
            "Updated DataFrame ges 2 (R , C): (1262, 13)\n",
            "\n",
            "DataType of DataFrame ges 2:\n",
            "year                         object\n",
            "university                   object\n",
            "school                       object\n",
            "degree                       object\n",
            "employment_rate_overall      object\n",
            "employment_rate_ft_perm      object\n",
            "basic_monthly_mean           object\n",
            "basic_monthly_median         object\n",
            "gross_monthly_mean           object\n",
            "gross_monthly_median         object\n",
            "gross_mthly_25_percentile    object\n",
            "gross_mthly_75_percentile    object\n",
            "degree_cluster               object\n",
            "dtype: object\n"
          ]
        }
      ]
    },
    {
      "cell_type": "code",
      "source": [
        "columns_to_convert = [\n",
        "    \"employment_rate_overall\", \"employment_rate_ft_perm\",\n",
        "    \"basic_monthly_mean\", \"basic_monthly_median\",\n",
        "    \"gross_monthly_mean\", \"gross_monthly_median\",\n",
        "    \"gross_mthly_25_percentile\", \"gross_mthly_75_percentile\"\n",
        "]\n",
        "\n",
        "for column in columns_to_convert:\n",
        "    # Replace commas or other problematic characters if needed\n",
        "    df_ges2[column] = df_ges2[column].astype(str).str.replace(',', '')\n",
        "\n",
        "    # Remove leading/trailing whitespace\n",
        "    df_ges2[column] = df_ges2[column].str.strip()\n",
        "\n",
        "    # Convert to numeric\n",
        "    df_ges2[column] = pd.to_numeric(df_ges1[column], errors='coerce')\n",
        "\n",
        "# Check if conversion worked\n",
        "print(\"Reconfirm DataFrame ges 2 (R , C):\", df_ges2.shape)\n",
        "print(\"\")\n",
        "print(\"Updated DataType of DataFrame ges 2:\")\n",
        "print(df_ges2.dtypes)"
      ],
      "metadata": {
        "colab": {
          "base_uri": "https://localhost:8080/"
        },
        "id": "XBCvjyrctRlp",
        "outputId": "9165ada9-a0ae-49d3-f4cd-22cfa8bc32e7"
      },
      "execution_count": 139,
      "outputs": [
        {
          "output_type": "stream",
          "name": "stdout",
          "text": [
            "Reconfirm DataFrame ges 2 (R , C): (1262, 13)\n",
            "\n",
            "Updated DataType of DataFrame ges 2:\n",
            "year                          object\n",
            "university                    object\n",
            "school                        object\n",
            "degree                        object\n",
            "employment_rate_overall      float64\n",
            "employment_rate_ft_perm      float64\n",
            "basic_monthly_mean           float64\n",
            "basic_monthly_median         float64\n",
            "gross_monthly_mean           float64\n",
            "gross_monthly_median         float64\n",
            "gross_mthly_25_percentile    float64\n",
            "gross_mthly_75_percentile    float64\n",
            "degree_cluster                object\n",
            "dtype: object\n"
          ]
        }
      ]
    },
    {
      "cell_type": "code",
      "source": [
        "# Grouping by year, university, and degree classification while removing unnecessary columns\n",
        "df_ges2 = df_ges2.drop(columns=['school', 'degree']).groupby(['year', 'degree_cluster', 'university', ]).mean().reset_index()\n",
        "\n",
        "# Check if grouping worked\n",
        "print(\"Updated DataFrame ges 2 (R , C):\", df_ges2.shape)\n",
        "print(\"\")\n",
        "print(\"Reconfirm DataType of DataFrame ges 2:\")\n",
        "print(df_ges2.dtypes)"
      ],
      "metadata": {
        "colab": {
          "base_uri": "https://localhost:8080/"
        },
        "id": "uVYDBtjis_cZ",
        "outputId": "902c7776-643d-4450-c02d-9f326e34a2cc"
      },
      "execution_count": 140,
      "outputs": [
        {
          "output_type": "stream",
          "name": "stdout",
          "text": [
            "Updated DataFrame ges 2 (R , C): (237, 11)\n",
            "\n",
            "Reconfirm DataType of DataFrame ges 2:\n",
            "year                          object\n",
            "degree_cluster                object\n",
            "university                    object\n",
            "employment_rate_overall      float64\n",
            "employment_rate_ft_perm      float64\n",
            "basic_monthly_mean           float64\n",
            "basic_monthly_median         float64\n",
            "gross_monthly_mean           float64\n",
            "gross_monthly_median         float64\n",
            "gross_mthly_25_percentile    float64\n",
            "gross_mthly_75_percentile    float64\n",
            "dtype: object\n"
          ]
        }
      ]
    },
    {
      "cell_type": "markdown",
      "source": [
        "#Re-Check for Null Values in DataFrame, Replace str 'Na' with Null and Remove Null Values"
      ],
      "metadata": {
        "id": "7Nr3eEai1F1N"
      }
    },
    {
      "cell_type": "code",
      "source": [
        "# Copy ges1 DataFrame into another DataFrame\n",
        "df_ges2_clean = df_ges2[:]\n",
        "\n",
        "print(\"DataFrame ges 2 (R , C):\", df_ges2.shape)  # Print shape to verify\n",
        "print(\"DataFrame ges 2 CLEAN (R , C):\", df_ges2_clean.shape)  # Print shape to verify\n",
        "print(\"\")\n",
        "print(\"Check for Null: BEFORE Replacing Potential na strings with Null values\")\n",
        "df_ges2_clean.isnull().sum(axis=0)"
      ],
      "metadata": {
        "colab": {
          "base_uri": "https://localhost:8080/",
          "height": 498
        },
        "id": "wi3koc4V1UUg",
        "outputId": "e3d88871-6047-4c63-dab0-21103fd0ed0b"
      },
      "execution_count": 141,
      "outputs": [
        {
          "output_type": "stream",
          "name": "stdout",
          "text": [
            "DataFrame ges 2 (R , C): (237, 11)\n",
            "DataFrame ges 2 CLEAN (R , C): (237, 11)\n",
            "\n",
            "Check for Null: BEFORE Replacing Potential na strings with Null values\n"
          ]
        },
        {
          "output_type": "execute_result",
          "data": {
            "text/plain": [
              "year                         0\n",
              "degree_cluster               0\n",
              "university                   0\n",
              "employment_rate_overall      3\n",
              "employment_rate_ft_perm      3\n",
              "basic_monthly_mean           3\n",
              "basic_monthly_median         3\n",
              "gross_monthly_mean           3\n",
              "gross_monthly_median         3\n",
              "gross_mthly_25_percentile    3\n",
              "gross_mthly_75_percentile    3\n",
              "dtype: int64"
            ],
            "text/html": [
              "<div>\n",
              "<style scoped>\n",
              "    .dataframe tbody tr th:only-of-type {\n",
              "        vertical-align: middle;\n",
              "    }\n",
              "\n",
              "    .dataframe tbody tr th {\n",
              "        vertical-align: top;\n",
              "    }\n",
              "\n",
              "    .dataframe thead th {\n",
              "        text-align: right;\n",
              "    }\n",
              "</style>\n",
              "<table border=\"1\" class=\"dataframe\">\n",
              "  <thead>\n",
              "    <tr style=\"text-align: right;\">\n",
              "      <th></th>\n",
              "      <th>0</th>\n",
              "    </tr>\n",
              "  </thead>\n",
              "  <tbody>\n",
              "    <tr>\n",
              "      <th>year</th>\n",
              "      <td>0</td>\n",
              "    </tr>\n",
              "    <tr>\n",
              "      <th>degree_cluster</th>\n",
              "      <td>0</td>\n",
              "    </tr>\n",
              "    <tr>\n",
              "      <th>university</th>\n",
              "      <td>0</td>\n",
              "    </tr>\n",
              "    <tr>\n",
              "      <th>employment_rate_overall</th>\n",
              "      <td>3</td>\n",
              "    </tr>\n",
              "    <tr>\n",
              "      <th>employment_rate_ft_perm</th>\n",
              "      <td>3</td>\n",
              "    </tr>\n",
              "    <tr>\n",
              "      <th>basic_monthly_mean</th>\n",
              "      <td>3</td>\n",
              "    </tr>\n",
              "    <tr>\n",
              "      <th>basic_monthly_median</th>\n",
              "      <td>3</td>\n",
              "    </tr>\n",
              "    <tr>\n",
              "      <th>gross_monthly_mean</th>\n",
              "      <td>3</td>\n",
              "    </tr>\n",
              "    <tr>\n",
              "      <th>gross_monthly_median</th>\n",
              "      <td>3</td>\n",
              "    </tr>\n",
              "    <tr>\n",
              "      <th>gross_mthly_25_percentile</th>\n",
              "      <td>3</td>\n",
              "    </tr>\n",
              "    <tr>\n",
              "      <th>gross_mthly_75_percentile</th>\n",
              "      <td>3</td>\n",
              "    </tr>\n",
              "  </tbody>\n",
              "</table>\n",
              "</div><br><label><b>dtype:</b> int64</label>"
            ]
          },
          "metadata": {},
          "execution_count": 141
        }
      ]
    },
    {
      "cell_type": "code",
      "source": [
        "# Replace the string 'na' with actual NaN (np.nan)\n",
        "df_ges2_clean.replace('na', np.nan, inplace=True)\n",
        "\n",
        "# Count NaN values in each column\n",
        "na_counts = df_ges2_clean.isna().sum()\n",
        "\n",
        "print(\"DataFrame ges 2 CLEAN (R , C):\", df_ges2_clean.shape)  # Print shape to verify\n",
        "print(\"\")\n",
        "print(\"Check for Null: AFTER Replacing Potential na strings with Null values\")\n",
        "print(na_counts)"
      ],
      "metadata": {
        "colab": {
          "base_uri": "https://localhost:8080/"
        },
        "id": "VBnYVDgC1MBG",
        "outputId": "ff2f7733-3566-4b62-bf59-11c647633343"
      },
      "execution_count": 142,
      "outputs": [
        {
          "output_type": "stream",
          "name": "stdout",
          "text": [
            "DataFrame ges 2 CLEAN (R , C): (237, 11)\n",
            "\n",
            "Check for Null: AFTER Replacing Potential na strings with Null values\n",
            "year                         0\n",
            "degree_cluster               0\n",
            "university                   0\n",
            "employment_rate_overall      3\n",
            "employment_rate_ft_perm      3\n",
            "basic_monthly_mean           3\n",
            "basic_monthly_median         3\n",
            "gross_monthly_mean           3\n",
            "gross_monthly_median         3\n",
            "gross_mthly_25_percentile    3\n",
            "gross_mthly_75_percentile    3\n",
            "dtype: int64\n"
          ]
        }
      ]
    },
    {
      "cell_type": "code",
      "source": [
        "# Remove rows with any NaN values\n",
        "df_ges2_clean = df_ges2_clean.dropna()\n",
        "\n",
        "# Check if Null Cleaning worked\n",
        "print(\"Final Cleaned DataFrame ges 2 (R , C):\", df_ges2_clean.shape)\n",
        "print(\"\")\n",
        "print(\"Final Cleaned DataType of DataFrame ges 2:\")\n",
        "print(df_ges2_clean.isnull().sum(axis=0))"
      ],
      "metadata": {
        "colab": {
          "base_uri": "https://localhost:8080/"
        },
        "id": "CFfYgW_o1n5O",
        "outputId": "447cd5e4-813e-46d8-ffbe-77f22d8ff29f"
      },
      "execution_count": 143,
      "outputs": [
        {
          "output_type": "stream",
          "name": "stdout",
          "text": [
            "Final Cleaned DataFrame ges 2 (R , C): (234, 11)\n",
            "\n",
            "Final Cleaned DataType of DataFrame ges 2:\n",
            "year                         0\n",
            "degree_cluster               0\n",
            "university                   0\n",
            "employment_rate_overall      0\n",
            "employment_rate_ft_perm      0\n",
            "basic_monthly_mean           0\n",
            "basic_monthly_median         0\n",
            "gross_monthly_mean           0\n",
            "gross_monthly_median         0\n",
            "gross_mthly_25_percentile    0\n",
            "gross_mthly_75_percentile    0\n",
            "dtype: int64\n"
          ]
        }
      ]
    },
    {
      "cell_type": "markdown",
      "source": [
        "#Making Sense of the Data"
      ],
      "metadata": {
        "id": "25a9NLTS5YdX"
      }
    },
    {
      "cell_type": "code",
      "source": [
        "df_ges2_clean.to_csv(\"my_data.csv\", index=False)"
      ],
      "metadata": {
        "id": "TDD1-9B_5ej1"
      },
      "execution_count": 144,
      "outputs": []
    },
    {
      "cell_type": "markdown",
      "source": [
        "#AFTER"
      ],
      "metadata": {
        "id": "HprE6CHCmjKT"
      }
    },
    {
      "cell_type": "code",
      "source": [
        "#Extract NTU and NUS DataFrames respectively\n",
        "df_clean_ges_ntu = df_clean_ges.loc[df_clean_ges['university'] == 'Nanyang Technological University']\n",
        "df_clean_ges_nus = df_clean_ges.loc[df_clean_ges['university'] == 'National University of Singapore']\n",
        "\n",
        "# Group by year and school cluster (college level)\n",
        "df_ntu_grouped = df_clean_ges_ntu.groupby(['year', 'university', 'school']).mean(numeric_only=True).reset_index()\n",
        "df_nus_grouped = df_clean_ges_nus.groupby(['year', 'university', 'school']).mean(numeric_only=True).reset_index()"
      ],
      "metadata": {
        "id": "5i8idIhjAwHh"
      },
      "execution_count": 21,
      "outputs": []
    },
    {
      "cell_type": "code",
      "source": [
        "df_ntu_grouped.school.value_counts()"
      ],
      "metadata": {
        "colab": {
          "base_uri": "https://localhost:8080/",
          "height": 366
        },
        "id": "SMP-QokJ4K1E",
        "outputId": "9f437aa5-6697-4b0d-a3a7-5e2fa18d9a62"
      },
      "execution_count": 19,
      "outputs": [
        {
          "output_type": "execute_result",
          "data": {
            "text/plain": [
              "school\n",
              "College of Business (Nanyang Business School)    10\n",
              "College of Engineering                           10\n",
              "National Institute of Education (NIE)            10\n",
              "College of Humanities, Arts & Social Sciences     9\n",
              "College of Sciences                               7\n",
              "Sports Science and Management                     6\n",
              "Lee Kong Chian School of Medicine                 5\n",
              "College of Science                                3\n",
              "Name: count, dtype: int64"
            ],
            "text/html": [
              "<div>\n",
              "<style scoped>\n",
              "    .dataframe tbody tr th:only-of-type {\n",
              "        vertical-align: middle;\n",
              "    }\n",
              "\n",
              "    .dataframe tbody tr th {\n",
              "        vertical-align: top;\n",
              "    }\n",
              "\n",
              "    .dataframe thead th {\n",
              "        text-align: right;\n",
              "    }\n",
              "</style>\n",
              "<table border=\"1\" class=\"dataframe\">\n",
              "  <thead>\n",
              "    <tr style=\"text-align: right;\">\n",
              "      <th></th>\n",
              "      <th>count</th>\n",
              "    </tr>\n",
              "    <tr>\n",
              "      <th>school</th>\n",
              "      <th></th>\n",
              "    </tr>\n",
              "  </thead>\n",
              "  <tbody>\n",
              "    <tr>\n",
              "      <th>College of Business (Nanyang Business School)</th>\n",
              "      <td>10</td>\n",
              "    </tr>\n",
              "    <tr>\n",
              "      <th>College of Engineering</th>\n",
              "      <td>10</td>\n",
              "    </tr>\n",
              "    <tr>\n",
              "      <th>National Institute of Education (NIE)</th>\n",
              "      <td>10</td>\n",
              "    </tr>\n",
              "    <tr>\n",
              "      <th>College of Humanities, Arts &amp; Social Sciences</th>\n",
              "      <td>9</td>\n",
              "    </tr>\n",
              "    <tr>\n",
              "      <th>College of Sciences</th>\n",
              "      <td>7</td>\n",
              "    </tr>\n",
              "    <tr>\n",
              "      <th>Sports Science and Management</th>\n",
              "      <td>6</td>\n",
              "    </tr>\n",
              "    <tr>\n",
              "      <th>Lee Kong Chian School of Medicine</th>\n",
              "      <td>5</td>\n",
              "    </tr>\n",
              "    <tr>\n",
              "      <th>College of Science</th>\n",
              "      <td>3</td>\n",
              "    </tr>\n",
              "  </tbody>\n",
              "</table>\n",
              "</div><br><label><b>dtype:</b> int64</label>"
            ]
          },
          "metadata": {},
          "execution_count": 19
        }
      ]
    },
    {
      "cell_type": "code",
      "source": [
        "df_nus_grouped.school.value_counts()"
      ],
      "metadata": {
        "colab": {
          "base_uri": "https://localhost:8080/",
          "height": 742
        },
        "id": "XDv3lPgy4TK9",
        "outputId": "8256abe6-a028-4d8e-e871-1aaf62eec1a4"
      },
      "execution_count": 20,
      "outputs": [
        {
          "output_type": "execute_result",
          "data": {
            "text/plain": [
              "school\n",
              "Faculty of Arts & Social Sciences      10\n",
              "Faculty of Law                         10\n",
              "Faculty of Science                     10\n",
              "NUS Business School                    10\n",
              "School of Computing                    10\n",
              "School of Design & Environment          9\n",
              "Faculty of Dentistry                    8\n",
              "Faculty of Engineering                  7\n",
              "Yale-NUS College                        6\n",
              "Yong Loo Lin School (Medicine)          6\n",
              "Multi-Disciplinary Programmes           5\n",
              "Yong Siew Toh Conservatory of Music     5\n",
              "YLL School of Medicine                  4\n",
              "YST Conservatory of Music               4\n",
              "Multi-Disciplinary Programme            2\n",
              "Faculty Of Engineering                  2\n",
              "Faculty Of Dentistry                    2\n",
              "YST Conservatory Of Music               1\n",
              "Multidisciplinary Programmes            1\n",
              "College of Design and Engineering       1\n",
              "Name: count, dtype: int64"
            ],
            "text/html": [
              "<div>\n",
              "<style scoped>\n",
              "    .dataframe tbody tr th:only-of-type {\n",
              "        vertical-align: middle;\n",
              "    }\n",
              "\n",
              "    .dataframe tbody tr th {\n",
              "        vertical-align: top;\n",
              "    }\n",
              "\n",
              "    .dataframe thead th {\n",
              "        text-align: right;\n",
              "    }\n",
              "</style>\n",
              "<table border=\"1\" class=\"dataframe\">\n",
              "  <thead>\n",
              "    <tr style=\"text-align: right;\">\n",
              "      <th></th>\n",
              "      <th>count</th>\n",
              "    </tr>\n",
              "    <tr>\n",
              "      <th>school</th>\n",
              "      <th></th>\n",
              "    </tr>\n",
              "  </thead>\n",
              "  <tbody>\n",
              "    <tr>\n",
              "      <th>Faculty of Arts &amp; Social Sciences</th>\n",
              "      <td>10</td>\n",
              "    </tr>\n",
              "    <tr>\n",
              "      <th>Faculty of Law</th>\n",
              "      <td>10</td>\n",
              "    </tr>\n",
              "    <tr>\n",
              "      <th>Faculty of Science</th>\n",
              "      <td>10</td>\n",
              "    </tr>\n",
              "    <tr>\n",
              "      <th>NUS Business School</th>\n",
              "      <td>10</td>\n",
              "    </tr>\n",
              "    <tr>\n",
              "      <th>School of Computing</th>\n",
              "      <td>10</td>\n",
              "    </tr>\n",
              "    <tr>\n",
              "      <th>School of Design &amp; Environment</th>\n",
              "      <td>9</td>\n",
              "    </tr>\n",
              "    <tr>\n",
              "      <th>Faculty of Dentistry</th>\n",
              "      <td>8</td>\n",
              "    </tr>\n",
              "    <tr>\n",
              "      <th>Faculty of Engineering</th>\n",
              "      <td>7</td>\n",
              "    </tr>\n",
              "    <tr>\n",
              "      <th>Yale-NUS College</th>\n",
              "      <td>6</td>\n",
              "    </tr>\n",
              "    <tr>\n",
              "      <th>Yong Loo Lin School (Medicine)</th>\n",
              "      <td>6</td>\n",
              "    </tr>\n",
              "    <tr>\n",
              "      <th>Multi-Disciplinary Programmes</th>\n",
              "      <td>5</td>\n",
              "    </tr>\n",
              "    <tr>\n",
              "      <th>Yong Siew Toh Conservatory of Music</th>\n",
              "      <td>5</td>\n",
              "    </tr>\n",
              "    <tr>\n",
              "      <th>YLL School of Medicine</th>\n",
              "      <td>4</td>\n",
              "    </tr>\n",
              "    <tr>\n",
              "      <th>YST Conservatory of Music</th>\n",
              "      <td>4</td>\n",
              "    </tr>\n",
              "    <tr>\n",
              "      <th>Multi-Disciplinary Programme</th>\n",
              "      <td>2</td>\n",
              "    </tr>\n",
              "    <tr>\n",
              "      <th>Faculty Of Engineering</th>\n",
              "      <td>2</td>\n",
              "    </tr>\n",
              "    <tr>\n",
              "      <th>Faculty Of Dentistry</th>\n",
              "      <td>2</td>\n",
              "    </tr>\n",
              "    <tr>\n",
              "      <th>YST Conservatory Of Music</th>\n",
              "      <td>1</td>\n",
              "    </tr>\n",
              "    <tr>\n",
              "      <th>Multidisciplinary Programmes</th>\n",
              "      <td>1</td>\n",
              "    </tr>\n",
              "    <tr>\n",
              "      <th>College of Design and Engineering</th>\n",
              "      <td>1</td>\n",
              "    </tr>\n",
              "  </tbody>\n",
              "</table>\n",
              "</div><br><label><b>dtype:</b> int64</label>"
            ]
          },
          "metadata": {},
          "execution_count": 20
        }
      ]
    },
    {
      "cell_type": "code",
      "source": [
        "df_nus_grouped.dtypes"
      ],
      "metadata": {
        "colab": {
          "base_uri": "https://localhost:8080/",
          "height": 429
        },
        "id": "tdlDUuk5mlCI",
        "outputId": "51466f9b-bec8-479b-d2fb-7c581062f726"
      },
      "execution_count": 7,
      "outputs": [
        {
          "output_type": "execute_result",
          "data": {
            "text/plain": [
              "year                           int64\n",
              "university                    object\n",
              "school                        object\n",
              "employment_rate_overall      float64\n",
              "employment_rate_ft_perm      float64\n",
              "basic_monthly_mean           float64\n",
              "basic_monthly_median         float64\n",
              "gross_monthly_mean           float64\n",
              "gross_monthly_median         float64\n",
              "gross_mthly_25_percentile    float64\n",
              "gross_mthly_75_percentile    float64\n",
              "dtype: object"
            ],
            "text/html": [
              "<div>\n",
              "<style scoped>\n",
              "    .dataframe tbody tr th:only-of-type {\n",
              "        vertical-align: middle;\n",
              "    }\n",
              "\n",
              "    .dataframe tbody tr th {\n",
              "        vertical-align: top;\n",
              "    }\n",
              "\n",
              "    .dataframe thead th {\n",
              "        text-align: right;\n",
              "    }\n",
              "</style>\n",
              "<table border=\"1\" class=\"dataframe\">\n",
              "  <thead>\n",
              "    <tr style=\"text-align: right;\">\n",
              "      <th></th>\n",
              "      <th>0</th>\n",
              "    </tr>\n",
              "  </thead>\n",
              "  <tbody>\n",
              "    <tr>\n",
              "      <th>year</th>\n",
              "      <td>int64</td>\n",
              "    </tr>\n",
              "    <tr>\n",
              "      <th>university</th>\n",
              "      <td>object</td>\n",
              "    </tr>\n",
              "    <tr>\n",
              "      <th>school</th>\n",
              "      <td>object</td>\n",
              "    </tr>\n",
              "    <tr>\n",
              "      <th>employment_rate_overall</th>\n",
              "      <td>float64</td>\n",
              "    </tr>\n",
              "    <tr>\n",
              "      <th>employment_rate_ft_perm</th>\n",
              "      <td>float64</td>\n",
              "    </tr>\n",
              "    <tr>\n",
              "      <th>basic_monthly_mean</th>\n",
              "      <td>float64</td>\n",
              "    </tr>\n",
              "    <tr>\n",
              "      <th>basic_monthly_median</th>\n",
              "      <td>float64</td>\n",
              "    </tr>\n",
              "    <tr>\n",
              "      <th>gross_monthly_mean</th>\n",
              "      <td>float64</td>\n",
              "    </tr>\n",
              "    <tr>\n",
              "      <th>gross_monthly_median</th>\n",
              "      <td>float64</td>\n",
              "    </tr>\n",
              "    <tr>\n",
              "      <th>gross_mthly_25_percentile</th>\n",
              "      <td>float64</td>\n",
              "    </tr>\n",
              "    <tr>\n",
              "      <th>gross_mthly_75_percentile</th>\n",
              "      <td>float64</td>\n",
              "    </tr>\n",
              "  </tbody>\n",
              "</table>\n",
              "</div><br><label><b>dtype:</b> object</label>"
            ]
          },
          "metadata": {},
          "execution_count": 7
        }
      ]
    }
  ]
}