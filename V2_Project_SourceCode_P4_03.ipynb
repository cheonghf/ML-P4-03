{
  "nbformat": 4,
  "nbformat_minor": 0,
  "metadata": {
    "colab": {
      "provenance": [],
      "authorship_tag": "ABX9TyNcLUi2GJJ05wf7AsifZr+5",
      "include_colab_link": true
    },
    "kernelspec": {
      "name": "python3",
      "display_name": "Python 3"
    },
    "language_info": {
      "name": "python"
    }
  },
  "cells": [
    {
      "cell_type": "markdown",
      "metadata": {
        "id": "view-in-github",
        "colab_type": "text"
      },
      "source": [
        "<a href=\"https://colab.research.google.com/github/cheonghf/ML-P4-03/blob/main/V2_Project_SourceCode_P4_03.ipynb\" target=\"_parent\"><img src=\"https://colab.research.google.com/assets/colab-badge.svg\" alt=\"Open In Colab\"/></a>"
      ]
    },
    {
      "cell_type": "code",
      "execution_count": 113,
      "metadata": {
        "id": "f5utxj1dFU-7"
      },
      "outputs": [],
      "source": [
        "import pandas as pd\n",
        "import numpy as np\n",
        "import matplotlib.pyplot as plt\n",
        "import seaborn as sns\n",
        "\n",
        "# Load the dataset data = pd.read_csv(\"/content/GraduateEmploymentSurveyNTUNUSSITSMUSUSSSUTD.csv\")\n",
        "dataset_1 = 'https://raw.githubusercontent.com/cheonghf/ML-P4-03/refs/heads/main/GraduateEmploymentSurveyNTUNUSSITSMUSUSSSUTD.csv'\n",
        "\n",
        "df_ges1 = pd.read_csv(dataset_1)"
      ]
    },
    {
      "cell_type": "code",
      "source": [
        "# Replace the string 'na' with actual NaN (np.nan)\n",
        "df_ges1.replace('na', np.nan, inplace=True)\n",
        "\n",
        "# Count NaN values in each column\n",
        "na_counts = df_ges1.isna().sum()\n",
        "\n",
        "# Print the result\n",
        "print(na_counts)"
      ],
      "metadata": {
        "id": "56XV24PuF2pD"
      },
      "execution_count": null,
      "outputs": []
    },
    {
      "cell_type": "code",
      "source": [
        "# Remove rows with any NaN values\n",
        "df_ges1.dropna()\n",
        "\n",
        "# Copy ges1 DataFrame into another DataFrame\n",
        "df_clean_ges = df_ges1[:]"
      ],
      "metadata": {
        "id": "mv0I1BpYF5h_"
      },
      "execution_count": 115,
      "outputs": []
    },
    {
      "cell_type": "code",
      "source": [
        "columns_to_convert = [\n",
        "    \"employment_rate_overall\", \"employment_rate_ft_perm\",\n",
        "    \"basic_monthly_mean\", \"basic_monthly_median\",\n",
        "    \"gross_monthly_mean\", \"gross_monthly_median\",\n",
        "    \"gross_mthly_25_percentile\", \"gross_mthly_75_percentile\"\n",
        "]\n",
        "\n",
        "for column in columns_to_convert:\n",
        "    # Replace commas or other problematic characters if needed\n",
        "    df_clean_ges[column] = df_clean_ges[column].astype(str).str.replace(',', '')\n",
        "\n",
        "    # Remove leading/trailing whitespace\n",
        "    df_clean_ges[column] = df_clean_ges[column].str.strip()\n",
        "\n",
        "    # Convert to numeric\n",
        "    df_clean_ges[column] = pd.to_numeric(df_clean_ges[column], errors='coerce')\n",
        "\n",
        "# Check if conversion worked\n",
        "print(df_clean_ges.dtypes)"
      ],
      "metadata": {
        "id": "nHy2aCD-T9z6"
      },
      "execution_count": null,
      "outputs": []
    },
    {
      "cell_type": "code",
      "source": [
        "#Extract NTU and NUS DataFrames respectively\n",
        "df_clean_ges_ntu = df_clean_ges.loc[df_clean_ges['university'] == 'Nanyang Technological University']\n",
        "df_clean_ges_nus = df_clean_ges.loc[df_clean_ges['university'] == 'National University of Singapore']\n",
        "\n",
        "# Group by year and school cluster (college level)\n",
        "df_ntu_grouped = df_clean_ges_ntu.groupby(['year', 'university', 'school']).mean(numeric_only=True).reset_index()\n",
        "df_nus_grouped = df_clean_ges_nus.groupby(['year', 'university', 'school']).mean(numeric_only=True).reset_index()"
      ],
      "metadata": {
        "id": "5i8idIhjAwHh"
      },
      "execution_count": 122,
      "outputs": []
    },
    {
      "cell_type": "code",
      "source": [
        "print(df_ntu_grouped)"
      ],
      "metadata": {
        "id": "VqwW6n9lRHtY"
      },
      "execution_count": null,
      "outputs": []
    },
    {
      "cell_type": "code",
      "source": [
        "df_ntu_grouped.dtypes"
      ],
      "metadata": {
        "colab": {
          "base_uri": "https://localhost:8080/",
          "height": 429
        },
        "id": "tdlDUuk5mlCI",
        "outputId": "66051e2c-673e-4e52-85a4-1ffa7ed518df"
      },
      "execution_count": 120,
      "outputs": [
        {
          "output_type": "execute_result",
          "data": {
            "text/plain": [
              "year                           int64\n",
              "university                    object\n",
              "school                        object\n",
              "employment_rate_overall      float64\n",
              "employment_rate_ft_perm      float64\n",
              "basic_monthly_mean           float64\n",
              "basic_monthly_median         float64\n",
              "gross_monthly_mean           float64\n",
              "gross_monthly_median         float64\n",
              "gross_mthly_25_percentile    float64\n",
              "gross_mthly_75_percentile    float64\n",
              "dtype: object"
            ],
            "text/html": [
              "<div>\n",
              "<style scoped>\n",
              "    .dataframe tbody tr th:only-of-type {\n",
              "        vertical-align: middle;\n",
              "    }\n",
              "\n",
              "    .dataframe tbody tr th {\n",
              "        vertical-align: top;\n",
              "    }\n",
              "\n",
              "    .dataframe thead th {\n",
              "        text-align: right;\n",
              "    }\n",
              "</style>\n",
              "<table border=\"1\" class=\"dataframe\">\n",
              "  <thead>\n",
              "    <tr style=\"text-align: right;\">\n",
              "      <th></th>\n",
              "      <th>0</th>\n",
              "    </tr>\n",
              "  </thead>\n",
              "  <tbody>\n",
              "    <tr>\n",
              "      <th>year</th>\n",
              "      <td>int64</td>\n",
              "    </tr>\n",
              "    <tr>\n",
              "      <th>university</th>\n",
              "      <td>object</td>\n",
              "    </tr>\n",
              "    <tr>\n",
              "      <th>school</th>\n",
              "      <td>object</td>\n",
              "    </tr>\n",
              "    <tr>\n",
              "      <th>employment_rate_overall</th>\n",
              "      <td>float64</td>\n",
              "    </tr>\n",
              "    <tr>\n",
              "      <th>employment_rate_ft_perm</th>\n",
              "      <td>float64</td>\n",
              "    </tr>\n",
              "    <tr>\n",
              "      <th>basic_monthly_mean</th>\n",
              "      <td>float64</td>\n",
              "    </tr>\n",
              "    <tr>\n",
              "      <th>basic_monthly_median</th>\n",
              "      <td>float64</td>\n",
              "    </tr>\n",
              "    <tr>\n",
              "      <th>gross_monthly_mean</th>\n",
              "      <td>float64</td>\n",
              "    </tr>\n",
              "    <tr>\n",
              "      <th>gross_monthly_median</th>\n",
              "      <td>float64</td>\n",
              "    </tr>\n",
              "    <tr>\n",
              "      <th>gross_mthly_25_percentile</th>\n",
              "      <td>float64</td>\n",
              "    </tr>\n",
              "    <tr>\n",
              "      <th>gross_mthly_75_percentile</th>\n",
              "      <td>float64</td>\n",
              "    </tr>\n",
              "  </tbody>\n",
              "</table>\n",
              "</div><br><label><b>dtype:</b> object</label>"
            ]
          },
          "metadata": {},
          "execution_count": 120
        }
      ]
    }
  ]
}