{
  "nbformat": 4,
  "nbformat_minor": 0,
  "metadata": {
    "colab": {
      "provenance": [],
      "authorship_tag": "ABX9TyMrn+GDpAyGcFLHbZrvKvMa",
      "include_colab_link": true
    },
    "kernelspec": {
      "name": "python3",
      "display_name": "Python 3"
    },
    "language_info": {
      "name": "python"
    }
  },
  "cells": [
    {
      "cell_type": "markdown",
      "metadata": {
        "id": "view-in-github",
        "colab_type": "text"
      },
      "source": [
        "<a href=\"https://colab.research.google.com/github/cheonghf/ML-P4-03/blob/main/V2_Project_SourceCode_P4_03.ipynb\" target=\"_parent\"><img src=\"https://colab.research.google.com/assets/colab-badge.svg\" alt=\"Open In Colab\"/></a>"
      ]
    },
    {
      "cell_type": "code",
      "execution_count": null,
      "metadata": {
        "id": "f5utxj1dFU-7"
      },
      "outputs": [],
      "source": [
        "import pandas as pd\n",
        "import numpy as np\n",
        "import matplotlib.pyplot as plt\n",
        "import seaborn as sns\n",
        "\n",
        "# Load the dataset data = pd.read_csv(\"/content/GraduateEmploymentSurveyNTUNUSSITSMUSUSSSUTD.csv\")\n",
        "dataset_1 = 'https://raw.githubusercontent.com/cheonghf/ML-P4-03/refs/heads/main/GraduateEmploymentSurveyNTUNUSSITSMUSUSSSUTD.csv'\n",
        "\n",
        "df_ges1 = pd.read_csv(dataset_1)"
      ]
    },
    {
      "cell_type": "code",
      "source": [
        "# Replace the string 'na' with actual NaN (np.nan)\n",
        "df_ges1.replace('na', np.nan, inplace=True)\n",
        "\n",
        "# Count NaN values in each column\n",
        "na_counts = df_ges1.isna().sum()\n",
        "\n",
        "# Print the result\n",
        "print(na_counts)"
      ],
      "metadata": {
        "id": "56XV24PuF2pD",
        "outputId": "ad46c0d4-ea39-4814-845c-e6d5e3c5823f",
        "colab": {
          "base_uri": "https://localhost:8080/"
        }
      },
      "execution_count": 6,
      "outputs": [
        {
          "output_type": "stream",
          "name": "stdout",
          "text": [
            "year                          0\n",
            "university                    0\n",
            "school                       32\n",
            "degree                        0\n",
            "employment_rate_overall      92\n",
            "employment_rate_ft_perm      92\n",
            "basic_monthly_mean           92\n",
            "basic_monthly_median         92\n",
            "gross_monthly_mean           92\n",
            "gross_monthly_median         92\n",
            "gross_mthly_25_percentile    92\n",
            "gross_mthly_75_percentile    92\n",
            "dtype: int64\n"
          ]
        }
      ]
    },
    {
      "cell_type": "code",
      "source": [
        "# Remove rows with any NaN values\n",
        "df_clean_ges = df_ges1.dropna()"
      ],
      "metadata": {
        "id": "mv0I1BpYF5h_"
      },
      "execution_count": 7,
      "outputs": []
    },
    {
      "cell_type": "code",
      "source": [
        "df_clean_ges_ntu = df_clean_ges[:, ['Nanyang Technological University']]"
      ],
      "metadata": {
        "id": "5i8idIhjAwHh",
        "outputId": "82993b88-b0b0-47c1-acb8-d6a267e2c4e6",
        "colab": {
          "base_uri": "https://localhost:8080/",
          "height": 141
        }
      },
      "execution_count": 1,
      "outputs": [
        {
          "output_type": "error",
          "ename": "NameError",
          "evalue": "name 'df_clean_ges' is not defined",
          "traceback": [
            "\u001b[0;31m---------------------------------------------------------------------------\u001b[0m",
            "\u001b[0;31mNameError\u001b[0m                                 Traceback (most recent call last)",
            "\u001b[0;32m<ipython-input-1-2f0033270430>\u001b[0m in \u001b[0;36m<cell line: 0>\u001b[0;34m()\u001b[0m\n\u001b[0;32m----> 1\u001b[0;31m \u001b[0mdf_clean_ges_ntu\u001b[0m \u001b[0;34m=\u001b[0m \u001b[0mdf_clean_ges\u001b[0m\u001b[0;34m[\u001b[0m\u001b[0;34m:\u001b[0m\u001b[0;34m,\u001b[0m \u001b[0;34m[\u001b[0m\u001b[0;34m'Nanyang Technological University'\u001b[0m\u001b[0;34m]\u001b[0m\u001b[0;34m]\u001b[0m\u001b[0;34m\u001b[0m\u001b[0;34m\u001b[0m\u001b[0m\n\u001b[0m",
            "\u001b[0;31mNameError\u001b[0m: name 'df_clean_ges' is not defined"
          ]
        }
      ]
    }
  ]
}